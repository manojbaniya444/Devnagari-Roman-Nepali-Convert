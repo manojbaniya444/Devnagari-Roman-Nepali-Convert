{
 "cells": [
  {
   "cell_type": "code",
   "execution_count": 3,
   "metadata": {},
   "outputs": [
    {
     "name": "stdout",
     "output_type": "stream",
     "text": [
      "        unique_identifier     native word   english word\n",
      "0                    nep1    मुस्कुराउँदै   muskuraundai\n",
      "1                    nep2        मान्दछन्     mandachhan\n",
      "2                    nep3           भएझैं      bhaejhain\n",
      "3                    nep4          हराउँछ    haraaunchha\n",
      "4                    nep5          मुन्टो          munto\n",
      "...                   ...             ...            ...\n",
      "2397409        nep2397410  हाईड्रोलगायतमा  hydrolgayatma\n",
      "2397410        nep2397411       बेहरामलाई     beharamlai\n",
      "2397411        nep2397412        उल्चिचले      ulchichle\n",
      "2397412        nep2397413     प्रधानमात्र   pradhanmatra\n",
      "2397413        nep2397414        सूर्तामा        surtama\n",
      "\n",
      "[2397414 rows x 3 columns]\n"
     ]
    }
   ],
   "source": [
    "import pandas as pd\n",
    "\n",
    "# Read the Parquet file\n",
    "df = pd.read_parquet('./data/train-00000-of-00001.parquet')\n",
    "\n",
    "# Display the DataFrame\n",
    "print(df)\n",
    "\n",
    "# If you want to convert it to a CSV file\n",
    "df.to_csv('output.csv', index=False)"
   ]
  },
  {
   "cell_type": "code",
   "execution_count": 4,
   "metadata": {},
   "outputs": [],
   "source": [
    "df = pd.read_csv('output.csv')"
   ]
  },
  {
   "cell_type": "code",
   "execution_count": 5,
   "metadata": {},
   "outputs": [
    {
     "data": {
      "text/html": [
       "<div>\n",
       "<style scoped>\n",
       "    .dataframe tbody tr th:only-of-type {\n",
       "        vertical-align: middle;\n",
       "    }\n",
       "\n",
       "    .dataframe tbody tr th {\n",
       "        vertical-align: top;\n",
       "    }\n",
       "\n",
       "    .dataframe thead th {\n",
       "        text-align: right;\n",
       "    }\n",
       "</style>\n",
       "<table border=\"1\" class=\"dataframe\">\n",
       "  <thead>\n",
       "    <tr style=\"text-align: right;\">\n",
       "      <th></th>\n",
       "      <th>unique_identifier</th>\n",
       "      <th>native word</th>\n",
       "      <th>english word</th>\n",
       "    </tr>\n",
       "  </thead>\n",
       "  <tbody>\n",
       "    <tr>\n",
       "      <th>0</th>\n",
       "      <td>nep1</td>\n",
       "      <td>मुस्कुराउँदै</td>\n",
       "      <td>muskuraundai</td>\n",
       "    </tr>\n",
       "    <tr>\n",
       "      <th>1</th>\n",
       "      <td>nep2</td>\n",
       "      <td>मान्दछन्</td>\n",
       "      <td>mandachhan</td>\n",
       "    </tr>\n",
       "    <tr>\n",
       "      <th>2</th>\n",
       "      <td>nep3</td>\n",
       "      <td>भएझैं</td>\n",
       "      <td>bhaejhain</td>\n",
       "    </tr>\n",
       "    <tr>\n",
       "      <th>3</th>\n",
       "      <td>nep4</td>\n",
       "      <td>हराउँछ</td>\n",
       "      <td>haraaunchha</td>\n",
       "    </tr>\n",
       "    <tr>\n",
       "      <th>4</th>\n",
       "      <td>nep5</td>\n",
       "      <td>मुन्टो</td>\n",
       "      <td>munto</td>\n",
       "    </tr>\n",
       "  </tbody>\n",
       "</table>\n",
       "</div>"
      ],
      "text/plain": [
       "  unique_identifier   native word  english word\n",
       "0              nep1  मुस्कुराउँदै  muskuraundai\n",
       "1              nep2      मान्दछन्    mandachhan\n",
       "2              nep3         भएझैं     bhaejhain\n",
       "3              nep4        हराउँछ   haraaunchha\n",
       "4              nep5        मुन्टो         munto"
      ]
     },
     "execution_count": 5,
     "metadata": {},
     "output_type": "execute_result"
    }
   ],
   "source": [
    "df.head()"
   ]
  },
  {
   "cell_type": "code",
   "execution_count": 8,
   "metadata": {},
   "outputs": [
    {
     "data": {
      "text/plain": [
       "2397414"
      ]
     },
     "execution_count": 8,
     "metadata": {},
     "output_type": "execute_result"
    }
   ],
   "source": [
    "len(df)"
   ]
  },
  {
   "cell_type": "code",
   "execution_count": 13,
   "metadata": {},
   "outputs": [],
   "source": [
    "# Get the first 10,000 rows\n",
    "df_sample = df.head(50000)\n",
    "\n",
    "# Save the sample to a new CSV file\n",
    "df_sample.to_csv('mini_50000.csv', index=False)"
   ]
  }
 ],
 "metadata": {
  "kernelspec": {
   "display_name": "Python 3",
   "language": "python",
   "name": "python3"
  },
  "language_info": {
   "codemirror_mode": {
    "name": "ipython",
    "version": 3
   },
   "file_extension": ".py",
   "mimetype": "text/x-python",
   "name": "python",
   "nbconvert_exporter": "python",
   "pygments_lexer": "ipython3",
   "version": "3.12.1"
  }
 },
 "nbformat": 4,
 "nbformat_minor": 2
}
