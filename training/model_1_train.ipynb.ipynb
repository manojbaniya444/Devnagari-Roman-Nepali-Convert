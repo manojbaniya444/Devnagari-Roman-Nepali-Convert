{
 "cells": [
  {
   "cell_type": "code",
   "execution_count": 3,
   "metadata": {
    "executionInfo": {
     "elapsed": 3749,
     "status": "ok",
     "timestamp": 1733838097419,
     "user": {
      "displayName": "Manoj Baniya",
      "userId": "01713573044371624098"
     },
     "user_tz": -345
    },
    "id": "oxJiRaPQkhhH"
   },
   "outputs": [],
   "source": [
    "import tensorflow as tf\n",
    "import numpy as np\n",
    "import pandas as pd\n",
    "import matplotlib.pyplot as plt"
   ]
  },
  {
   "cell_type": "code",
   "execution_count": 4,
   "metadata": {
    "executionInfo": {
     "elapsed": 39,
     "status": "ok",
     "timestamp": 1733838097420,
     "user": {
      "displayName": "Manoj Baniya",
      "userId": "01713573044371624098"
     },
     "user_tz": -345
    },
    "id": "7eOxjNd6lOKI"
   },
   "outputs": [],
   "source": [
    "data = pd.read_csv(\"./mini_100000.csv\")"
   ]
  },
  {
   "cell_type": "code",
   "execution_count": 5,
   "metadata": {
    "colab": {
     "base_uri": "https://localhost:8080/",
     "height": 363
    },
    "executionInfo": {
     "elapsed": 40,
     "status": "ok",
     "timestamp": 1733838097421,
     "user": {
      "displayName": "Manoj Baniya",
      "userId": "01713573044371624098"
     },
     "user_tz": -345
    },
    "id": "n_HaTLW_lhQj",
    "outputId": "9a51ca05-2424-452b-929e-b8317b52f873"
   },
   "outputs": [
    {
     "data": {
      "application/vnd.google.colaboratory.intrinsic+json": {
       "summary": "{\n  \"name\": \"data\",\n  \"rows\": 10,\n  \"fields\": [\n    {\n      \"column\": \"unique_identifier\",\n      \"properties\": {\n        \"dtype\": \"string\",\n        \"num_unique_values\": 10,\n        \"samples\": [\n          \"nep1857\",\n          \"nep54520\",\n          \"nep38034\"\n        ],\n        \"semantic_type\": \"\",\n        \"description\": \"\"\n      }\n    },\n    {\n      \"column\": \"native word\",\n      \"properties\": {\n        \"dtype\": \"string\",\n        \"num_unique_values\": 10,\n        \"samples\": [\n          \"\\u0938\\u0941\\u0928\\u094d\\u0928\\u0941\",\n          \"\\u0915\\u0947\\u0935\\u0947\\u0924\\u0915\\u094b\",\n          \"\\u0909\\u0926\\u094d\\u092f\\u094b\\u0917\\u092a\\u0924\\u093f\\u0932\\u0917\\u093e\\u092f\\u0924\\u0932\\u0947\"\n        ],\n        \"semantic_type\": \"\",\n        \"description\": \"\"\n      }\n    },\n    {\n      \"column\": \"english word\",\n      \"properties\": {\n        \"dtype\": \"string\",\n        \"num_unique_values\": 10,\n        \"samples\": [\n          \"sunnu\",\n          \"kewetko\",\n          \"udyogpatilgayatle\"\n        ],\n        \"semantic_type\": \"\",\n        \"description\": \"\"\n      }\n    }\n  ]\n}",
       "type": "dataframe"
      },
      "text/html": [
       "\n",
       "  <div id=\"df-879521bf-573d-4615-8857-3eb35c67489f\" class=\"colab-df-container\">\n",
       "    <div>\n",
       "<style scoped>\n",
       "    .dataframe tbody tr th:only-of-type {\n",
       "        vertical-align: middle;\n",
       "    }\n",
       "\n",
       "    .dataframe tbody tr th {\n",
       "        vertical-align: top;\n",
       "    }\n",
       "\n",
       "    .dataframe thead th {\n",
       "        text-align: right;\n",
       "    }\n",
       "</style>\n",
       "<table border=\"1\" class=\"dataframe\">\n",
       "  <thead>\n",
       "    <tr style=\"text-align: right;\">\n",
       "      <th></th>\n",
       "      <th>unique_identifier</th>\n",
       "      <th>native word</th>\n",
       "      <th>english word</th>\n",
       "    </tr>\n",
       "  </thead>\n",
       "  <tbody>\n",
       "    <tr>\n",
       "      <th>60780</th>\n",
       "      <td>nep60781</td>\n",
       "      <td>गार्डेनले</td>\n",
       "      <td>gardenle</td>\n",
       "    </tr>\n",
       "    <tr>\n",
       "      <th>54519</th>\n",
       "      <td>nep54520</td>\n",
       "      <td>केवेतको</td>\n",
       "      <td>kewetko</td>\n",
       "    </tr>\n",
       "    <tr>\n",
       "      <th>10606</th>\n",
       "      <td>nep10607</td>\n",
       "      <td>तौलमात्रै</td>\n",
       "      <td>taulamatrai</td>\n",
       "    </tr>\n",
       "    <tr>\n",
       "      <th>5214</th>\n",
       "      <td>nep5215</td>\n",
       "      <td>टम्टा</td>\n",
       "      <td>tamta</td>\n",
       "    </tr>\n",
       "    <tr>\n",
       "      <th>42306</th>\n",
       "      <td>nep42307</td>\n",
       "      <td>कलशयात्री</td>\n",
       "      <td>kalshayatri</td>\n",
       "    </tr>\n",
       "    <tr>\n",
       "      <th>38033</th>\n",
       "      <td>nep38034</td>\n",
       "      <td>उद्योगपतिलगायतले</td>\n",
       "      <td>udyogpatilgayatle</td>\n",
       "    </tr>\n",
       "    <tr>\n",
       "      <th>43309</th>\n",
       "      <td>nep43310</td>\n",
       "      <td>गनजम</td>\n",
       "      <td>ganajam</td>\n",
       "    </tr>\n",
       "    <tr>\n",
       "      <th>48554</th>\n",
       "      <td>nep48555</td>\n",
       "      <td>श्रीविलास</td>\n",
       "      <td>srivilas</td>\n",
       "    </tr>\n",
       "    <tr>\n",
       "      <th>1856</th>\n",
       "      <td>nep1857</td>\n",
       "      <td>सुन्नु</td>\n",
       "      <td>sunnu</td>\n",
       "    </tr>\n",
       "    <tr>\n",
       "      <th>23476</th>\n",
       "      <td>nep23477</td>\n",
       "      <td>अर्दलीसम्म</td>\n",
       "      <td>ardalisamma</td>\n",
       "    </tr>\n",
       "  </tbody>\n",
       "</table>\n",
       "</div>\n",
       "    <div class=\"colab-df-buttons\">\n",
       "\n",
       "  <div class=\"colab-df-container\">\n",
       "    <button class=\"colab-df-convert\" onclick=\"convertToInteractive('df-879521bf-573d-4615-8857-3eb35c67489f')\"\n",
       "            title=\"Convert this dataframe to an interactive table.\"\n",
       "            style=\"display:none;\">\n",
       "\n",
       "  <svg xmlns=\"http://www.w3.org/2000/svg\" height=\"24px\" viewBox=\"0 -960 960 960\">\n",
       "    <path d=\"M120-120v-720h720v720H120Zm60-500h600v-160H180v160Zm220 220h160v-160H400v160Zm0 220h160v-160H400v160ZM180-400h160v-160H180v160Zm440 0h160v-160H620v160ZM180-180h160v-160H180v160Zm440 0h160v-160H620v160Z\"/>\n",
       "  </svg>\n",
       "    </button>\n",
       "\n",
       "  <style>\n",
       "    .colab-df-container {\n",
       "      display:flex;\n",
       "      gap: 12px;\n",
       "    }\n",
       "\n",
       "    .colab-df-convert {\n",
       "      background-color: #E8F0FE;\n",
       "      border: none;\n",
       "      border-radius: 50%;\n",
       "      cursor: pointer;\n",
       "      display: none;\n",
       "      fill: #1967D2;\n",
       "      height: 32px;\n",
       "      padding: 0 0 0 0;\n",
       "      width: 32px;\n",
       "    }\n",
       "\n",
       "    .colab-df-convert:hover {\n",
       "      background-color: #E2EBFA;\n",
       "      box-shadow: 0px 1px 2px rgba(60, 64, 67, 0.3), 0px 1px 3px 1px rgba(60, 64, 67, 0.15);\n",
       "      fill: #174EA6;\n",
       "    }\n",
       "\n",
       "    .colab-df-buttons div {\n",
       "      margin-bottom: 4px;\n",
       "    }\n",
       "\n",
       "    [theme=dark] .colab-df-convert {\n",
       "      background-color: #3B4455;\n",
       "      fill: #D2E3FC;\n",
       "    }\n",
       "\n",
       "    [theme=dark] .colab-df-convert:hover {\n",
       "      background-color: #434B5C;\n",
       "      box-shadow: 0px 1px 3px 1px rgba(0, 0, 0, 0.15);\n",
       "      filter: drop-shadow(0px 1px 2px rgba(0, 0, 0, 0.3));\n",
       "      fill: #FFFFFF;\n",
       "    }\n",
       "  </style>\n",
       "\n",
       "    <script>\n",
       "      const buttonEl =\n",
       "        document.querySelector('#df-879521bf-573d-4615-8857-3eb35c67489f button.colab-df-convert');\n",
       "      buttonEl.style.display =\n",
       "        google.colab.kernel.accessAllowed ? 'block' : 'none';\n",
       "\n",
       "      async function convertToInteractive(key) {\n",
       "        const element = document.querySelector('#df-879521bf-573d-4615-8857-3eb35c67489f');\n",
       "        const dataTable =\n",
       "          await google.colab.kernel.invokeFunction('convertToInteractive',\n",
       "                                                    [key], {});\n",
       "        if (!dataTable) return;\n",
       "\n",
       "        const docLinkHtml = 'Like what you see? Visit the ' +\n",
       "          '<a target=\"_blank\" href=https://colab.research.google.com/notebooks/data_table.ipynb>data table notebook</a>'\n",
       "          + ' to learn more about interactive tables.';\n",
       "        element.innerHTML = '';\n",
       "        dataTable['output_type'] = 'display_data';\n",
       "        await google.colab.output.renderOutput(dataTable, element);\n",
       "        const docLink = document.createElement('div');\n",
       "        docLink.innerHTML = docLinkHtml;\n",
       "        element.appendChild(docLink);\n",
       "      }\n",
       "    </script>\n",
       "  </div>\n",
       "\n",
       "\n",
       "<div id=\"df-fd76f732-ea20-4510-8257-7081b9518df9\">\n",
       "  <button class=\"colab-df-quickchart\" onclick=\"quickchart('df-fd76f732-ea20-4510-8257-7081b9518df9')\"\n",
       "            title=\"Suggest charts\"\n",
       "            style=\"display:none;\">\n",
       "\n",
       "<svg xmlns=\"http://www.w3.org/2000/svg\" height=\"24px\"viewBox=\"0 0 24 24\"\n",
       "     width=\"24px\">\n",
       "    <g>\n",
       "        <path d=\"M19 3H5c-1.1 0-2 .9-2 2v14c0 1.1.9 2 2 2h14c1.1 0 2-.9 2-2V5c0-1.1-.9-2-2-2zM9 17H7v-7h2v7zm4 0h-2V7h2v10zm4 0h-2v-4h2v4z\"/>\n",
       "    </g>\n",
       "</svg>\n",
       "  </button>\n",
       "\n",
       "<style>\n",
       "  .colab-df-quickchart {\n",
       "      --bg-color: #E8F0FE;\n",
       "      --fill-color: #1967D2;\n",
       "      --hover-bg-color: #E2EBFA;\n",
       "      --hover-fill-color: #174EA6;\n",
       "      --disabled-fill-color: #AAA;\n",
       "      --disabled-bg-color: #DDD;\n",
       "  }\n",
       "\n",
       "  [theme=dark] .colab-df-quickchart {\n",
       "      --bg-color: #3B4455;\n",
       "      --fill-color: #D2E3FC;\n",
       "      --hover-bg-color: #434B5C;\n",
       "      --hover-fill-color: #FFFFFF;\n",
       "      --disabled-bg-color: #3B4455;\n",
       "      --disabled-fill-color: #666;\n",
       "  }\n",
       "\n",
       "  .colab-df-quickchart {\n",
       "    background-color: var(--bg-color);\n",
       "    border: none;\n",
       "    border-radius: 50%;\n",
       "    cursor: pointer;\n",
       "    display: none;\n",
       "    fill: var(--fill-color);\n",
       "    height: 32px;\n",
       "    padding: 0;\n",
       "    width: 32px;\n",
       "  }\n",
       "\n",
       "  .colab-df-quickchart:hover {\n",
       "    background-color: var(--hover-bg-color);\n",
       "    box-shadow: 0 1px 2px rgba(60, 64, 67, 0.3), 0 1px 3px 1px rgba(60, 64, 67, 0.15);\n",
       "    fill: var(--button-hover-fill-color);\n",
       "  }\n",
       "\n",
       "  .colab-df-quickchart-complete:disabled,\n",
       "  .colab-df-quickchart-complete:disabled:hover {\n",
       "    background-color: var(--disabled-bg-color);\n",
       "    fill: var(--disabled-fill-color);\n",
       "    box-shadow: none;\n",
       "  }\n",
       "\n",
       "  .colab-df-spinner {\n",
       "    border: 2px solid var(--fill-color);\n",
       "    border-color: transparent;\n",
       "    border-bottom-color: var(--fill-color);\n",
       "    animation:\n",
       "      spin 1s steps(1) infinite;\n",
       "  }\n",
       "\n",
       "  @keyframes spin {\n",
       "    0% {\n",
       "      border-color: transparent;\n",
       "      border-bottom-color: var(--fill-color);\n",
       "      border-left-color: var(--fill-color);\n",
       "    }\n",
       "    20% {\n",
       "      border-color: transparent;\n",
       "      border-left-color: var(--fill-color);\n",
       "      border-top-color: var(--fill-color);\n",
       "    }\n",
       "    30% {\n",
       "      border-color: transparent;\n",
       "      border-left-color: var(--fill-color);\n",
       "      border-top-color: var(--fill-color);\n",
       "      border-right-color: var(--fill-color);\n",
       "    }\n",
       "    40% {\n",
       "      border-color: transparent;\n",
       "      border-right-color: var(--fill-color);\n",
       "      border-top-color: var(--fill-color);\n",
       "    }\n",
       "    60% {\n",
       "      border-color: transparent;\n",
       "      border-right-color: var(--fill-color);\n",
       "    }\n",
       "    80% {\n",
       "      border-color: transparent;\n",
       "      border-right-color: var(--fill-color);\n",
       "      border-bottom-color: var(--fill-color);\n",
       "    }\n",
       "    90% {\n",
       "      border-color: transparent;\n",
       "      border-bottom-color: var(--fill-color);\n",
       "    }\n",
       "  }\n",
       "</style>\n",
       "\n",
       "  <script>\n",
       "    async function quickchart(key) {\n",
       "      const quickchartButtonEl =\n",
       "        document.querySelector('#' + key + ' button');\n",
       "      quickchartButtonEl.disabled = true;  // To prevent multiple clicks.\n",
       "      quickchartButtonEl.classList.add('colab-df-spinner');\n",
       "      try {\n",
       "        const charts = await google.colab.kernel.invokeFunction(\n",
       "            'suggestCharts', [key], {});\n",
       "      } catch (error) {\n",
       "        console.error('Error during call to suggestCharts:', error);\n",
       "      }\n",
       "      quickchartButtonEl.classList.remove('colab-df-spinner');\n",
       "      quickchartButtonEl.classList.add('colab-df-quickchart-complete');\n",
       "    }\n",
       "    (() => {\n",
       "      let quickchartButtonEl =\n",
       "        document.querySelector('#df-fd76f732-ea20-4510-8257-7081b9518df9 button');\n",
       "      quickchartButtonEl.style.display =\n",
       "        google.colab.kernel.accessAllowed ? 'block' : 'none';\n",
       "    })();\n",
       "  </script>\n",
       "</div>\n",
       "\n",
       "    </div>\n",
       "  </div>\n"
      ],
      "text/plain": [
       "      unique_identifier       native word       english word\n",
       "60780          nep60781         गार्डेनले           gardenle\n",
       "54519          nep54520           केवेतको            kewetko\n",
       "10606          nep10607         तौलमात्रै        taulamatrai\n",
       "5214            nep5215             टम्टा              tamta\n",
       "42306          nep42307         कलशयात्री        kalshayatri\n",
       "38033          nep38034  उद्योगपतिलगायतले  udyogpatilgayatle\n",
       "43309          nep43310              गनजम            ganajam\n",
       "48554          nep48555         श्रीविलास           srivilas\n",
       "1856            nep1857            सुन्नु              sunnu\n",
       "23476          nep23477        अर्दलीसम्म        ardalisamma"
      ]
     },
     "execution_count": 5,
     "metadata": {},
     "output_type": "execute_result"
    }
   ],
   "source": [
    "data.sample(10)"
   ]
  },
  {
   "cell_type": "markdown",
   "metadata": {
    "id": "o5U4CiRhmG6m"
   },
   "source": [
    "## Data Preparation"
   ]
  },
  {
   "cell_type": "code",
   "execution_count": 6,
   "metadata": {
    "executionInfo": {
     "elapsed": 35,
     "status": "ok",
     "timestamp": 1733838097421,
     "user": {
      "displayName": "Manoj Baniya",
      "userId": "01713573044371624098"
     },
     "user_tz": -345
    },
    "id": "2vch6kHamIyt"
   },
   "outputs": [],
   "source": [
    "devanagari_words = data[\"native word\"].values\n",
    "roman_words = data[\"english word\"].values"
   ]
  },
  {
   "cell_type": "code",
   "execution_count": 7,
   "metadata": {
    "colab": {
     "base_uri": "https://localhost:8080/"
    },
    "executionInfo": {
     "elapsed": 34,
     "status": "ok",
     "timestamp": 1733838097421,
     "user": {
      "displayName": "Manoj Baniya",
      "userId": "01713573044371624098"
     },
     "user_tz": -345
    },
    "id": "DuVOfeMlmpqJ",
    "outputId": "7b3bc8c2-dbb8-4579-b3af-009f991af82e"
   },
   "outputs": [
    {
     "data": {
      "text/plain": [
       "(100000, 100000)"
      ]
     },
     "execution_count": 7,
     "metadata": {},
     "output_type": "execute_result"
    }
   ],
   "source": [
    "len(devanagari_words), len(roman_words)"
   ]
  },
  {
   "cell_type": "code",
   "execution_count": 8,
   "metadata": {
    "executionInfo": {
     "elapsed": 29,
     "status": "ok",
     "timestamp": 1733838097421,
     "user": {
      "displayName": "Manoj Baniya",
      "userId": "01713573044371624098"
     },
     "user_tz": -345
    },
    "id": "qU3JL92ZnAhk"
   },
   "outputs": [],
   "source": [
    "devanagari_characters = set()\n",
    "roman_characters = set()\n",
    "\n",
    "for word in devanagari_words:\n",
    "    for character in word:\n",
    "        devanagari_characters.add(character)\n",
    "\n",
    "for word in roman_words:\n",
    "    for character in word:\n",
    "        roman_characters.add(character)"
   ]
  },
  {
   "cell_type": "code",
   "execution_count": 9,
   "metadata": {
    "executionInfo": {
     "elapsed": 28,
     "status": "ok",
     "timestamp": 1733838097421,
     "user": {
      "displayName": "Manoj Baniya",
      "userId": "01713573044371624098"
     },
     "user_tz": -345
    },
    "id": "IZoHc0KbnYpR"
   },
   "outputs": [],
   "source": [
    "devanagari_characters = sorted(list(devanagari_characters))\n",
    "roman_characters = sorted(list(roman_characters))"
   ]
  },
  {
   "cell_type": "code",
   "execution_count": 10,
   "metadata": {
    "colab": {
     "base_uri": "https://localhost:8080/"
    },
    "executionInfo": {
     "elapsed": 28,
     "status": "ok",
     "timestamp": 1733838097422,
     "user": {
      "displayName": "Manoj Baniya",
      "userId": "01713573044371624098"
     },
     "user_tz": -345
    },
    "id": "wmMy2Bvpnd2C",
    "outputId": "5a98a533-70fb-492f-b766-75fea50944d3"
   },
   "outputs": [
    {
     "data": {
      "text/plain": [
       "(array(['मुस्कुराउँदै', 'मान्दछन्', 'भएझैं', 'हराउँछ', 'मुन्टो', 'सोचेर',\n",
       "        'प्रवृत्तिलाई', 'भट्टाचार्यले', 'सर्दै', 'मूर्तिहरू'], dtype=object),\n",
       " array(['muskuraundai', 'mandachhan', 'bhaejhain', 'haraaunchha', 'munto',\n",
       "        'sochera', 'prawrittilai', 'bhattacharyale', 'sardai', 'murtiharu'],\n",
       "       dtype=object))"
      ]
     },
     "execution_count": 10,
     "metadata": {},
     "output_type": "execute_result"
    }
   ],
   "source": [
    "devanagari_words[:10], roman_words[:10]"
   ]
  },
  {
   "cell_type": "code",
   "execution_count": 11,
   "metadata": {
    "colab": {
     "base_uri": "https://localhost:8080/"
    },
    "executionInfo": {
     "elapsed": 25,
     "status": "ok",
     "timestamp": 1733838097422,
     "user": {
      "displayName": "Manoj Baniya",
      "userId": "01713573044371624098"
     },
     "user_tz": -345
    },
    "id": "xKrEa0yJn46_",
    "outputId": "ce88cb37-1d52-4f27-bfd2-6fa41c1c1217"
   },
   "outputs": [
    {
     "data": {
      "text/plain": [
       "(19, 27)"
      ]
     },
     "execution_count": 11,
     "metadata": {},
     "output_type": "execute_result"
    }
   ],
   "source": [
    "max_input_sequence_length = max([len(x) for x in devanagari_words])\n",
    "max_output_sequence_length = max([len(x) for x in roman_words])\n",
    "\n",
    "max_input_sequence_length, max_output_sequence_length"
   ]
  },
  {
   "cell_type": "code",
   "execution_count": 12,
   "metadata": {
    "colab": {
     "base_uri": "https://localhost:8080/"
    },
    "executionInfo": {
     "elapsed": 21,
     "status": "ok",
     "timestamp": 1733838097422,
     "user": {
      "displayName": "Manoj Baniya",
      "userId": "01713573044371624098"
     },
     "user_tz": -345
    },
    "id": "LqRbKQsNoC7Q",
    "outputId": "722a3ec5-01c0-4436-c639-505e86e01051"
   },
   "outputs": [
    {
     "name": "stdout",
     "output_type": "stream",
     "text": [
      "Number of samples: 100000\n",
      "Number of unique input characters: 63\n",
      "Number of unique output characters: 26\n",
      "Max sequence length for inputs before: 19\n",
      "Max sequence length for outputs before: 27\n"
     ]
    }
   ],
   "source": [
    "print(f\"Number of samples: {len(devanagari_words)}\")\n",
    "print(f\"Number of unique input characters: {len(devanagari_characters)}\")\n",
    "print(f\"Number of unique output characters: {len(roman_characters)}\")\n",
    "print(f\"Max sequence length for inputs before: {max_input_sequence_length}\")\n",
    "print(f\"Max sequence length for outputs before: {max_output_sequence_length}\")"
   ]
  },
  {
   "cell_type": "markdown",
   "metadata": {
    "id": "49HoTH2ToRPQ"
   },
   "source": [
    "## Preparing data for Encoder and Decoder\n",
    "We need to prepare the data for encoder input which will be devanagari words and for decoder input while training will be roman words and the target words is just same as the decoder input but one timestep ahead."
   ]
  },
  {
   "cell_type": "code",
   "execution_count": 13,
   "metadata": {
    "executionInfo": {
     "elapsed": 17,
     "status": "ok",
     "timestamp": 1733838097422,
     "user": {
      "displayName": "Manoj Baniya",
      "userId": "01713573044371624098"
     },
     "user_tz": -345
    },
    "id": "1tWDdz7KoxXA"
   },
   "outputs": [],
   "source": [
    "# preparing our vocabulary\n",
    "unk_token = \"?\"\n",
    "pad_token = \"_\"\n",
    "start_token = \"<\"\n",
    "end_token = \">\""
   ]
  },
  {
   "cell_type": "code",
   "execution_count": 14,
   "metadata": {
    "executionInfo": {
     "elapsed": 16,
     "status": "ok",
     "timestamp": 1733838097422,
     "user": {
      "displayName": "Manoj Baniya",
      "userId": "01713573044371624098"
     },
     "user_tz": -345
    },
    "id": "EWaxTIzjpAe6"
   },
   "outputs": [],
   "source": [
    "special_tokens = [unk_token, pad_token, start_token, end_token]"
   ]
  },
  {
   "cell_type": "code",
   "execution_count": 15,
   "metadata": {
    "executionInfo": {
     "elapsed": 17,
     "status": "ok",
     "timestamp": 1733838097423,
     "user": {
      "displayName": "Manoj Baniya",
      "userId": "01713573044371624098"
     },
     "user_tz": -345
    },
    "id": "PrSS-Zg9onod"
   },
   "outputs": [],
   "source": [
    "roman_vocab = special_tokens + list(roman_characters)\n",
    "devanagari_vocab = [unk_token, pad_token] + list(devanagari_characters)"
   ]
  },
  {
   "cell_type": "code",
   "execution_count": 16,
   "metadata": {
    "colab": {
     "base_uri": "https://localhost:8080/"
    },
    "executionInfo": {
     "elapsed": 16,
     "status": "ok",
     "timestamp": 1733838097423,
     "user": {
      "displayName": "Manoj Baniya",
      "userId": "01713573044371624098"
     },
     "user_tz": -345
    },
    "id": "ESGauMFdp58v",
    "outputId": "253356cf-ef65-4b70-d1ce-ff9764989c69"
   },
   "outputs": [
    {
     "data": {
      "text/plain": [
       "(30, 65)"
      ]
     },
     "execution_count": 16,
     "metadata": {},
     "output_type": "execute_result"
    }
   ],
   "source": [
    "len(roman_vocab), len(devanagari_vocab)"
   ]
  },
  {
   "cell_type": "code",
   "execution_count": 17,
   "metadata": {
    "executionInfo": {
     "elapsed": 13,
     "status": "ok",
     "timestamp": 1733838097423,
     "user": {
      "displayName": "Manoj Baniya",
      "userId": "01713573044371624098"
     },
     "user_tz": -345
    },
    "id": "57Gzh3SWqGyM"
   },
   "outputs": [],
   "source": [
    "stoi_roman = {ch:i for i,ch in enumerate(roman_vocab)}\n",
    "stoi_devanagari = {ch:i for i,ch in enumerate(devanagari_vocab)}"
   ]
  },
  {
   "cell_type": "code",
   "execution_count": 18,
   "metadata": {
    "colab": {
     "base_uri": "https://localhost:8080/"
    },
    "executionInfo": {
     "elapsed": 12,
     "status": "ok",
     "timestamp": 1733838097423,
     "user": {
      "displayName": "Manoj Baniya",
      "userId": "01713573044371624098"
     },
     "user_tz": -345
    },
    "id": "AvVv_QvZqzfP",
    "outputId": "1f59679a-f13c-4af6-e0c6-c7b5ddf36651"
   },
   "outputs": [
    {
     "data": {
      "text/plain": [
       "True"
      ]
     },
     "execution_count": 18,
     "metadata": {},
     "output_type": "execute_result"
    }
   ],
   "source": [
    "stoi_roman[unk_token] == stoi_devanagari[unk_token]"
   ]
  },
  {
   "cell_type": "code",
   "execution_count": 19,
   "metadata": {
    "executionInfo": {
     "elapsed": 1078,
     "status": "ok",
     "timestamp": 1733838098492,
     "user": {
      "displayName": "Manoj Baniya",
      "userId": "01713573044371624098"
     },
     "user_tz": -345
    },
    "id": "t0cqPx0BrC1a"
   },
   "outputs": [],
   "source": [
    "input_texts = devanagari_words\n",
    "target_texts = []\n",
    "\n",
    "for word in roman_words:\n",
    "  target_texts.append(start_token + word + end_token)"
   ]
  },
  {
   "cell_type": "code",
   "execution_count": 20,
   "metadata": {
    "colab": {
     "base_uri": "https://localhost:8080/"
    },
    "executionInfo": {
     "elapsed": 24,
     "status": "ok",
     "timestamp": 1733838098492,
     "user": {
      "displayName": "Manoj Baniya",
      "userId": "01713573044371624098"
     },
     "user_tz": -345
    },
    "id": "Gx3zPNItzegh",
    "outputId": "813bab98-f9e1-41bc-fa67-790506cccc9c"
   },
   "outputs": [
    {
     "data": {
      "text/plain": [
       "(19, 29)"
      ]
     },
     "execution_count": 20,
     "metadata": {},
     "output_type": "execute_result"
    }
   ],
   "source": [
    "max_input_sequence_length = max([len(x) for x in input_texts])\n",
    "max_output_sequence_length = max([len(x) for x in target_texts])\n",
    "\n",
    "max_input_sequence_length, max_output_sequence_length"
   ]
  },
  {
   "cell_type": "code",
   "execution_count": 21,
   "metadata": {
    "colab": {
     "base_uri": "https://localhost:8080/"
    },
    "executionInfo": {
     "elapsed": 21,
     "status": "ok",
     "timestamp": 1733838098493,
     "user": {
      "displayName": "Manoj Baniya",
      "userId": "01713573044371624098"
     },
     "user_tz": -345
    },
    "id": "dAnF0VVnrXEN",
    "outputId": "0d76739b-7e19-4070-fdea-0a8ce5743d78"
   },
   "outputs": [
    {
     "data": {
      "text/plain": [
       "(array(['मुस्कुराउँदै', 'मान्दछन्', 'भएझैं', 'हराउँछ', 'मुन्टो', 'सोचेर',\n",
       "        'प्रवृत्तिलाई', 'भट्टाचार्यले', 'सर्दै', 'मूर्तिहरू'], dtype=object),\n",
       " ['<muskuraundai>',\n",
       "  '<mandachhan>',\n",
       "  '<bhaejhain>',\n",
       "  '<haraaunchha>',\n",
       "  '<munto>',\n",
       "  '<sochera>',\n",
       "  '<prawrittilai>',\n",
       "  '<bhattacharyale>',\n",
       "  '<sardai>',\n",
       "  '<murtiharu>'])"
      ]
     },
     "execution_count": 21,
     "metadata": {},
     "output_type": "execute_result"
    }
   ],
   "source": [
    "input_texts[:10], target_texts[:10]"
   ]
  },
  {
   "cell_type": "code",
   "execution_count": 22,
   "metadata": {
    "colab": {
     "base_uri": "https://localhost:8080/"
    },
    "executionInfo": {
     "elapsed": 18,
     "status": "ok",
     "timestamp": 1733838098493,
     "user": {
      "displayName": "Manoj Baniya",
      "userId": "01713573044371624098"
     },
     "user_tz": -345
    },
    "id": "PwuOr5Q1rkJx",
    "outputId": "a9e4b20b-a6ef-428a-80ea-c3a030306aad"
   },
   "outputs": [
    {
     "data": {
      "text/plain": [
       "(65, 30)"
      ]
     },
     "execution_count": 22,
     "metadata": {},
     "output_type": "execute_result"
    }
   ],
   "source": [
    "num_encoder_tokens = len(devanagari_vocab)\n",
    "num_decoder_tokens = len(roman_vocab)\n",
    "\n",
    "num_encoder_tokens, num_decoder_tokens"
   ]
  },
  {
   "cell_type": "code",
   "execution_count": 23,
   "metadata": {
    "colab": {
     "base_uri": "https://localhost:8080/"
    },
    "executionInfo": {
     "elapsed": 15,
     "status": "ok",
     "timestamp": 1733838098493,
     "user": {
      "displayName": "Manoj Baniya",
      "userId": "01713573044371624098"
     },
     "user_tz": -345
    },
    "id": "4RPxNBr2r1Xg",
    "outputId": "4511b45e-bce7-4539-88d2-35861c6383ba"
   },
   "outputs": [
    {
     "data": {
      "text/plain": [
       "(19, 29)"
      ]
     },
     "execution_count": 23,
     "metadata": {},
     "output_type": "execute_result"
    }
   ],
   "source": [
    "max_input_sequence_length, max_output_sequence_length"
   ]
  },
  {
   "cell_type": "code",
   "execution_count": 24,
   "metadata": {
    "colab": {
     "base_uri": "https://localhost:8080/"
    },
    "executionInfo": {
     "elapsed": 12,
     "status": "ok",
     "timestamp": 1733838098493,
     "user": {
      "displayName": "Manoj Baniya",
      "userId": "01713573044371624098"
     },
     "user_tz": -345
    },
    "id": "97KZZwFWr2tg",
    "outputId": "ea5618ae-f35a-4bb5-c300-6bc1a0cff45b"
   },
   "outputs": [
    {
     "data": {
      "text/plain": [
       "((100000, 19, 65), (100000, 29, 30), (100000, 29, 30))"
      ]
     },
     "execution_count": 24,
     "metadata": {},
     "output_type": "execute_result"
    }
   ],
   "source": [
    "encoder_input_data = np.zeros(\n",
    "    (len(input_texts), max_input_sequence_length, num_encoder_tokens), dtype=\"float32\"\n",
    ")\n",
    "decoder_input_data = np.zeros(\n",
    "    (len(input_texts), max_output_sequence_length, num_decoder_tokens), dtype=\"float32\"\n",
    ")\n",
    "decoder_target_data = np.zeros(\n",
    "    (len(input_texts), max_output_sequence_length, num_decoder_tokens), dtype=\"float32\"\n",
    ")\n",
    "\n",
    "encoder_input_data.shape, decoder_input_data.shape, decoder_input_data.shape"
   ]
  },
  {
   "cell_type": "code",
   "execution_count": 25,
   "metadata": {
    "colab": {
     "base_uri": "https://localhost:8080/"
    },
    "executionInfo": {
     "elapsed": 10,
     "status": "ok",
     "timestamp": 1733838098494,
     "user": {
      "displayName": "Manoj Baniya",
      "userId": "01713573044371624098"
     },
     "user_tz": -345
    },
    "id": "SgWSmfaUx3rp",
    "outputId": "417622bf-35ef-4cb0-e756-a8585b358af1"
   },
   "outputs": [
    {
     "data": {
      "text/plain": [
       "{'?': 0,\n",
       " '_': 1,\n",
       " '<': 2,\n",
       " '>': 3,\n",
       " 'a': 4,\n",
       " 'b': 5,\n",
       " 'c': 6,\n",
       " 'd': 7,\n",
       " 'e': 8,\n",
       " 'f': 9,\n",
       " 'g': 10,\n",
       " 'h': 11,\n",
       " 'i': 12,\n",
       " 'j': 13,\n",
       " 'k': 14,\n",
       " 'l': 15,\n",
       " 'm': 16,\n",
       " 'n': 17,\n",
       " 'o': 18,\n",
       " 'p': 19,\n",
       " 'q': 20,\n",
       " 'r': 21,\n",
       " 's': 22,\n",
       " 't': 23,\n",
       " 'u': 24,\n",
       " 'v': 25,\n",
       " 'w': 26,\n",
       " 'x': 27,\n",
       " 'y': 28,\n",
       " 'z': 29}"
      ]
     },
     "execution_count": 25,
     "metadata": {},
     "output_type": "execute_result"
    }
   ],
   "source": [
    "stoi_roman"
   ]
  },
  {
   "cell_type": "code",
   "execution_count": 26,
   "metadata": {
    "executionInfo": {
     "elapsed": 2522,
     "status": "ok",
     "timestamp": 1733838101009,
     "user": {
      "displayName": "Manoj Baniya",
      "userId": "01713573044371624098"
     },
     "user_tz": -345
    },
    "id": "ZAxA3Dc_tGrv"
   },
   "outputs": [],
   "source": [
    "for i, (input_text, target_text) in enumerate(zip(input_texts, target_texts)):\n",
    "  for t, character in enumerate(input_text): # each word iterating\n",
    "    encoder_input_data[i, t, stoi_devanagari[character]] = 1.0\n",
    "  # if the word is sometimes less than the max seq then just add the padding token which has 0 index and in one hot encoding the position will be [1 0 0...]\n",
    "  encoder_input_data[i, t+1: , stoi_devanagari[\"_\"]] = 1.0 # padding for min length word\n",
    "\n",
    "  for t, character in enumerate(target_text):\n",
    "    # decoder_target_data is ahead of decoder_input_data by one timestep\n",
    "    decoder_input_data[i, t, stoi_roman[character]] = 1.0\n",
    "    if t > 0:\n",
    "      # decoder target data ahead by 1 timestep and dont include start character \"<\"\n",
    "      decoder_target_data[i, t - 1, stoi_roman[character]] = 1.0 # just start storing the ohe vector only after a timestep but start from index 0 so\n",
    "      # when start at t=1 store at position 0 but store next character after \"start\" token\n",
    "\n",
    "  decoder_input_data[i, t+1:, stoi_roman[\"_\"]] = 1.0\n",
    "  # padding to match the length of all word\n",
    "  decoder_target_data[i, t:, stoi_roman[\"_\"]] = 1.0"
   ]
  },
  {
   "cell_type": "code",
   "execution_count": 27,
   "metadata": {
    "colab": {
     "base_uri": "https://localhost:8080/"
    },
    "executionInfo": {
     "elapsed": 28,
     "status": "ok",
     "timestamp": 1733838101010,
     "user": {
      "displayName": "Manoj Baniya",
      "userId": "01713573044371624098"
     },
     "user_tz": -345
    },
    "id": "TRU3oVqXiwPU",
    "outputId": "73697864-a921-4a0b-dd41-7b29df36a311"
   },
   "outputs": [
    {
     "data": {
      "text/plain": [
       "((95000, 19, 65), (95000, 29, 30), (95000, 29, 30))"
      ]
     },
     "execution_count": 27,
     "metadata": {},
     "output_type": "execute_result"
    }
   ],
   "source": [
    "encoder_test_data = encoder_input_data[-5000:]\n",
    "decoder_input_test_data = decoder_input_data[-5000:]\n",
    "decoder_target_test_data = decoder_target_data[-5000:]\n",
    "\n",
    "encoder_input_data = encoder_input_data[:-5000]\n",
    "decoder_input_data = decoder_input_data[:-5000]\n",
    "decoder_target_data = decoder_target_data[:-5000]\n",
    "\n",
    "encoder_input_data.shape, decoder_input_data.shape, decoder_target_data.shape"
   ]
  },
  {
   "cell_type": "code",
   "execution_count": 28,
   "metadata": {
    "colab": {
     "base_uri": "https://localhost:8080/"
    },
    "executionInfo": {
     "elapsed": 25,
     "status": "ok",
     "timestamp": 1733838101010,
     "user": {
      "displayName": "Manoj Baniya",
      "userId": "01713573044371624098"
     },
     "user_tz": -345
    },
    "id": "uD_nKQpOz2P1",
    "outputId": "2ffec090-d39d-496a-99c9-6c599ef6f28e"
   },
   "outputs": [
    {
     "data": {
      "text/plain": [
       "(19, 65)"
      ]
     },
     "execution_count": 28,
     "metadata": {},
     "output_type": "execute_result"
    }
   ],
   "source": [
    "encoder_input_data[10].shape"
   ]
  },
  {
   "cell_type": "code",
   "execution_count": 29,
   "metadata": {
    "colab": {
     "base_uri": "https://localhost:8080/"
    },
    "executionInfo": {
     "elapsed": 22,
     "status": "ok",
     "timestamp": 1733838101010,
     "user": {
      "displayName": "Manoj Baniya",
      "userId": "01713573044371624098"
     },
     "user_tz": -345
    },
    "id": "DFRkstwL0AOD",
    "outputId": "47ec089d-deac-47d8-f008-01a6d2f9c20b"
   },
   "outputs": [
    {
     "data": {
      "text/plain": [
       "(29, 30)"
      ]
     },
     "execution_count": 29,
     "metadata": {},
     "output_type": "execute_result"
    }
   ],
   "source": [
    "decoder_input_data[0].shape"
   ]
  },
  {
   "cell_type": "code",
   "execution_count": 30,
   "metadata": {
    "colab": {
     "base_uri": "https://localhost:8080/"
    },
    "executionInfo": {
     "elapsed": 19,
     "status": "ok",
     "timestamp": 1733838101010,
     "user": {
      "displayName": "Manoj Baniya",
      "userId": "01713573044371624098"
     },
     "user_tz": -345
    },
    "id": "ksH0VLFv0Ekk",
    "outputId": "6c97397c-cfec-41f5-9d66-2c45b17bc7c5"
   },
   "outputs": [
    {
     "data": {
      "text/plain": [
       "(29, 30)"
      ]
     },
     "execution_count": 30,
     "metadata": {},
     "output_type": "execute_result"
    }
   ],
   "source": [
    "decoder_target_data[0].shape"
   ]
  },
  {
   "cell_type": "code",
   "execution_count": 31,
   "metadata": {
    "colab": {
     "base_uri": "https://localhost:8080/"
    },
    "executionInfo": {
     "elapsed": 17,
     "status": "ok",
     "timestamp": 1733838101011,
     "user": {
      "displayName": "Manoj Baniya",
      "userId": "01713573044371624098"
     },
     "user_tz": -345
    },
    "id": "TqBbcz7I0Ja-",
    "outputId": "d786a151-d596-463d-85ce-ffaf0e925246"
   },
   "outputs": [
    {
     "name": "stdout",
     "output_type": "stream",
     "text": [
      "When input is 2 : target is 16\n",
      "When input is 16 : target is 24\n",
      "When input is 24 : target is 22\n",
      "When input is 22 : target is 14\n",
      "When input is 14 : target is 24\n",
      "When input is 24 : target is 21\n",
      "When input is 21 : target is 4\n",
      "When input is 4 : target is 24\n",
      "When input is 24 : target is 17\n",
      "When input is 17 : target is 7\n",
      "When input is 7 : target is 4\n",
      "When input is 4 : target is 12\n",
      "When input is 12 : target is 3\n",
      "End of token\n"
     ]
    }
   ],
   "source": [
    "for t, t_ in zip(decoder_input_data[0], decoder_target_data[0]):\n",
    "  print(f\"When input is {np.argmax(t)} : target is {np.argmax(t_)}\")\n",
    "  if np.argmax(t_) == 3:\n",
    "    print(\"End of token\")\n",
    "    break"
   ]
  },
  {
   "cell_type": "code",
   "execution_count": 32,
   "metadata": {
    "colab": {
     "base_uri": "https://localhost:8080/"
    },
    "executionInfo": {
     "elapsed": 14,
     "status": "ok",
     "timestamp": 1733838101011,
     "user": {
      "displayName": "Manoj Baniya",
      "userId": "01713573044371624098"
     },
     "user_tz": -345
    },
    "id": "jO8OT8PL0HNd",
    "outputId": "22ca28a2-af00-4edc-d60b-811a44436beb"
   },
   "outputs": [
    {
     "data": {
      "text/plain": [
       "3"
      ]
     },
     "execution_count": 32,
     "metadata": {},
     "output_type": "execute_result"
    }
   ],
   "source": [
    "stoi_roman[end_token]"
   ]
  },
  {
   "cell_type": "markdown",
   "metadata": {
    "id": "d3UACX8w1Duf"
   },
   "source": [
    "## Encoder Decoder Architecture"
   ]
  },
  {
   "cell_type": "code",
   "execution_count": 33,
   "metadata": {
    "executionInfo": {
     "elapsed": 11,
     "status": "ok",
     "timestamp": 1733838101011,
     "user": {
      "displayName": "Manoj Baniya",
      "userId": "01713573044371624098"
     },
     "user_tz": -345
    },
    "id": "c7R_wZua1ShM"
   },
   "outputs": [],
   "source": [
    "import keras"
   ]
  },
  {
   "cell_type": "code",
   "execution_count": 34,
   "metadata": {
    "executionInfo": {
     "elapsed": 10,
     "status": "ok",
     "timestamp": 1733838101011,
     "user": {
      "displayName": "Manoj Baniya",
      "userId": "01713573044371624098"
     },
     "user_tz": -345
    },
    "id": "MFW7F1pO1UYM"
   },
   "outputs": [],
   "source": [
    "# configuration\n",
    "LATENT_DIM = 256\n",
    "BATCH_SIZE = 64\n",
    "EPOCHS = 30"
   ]
  },
  {
   "cell_type": "code",
   "execution_count": 35,
   "metadata": {
    "colab": {
     "base_uri": "https://localhost:8080/"
    },
    "executionInfo": {
     "elapsed": 1787,
     "status": "ok",
     "timestamp": 1733838102788,
     "user": {
      "displayName": "Manoj Baniya",
      "userId": "01713573044371624098"
     },
     "user_tz": -345
    },
    "id": "xEvUMz3E1l33",
    "outputId": "fd8f31a2-aa9e-4aae-e7e3-a0a5556b9ba9"
   },
   "outputs": [
    {
     "data": {
      "text/plain": [
       "(65, 30)"
      ]
     },
     "execution_count": 35,
     "metadata": {},
     "output_type": "execute_result"
    }
   ],
   "source": [
    "num_encoder_tokens, num_decoder_tokens"
   ]
  },
  {
   "cell_type": "code",
   "execution_count": 36,
   "metadata": {
    "executionInfo": {
     "elapsed": 1845,
     "status": "ok",
     "timestamp": 1733838104629,
     "user": {
      "displayName": "Manoj Baniya",
      "userId": "01713573044371624098"
     },
     "user_tz": -345
    },
    "id": "NzS5LZIb1Is3"
   },
   "outputs": [],
   "source": [
    "encoder_inputs = keras.Input(shape=(None, num_encoder_tokens))\n",
    "encoder = keras.layers.LSTM(LATENT_DIM, return_state=True)\n",
    "# output from the encoder is not needed, only the states are needed\n",
    "encoder_outputs, state_hidden, state_cell = encoder(encoder_inputs)\n",
    "encoder_states = [state_hidden, state_cell]\n",
    "# the encoder state act as the representation vector for decoder"
   ]
  },
  {
   "cell_type": "code",
   "execution_count": 37,
   "metadata": {
    "executionInfo": {
     "elapsed": 4,
     "status": "ok",
     "timestamp": 1733838104629,
     "user": {
      "displayName": "Manoj Baniya",
      "userId": "01713573044371624098"
     },
     "user_tz": -345
    },
    "id": "E_rgim871yhU"
   },
   "outputs": [],
   "source": [
    "decoder_inputs = keras.Input(shape=(None, num_decoder_tokens))\n",
    "\n",
    "decoder_lstm = keras.layers.LSTM(LATENT_DIM, return_sequences=True, return_state=True)\n",
    "decoder_outputs, _, _ = decoder_lstm(decoder_inputs, initial_state=encoder_states)\n",
    "decoder_dense = keras.layers.Dense(num_decoder_tokens, activation=\"softmax\")\n",
    "decoder_outputs = decoder_dense(decoder_outputs)"
   ]
  },
  {
   "cell_type": "code",
   "execution_count": 38,
   "metadata": {
    "executionInfo": {
     "elapsed": 3,
     "status": "ok",
     "timestamp": 1733838104629,
     "user": {
      "displayName": "Manoj Baniya",
      "userId": "01713573044371624098"
     },
     "user_tz": -345
    },
    "id": "Hhx9nt8r15Yp"
   },
   "outputs": [],
   "source": [
    "model = keras.Model([encoder_inputs, decoder_inputs], decoder_outputs)"
   ]
  },
  {
   "cell_type": "code",
   "execution_count": 39,
   "metadata": {
    "executionInfo": {
     "elapsed": 3,
     "status": "ok",
     "timestamp": 1733838104629,
     "user": {
      "displayName": "Manoj Baniya",
      "userId": "01713573044371624098"
     },
     "user_tz": -345
    },
    "id": "om2bq_O817nz"
   },
   "outputs": [],
   "source": [
    "model.compile(\n",
    "    optimizer=\"rmsprop\",\n",
    "    loss=\"categorical_crossentropy\",\n",
    "    metrics=[\"accuracy\"]\n",
    ")"
   ]
  },
  {
   "cell_type": "code",
   "execution_count": 40,
   "metadata": {
    "executionInfo": {
     "elapsed": 3,
     "status": "ok",
     "timestamp": 1733838104629,
     "user": {
      "displayName": "Manoj Baniya",
      "userId": "01713573044371624098"
     },
     "user_tz": -345
    },
    "id": "2SqcavEm19OE"
   },
   "outputs": [],
   "source": [
    "import tensorflow\n",
    "from tensorflow.keras.utils import plot_model"
   ]
  },
  {
   "cell_type": "code",
   "execution_count": 41,
   "metadata": {
    "colab": {
     "base_uri": "https://localhost:8080/",
     "height": 829
    },
    "executionInfo": {
     "elapsed": 2163,
     "status": "ok",
     "timestamp": 1733838106789,
     "user": {
      "displayName": "Manoj Baniya",
      "userId": "01713573044371624098"
     },
     "user_tz": -345
    },
    "id": "xOHuLgf82FJx",
    "outputId": "a48a262b-49a9-4e42-8bba-25935682d0f1"
   },
   "outputs": [
    {
     "data": {
      "image/png": "[encoded data removed]",
      "text/plain": [
       "<IPython.core.display.Image object>"
      ]
     },
     "execution_count": 41,
     "metadata": {},
     "output_type": "execute_result"
    }
   ],
   "source": [
    "plot_model(model, to_file=\"model.png\", show_shapes=True, show_layer_names=True)"
   ]
  },
  {
   "cell_type": "markdown",
   "metadata": {
    "id": "v4Cmqzhe2b-z"
   },
   "source": [
    "## Training our model 0"
   ]
  },
  {
   "cell_type": "code",
   "execution_count": 42,
   "metadata": {
    "colab": {
     "base_uri": "https://localhost:8080/"
    },
    "executionInfo": {
     "elapsed": 319829,
     "status": "ok",
     "timestamp": 1733838426615,
     "user": {
      "displayName": "Manoj Baniya",
      "userId": "01713573044371624098"
     },
     "user_tz": -345
    },
    "id": "OSJ9hZvl2fsc",
    "outputId": "92807a4f-c98a-4d88-f708-0e43f221b653"
   },
   "outputs": [
    {
     "name": "stdout",
     "output_type": "stream",
     "text": [
      "Epoch 1/30\n",
      "\u001b[1m1188/1188\u001b[0m \u001b[32m━━━━━━━━━━━━━━━━━━━━\u001b[0m\u001b[37m\u001b[0m \u001b[1m13s\u001b[0m 9ms/step - accuracy: 0.6911 - loss: 1.1285 - val_accuracy: 0.7862 - val_loss: 0.7070\n",
      "Epoch 2/30\n",
      "\u001b[1m1188/1188\u001b[0m \u001b[32m━━━━━━━━━━━━━━━━━━━━\u001b[0m\u001b[37m\u001b[0m \u001b[1m10s\u001b[0m 8ms/step - accuracy: 0.8160 - loss: 0.6054 - val_accuracy: 0.8580 - val_loss: 0.4402\n",
      "Epoch 3/30\n",
      "\u001b[1m1188/1188\u001b[0m \u001b[32m━━━━━━━━━━━━━━━━━━━━\u001b[0m\u001b[37m\u001b[0m \u001b[1m9s\u001b[0m 8ms/step - accuracy: 0.8803 - loss: 0.3767 - val_accuracy: 0.9012 - val_loss: 0.3078\n",
      "Epoch 4/30\n",
      "\u001b[1m1188/1188\u001b[0m \u001b[32m━━━━━━━━━━━━━━━━━━━━\u001b[0m\u001b[37m\u001b[0m \u001b[1m11s\u001b[0m 8ms/step - accuracy: 0.9126 - loss: 0.2744 - val_accuracy: 0.9236 - val_loss: 0.2388\n",
      "Epoch 5/30\n",
      "\u001b[1m1188/1188\u001b[0m \u001b[32m━━━━━━━━━━━━━━━━━━━━\u001b[0m\u001b[37m\u001b[0m \u001b[1m10s\u001b[0m 8ms/step - accuracy: 0.9312 - loss: 0.2176 - val_accuracy: 0.9348 - val_loss: 0.2044\n",
      "Epoch 6/30\n",
      "\u001b[1m1188/1188\u001b[0m \u001b[32m━━━━━━━━━━━━━━━━━━━━\u001b[0m\u001b[37m\u001b[0m \u001b[1m10s\u001b[0m 8ms/step - accuracy: 0.9439 - loss: 0.1789 - val_accuracy: 0.9434 - val_loss: 0.1785\n",
      "Epoch 7/30\n",
      "\u001b[1m1188/1188\u001b[0m \u001b[32m━━━━━━━━━━━━━━━━━━━━\u001b[0m\u001b[37m\u001b[0m \u001b[1m10s\u001b[0m 8ms/step - accuracy: 0.9522 - loss: 0.1535 - val_accuracy: 0.9505 - val_loss: 0.1564\n",
      "Epoch 8/30\n",
      "\u001b[1m1188/1188\u001b[0m \u001b[32m━━━━━━━━━━━━━━━━━━━━\u001b[0m\u001b[37m\u001b[0m \u001b[1m11s\u001b[0m 8ms/step - accuracy: 0.9585 - loss: 0.1341 - val_accuracy: 0.9559 - val_loss: 0.1419\n",
      "Epoch 9/30\n",
      "\u001b[1m1188/1188\u001b[0m \u001b[32m━━━━━━━━━━━━━━━━━━━━\u001b[0m\u001b[37m\u001b[0m \u001b[1m17s\u001b[0m 13ms/step - accuracy: 0.9633 - loss: 0.1190 - val_accuracy: 0.9596 - val_loss: 0.1270\n",
      "Epoch 10/30\n",
      "\u001b[1m1188/1188\u001b[0m \u001b[32m━━━━━━━━━━━━━━━━━━━━\u001b[0m\u001b[37m\u001b[0m \u001b[1m14s\u001b[0m 8ms/step - accuracy: 0.9668 - loss: 0.1082 - val_accuracy: 0.9604 - val_loss: 0.1266\n",
      "Epoch 11/30\n",
      "\u001b[1m1188/1188\u001b[0m \u001b[32m━━━━━━━━━━━━━━━━━━━━\u001b[0m\u001b[37m\u001b[0m \u001b[1m10s\u001b[0m 8ms/step - accuracy: 0.9695 - loss: 0.0988 - val_accuracy: 0.9642 - val_loss: 0.1120\n",
      "Epoch 12/30\n",
      "\u001b[1m1188/1188\u001b[0m \u001b[32m━━━━━━━━━━━━━━━━━━━━\u001b[0m\u001b[37m\u001b[0m \u001b[1m9s\u001b[0m 8ms/step - accuracy: 0.9722 - loss: 0.0897 - val_accuracy: 0.9696 - val_loss: 0.0966\n",
      "Epoch 13/30\n",
      "\u001b[1m1188/1188\u001b[0m \u001b[32m━━━━━━━━━━━━━━━━━━━━\u001b[0m\u001b[37m\u001b[0m \u001b[1m10s\u001b[0m 8ms/step - accuracy: 0.9743 - loss: 0.0824 - val_accuracy: 0.9680 - val_loss: 0.1012\n",
      "Epoch 14/30\n",
      "\u001b[1m1188/1188\u001b[0m \u001b[32m━━━━━━━━━━━━━━━━━━━━\u001b[0m\u001b[37m\u001b[0m \u001b[1m10s\u001b[0m 8ms/step - accuracy: 0.9763 - loss: 0.0767 - val_accuracy: 0.9713 - val_loss: 0.0900\n",
      "Epoch 15/30\n",
      "\u001b[1m1188/1188\u001b[0m \u001b[32m━━━━━━━━━━━━━━━━━━━━\u001b[0m\u001b[37m\u001b[0m \u001b[1m9s\u001b[0m 8ms/step - accuracy: 0.9780 - loss: 0.0712 - val_accuracy: 0.9751 - val_loss: 0.0796\n",
      "Epoch 16/30\n",
      "\u001b[1m1188/1188\u001b[0m \u001b[32m━━━━━━━━━━━━━━━━━━━━\u001b[0m\u001b[37m\u001b[0m \u001b[1m9s\u001b[0m 8ms/step - accuracy: 0.9792 - loss: 0.0667 - val_accuracy: 0.9747 - val_loss: 0.0801\n",
      "Epoch 17/30\n",
      "\u001b[1m1188/1188\u001b[0m \u001b[32m━━━━━━━━━━━━━━━━━━━━\u001b[0m\u001b[37m\u001b[0m \u001b[1m11s\u001b[0m 8ms/step - accuracy: 0.9805 - loss: 0.0623 - val_accuracy: 0.9752 - val_loss: 0.0787\n",
      "Epoch 18/30\n",
      "\u001b[1m1188/1188\u001b[0m \u001b[32m━━━━━━━━━━━━━━━━━━━━\u001b[0m\u001b[37m\u001b[0m \u001b[1m11s\u001b[0m 9ms/step - accuracy: 0.9818 - loss: 0.0578 - val_accuracy: 0.9765 - val_loss: 0.0744\n",
      "Epoch 19/30\n",
      "\u001b[1m1188/1188\u001b[0m \u001b[32m━━━━━━━━━━━━━━━━━━━━\u001b[0m\u001b[37m\u001b[0m \u001b[1m19s\u001b[0m 8ms/step - accuracy: 0.9824 - loss: 0.0557 - val_accuracy: 0.9782 - val_loss: 0.0694\n",
      "Epoch 20/30\n",
      "\u001b[1m1188/1188\u001b[0m \u001b[32m━━━━━━━━━━━━━━━━━━━━\u001b[0m\u001b[37m\u001b[0m \u001b[1m10s\u001b[0m 8ms/step - accuracy: 0.9838 - loss: 0.0516 - val_accuracy: 0.9772 - val_loss: 0.0720\n",
      "Epoch 21/30\n",
      "\u001b[1m1188/1188\u001b[0m \u001b[32m━━━━━━━━━━━━━━━━━━━━\u001b[0m\u001b[37m\u001b[0m \u001b[1m10s\u001b[0m 8ms/step - accuracy: 0.9846 - loss: 0.0489 - val_accuracy: 0.9781 - val_loss: 0.0692\n",
      "Epoch 22/30\n",
      "\u001b[1m1188/1188\u001b[0m \u001b[32m━━━━━━━━━━━━━━━━━━━━\u001b[0m\u001b[37m\u001b[0m \u001b[1m10s\u001b[0m 8ms/step - accuracy: 0.9851 - loss: 0.0473 - val_accuracy: 0.9797 - val_loss: 0.0653\n",
      "Epoch 23/30\n",
      "\u001b[1m1188/1188\u001b[0m \u001b[32m━━━━━━━━━━━━━━━━━━━━\u001b[0m\u001b[37m\u001b[0m \u001b[1m9s\u001b[0m 8ms/step - accuracy: 0.9861 - loss: 0.0442 - val_accuracy: 0.9784 - val_loss: 0.0683\n",
      "Epoch 24/30\n",
      "\u001b[1m1188/1188\u001b[0m \u001b[32m━━━━━━━━━━━━━━━━━━━━\u001b[0m\u001b[37m\u001b[0m \u001b[1m10s\u001b[0m 8ms/step - accuracy: 0.9865 - loss: 0.0423 - val_accuracy: 0.9791 - val_loss: 0.0660\n",
      "Epoch 25/30\n",
      "\u001b[1m1188/1188\u001b[0m \u001b[32m━━━━━━━━━━━━━━━━━━━━\u001b[0m\u001b[37m\u001b[0m \u001b[1m10s\u001b[0m 8ms/step - accuracy: 0.9874 - loss: 0.0401 - val_accuracy: 0.9790 - val_loss: 0.0661\n",
      "Epoch 26/30\n",
      "\u001b[1m1188/1188\u001b[0m \u001b[32m━━━━━━━━━━━━━━━━━━━━\u001b[0m\u001b[37m\u001b[0m \u001b[1m10s\u001b[0m 8ms/step - accuracy: 0.9879 - loss: 0.0383 - val_accuracy: 0.9795 - val_loss: 0.0655\n",
      "Epoch 27/30\n",
      "\u001b[1m1188/1188\u001b[0m \u001b[32m━━━━━━━━━━━━━━━━━━━━\u001b[0m\u001b[37m\u001b[0m \u001b[1m10s\u001b[0m 8ms/step - accuracy: 0.9886 - loss: 0.0364 - val_accuracy: 0.9812 - val_loss: 0.0602\n",
      "Epoch 28/30\n",
      "\u001b[1m1188/1188\u001b[0m \u001b[32m━━━━━━━━━━━━━━━━━━━━\u001b[0m\u001b[37m\u001b[0m \u001b[1m9s\u001b[0m 8ms/step - accuracy: 0.9889 - loss: 0.0351 - val_accuracy: 0.9812 - val_loss: 0.0605\n",
      "Epoch 29/30\n",
      "\u001b[1m1188/1188\u001b[0m \u001b[32m━━━━━━━━━━━━━━━━━━━━\u001b[0m\u001b[37m\u001b[0m \u001b[1m10s\u001b[0m 8ms/step - accuracy: 0.9894 - loss: 0.0331 - val_accuracy: 0.9809 - val_loss: 0.0615\n",
      "Epoch 30/30\n",
      "\u001b[1m1188/1188\u001b[0m \u001b[32m━━━━━━━━━━━━━━━━━━━━\u001b[0m\u001b[37m\u001b[0m \u001b[1m10s\u001b[0m 8ms/step - accuracy: 0.9898 - loss: 0.0321 - val_accuracy: 0.9812 - val_loss: 0.0597\n"
     ]
    }
   ],
   "source": [
    "model_history_0 = model.fit(\n",
    "    [encoder_input_data, decoder_input_data],\n",
    "    decoder_target_data,\n",
    "    batch_size=BATCH_SIZE,\n",
    "    epochs=EPOCHS,\n",
    "    validation_split=0.2,\n",
    "    verbose=1\n",
    ")"
   ]
  },
  {
   "cell_type": "code",
   "execution_count": 43,
   "metadata": {
    "executionInfo": {
     "elapsed": 15,
     "status": "ok",
     "timestamp": 1733838426615,
     "user": {
      "displayName": "Manoj Baniya",
      "userId": "01713573044371624098"
     },
     "user_tz": -345
    },
    "id": "IxhGBIsP4bzK"
   },
   "outputs": [],
   "source": [
    "model.save(\"model_2.keras\")"
   ]
  },
  {
   "cell_type": "code",
   "execution_count": 44,
   "metadata": {
    "colab": {
     "base_uri": "https://localhost:8080/",
     "height": 466
    },
    "executionInfo": {
     "elapsed": 6,
     "status": "ok",
     "timestamp": 1733838426615,
     "user": {
      "displayName": "Manoj Baniya",
      "userId": "01713573044371624098"
     },
     "user_tz": -345
    },
    "id": "b8qOkmh52aMt",
    "outputId": "e84b7b72-30bf-47d2-c695-691c42f967b8"
   },
   "outputs": [
    {
     "data": {
      "text/plain": [
       "<matplotlib.legend.Legend at 0x7a2a2a944b50>"
      ]
     },
     "execution_count": 44,
     "metadata": {},
     "output_type": "execute_result"
    },
    {
     "data": {
      "image/png": "[encoded data removed]",
      "text/plain": [
       "<Figure size 640x480 with 1 Axes>"
      ]
     },
     "metadata": {},
     "output_type": "display_data"
    }
   ],
   "source": [
    "import matplotlib.pyplot as plt\n",
    "\n",
    "plt.plot(model_history_0.history[\"loss\"], label=\"loss\")\n",
    "plt.plot(model_history_0.history[\"val_loss\"], label=\"val_loss\")\n",
    "plt.xlabel(\"Epochs\")\n",
    "plt.ylabel(\"Loss\")\n",
    "plt.legend()"
   ]
  },
  {
   "cell_type": "code",
   "execution_count": 45,
   "metadata": {
    "colab": {
     "base_uri": "https://localhost:8080/"
    },
    "executionInfo": {
     "elapsed": 1075,
     "status": "ok",
     "timestamp": 1733838427686,
     "user": {
      "displayName": "Manoj Baniya",
      "userId": "01713573044371624098"
     },
     "user_tz": -345
    },
    "id": "3cgRnh_-ovdu",
    "outputId": "48e678ae-3005-4ef6-8381-6948ff6e2030"
   },
   "outputs": [
    {
     "name": "stdout",
     "output_type": "stream",
     "text": [
      "\u001b[1m157/157\u001b[0m \u001b[32m━━━━━━━━━━━━━━━━━━━━\u001b[0m\u001b[37m\u001b[0m \u001b[1m1s\u001b[0m 4ms/step - accuracy: 0.9810 - loss: 0.0596\n"
     ]
    },
    {
     "data": {
      "text/plain": [
       "[0.060563940554857254, 0.9809244275093079]"
      ]
     },
     "execution_count": 45,
     "metadata": {},
     "output_type": "execute_result"
    }
   ],
   "source": [
    "model.evaluate([encoder_test_data, decoder_input_test_data], decoder_target_test_data)"
   ]
  },
  {
   "cell_type": "code",
   "execution_count": 46,
   "metadata": {
    "colab": {
     "base_uri": "https://localhost:8080/",
     "height": 469
    },
    "executionInfo": {
     "elapsed": 1024,
     "status": "ok",
     "timestamp": 1733838428707,
     "user": {
      "displayName": "Manoj Baniya",
      "userId": "01713573044371624098"
     },
     "user_tz": -345
    },
    "id": "_ZCFRbvZ4Y9i",
    "outputId": "af9f13ac-731f-486d-df85-189ca2389974"
   },
   "outputs": [
    {
     "data": {
      "text/plain": [
       "<matplotlib.legend.Legend at 0x7a29b9588160>"
      ]
     },
     "execution_count": 46,
     "metadata": {},
     "output_type": "execute_result"
    },
    {
     "data": {
      "image/png": "[encoded data removed]",
      "text/plain": [
       "<Figure size 640x480 with 1 Axes>"
      ]
     },
     "metadata": {},
     "output_type": "display_data"
    }
   ],
   "source": [
    "plt.plot(model_history_0.history[\"accuracy\"], label=\"accuracy\")\n",
    "plt.plot(model_history_0.history[\"val_accuracy\"], label=\"val_accuracy\")\n",
    "plt.xlabel(\"Epochs\")\n",
    "plt.ylabel(\"Accuracy\")\n",
    "plt.legend()"
   ]
  },
  {
   "cell_type": "markdown",
   "metadata": {
    "id": "B7bhDEDI4UAp"
   },
   "source": [
    "## Translation"
   ]
  },
  {
   "cell_type": "code",
   "execution_count": 47,
   "metadata": {
    "executionInfo": {
     "elapsed": 4,
     "status": "ok",
     "timestamp": 1733838428707,
     "user": {
      "displayName": "Manoj Baniya",
      "userId": "01713573044371624098"
     },
     "user_tz": -345
    },
    "id": "-kxgYAMsyuT0"
   },
   "outputs": [],
   "source": [
    "model = keras.models.load_model(\"model_2.keras\")"
   ]
  },
  {
   "cell_type": "code",
   "execution_count": 48,
   "metadata": {
    "executionInfo": {
     "elapsed": 5,
     "status": "ok",
     "timestamp": 1733838428708,
     "user": {
      "displayName": "Manoj Baniya",
      "userId": "01713573044371624098"
     },
     "user_tz": -345
    },
    "id": "HepD5Rk84W6E"
   },
   "outputs": [],
   "source": [
    "encoder_inputs = model.input[0]  # input_1\n",
    "encoder_outputs, state_h_enc, state_c_enc = model.layers[2].output  # lstm_1\n",
    "encoder_states = [state_h_enc, state_c_enc]\n",
    "encoder_model = keras.Model(encoder_inputs, encoder_states)"
   ]
  },
  {
   "cell_type": "code",
   "execution_count": 49,
   "metadata": {
    "executionInfo": {
     "elapsed": 5,
     "status": "ok",
     "timestamp": 1733838428708,
     "user": {
      "displayName": "Manoj Baniya",
      "userId": "01713573044371624098"
     },
     "user_tz": -345
    },
    "id": "oUHMXcDS4ka0"
   },
   "outputs": [],
   "source": [
    "decoder_inputs = model.input[1]  # input_2\n",
    "decoder_state_input_h = keras.Input(shape=(LATENT_DIM,))\n",
    "decoder_state_input_c = keras.Input(shape=(LATENT_DIM,))\n",
    "decoder_states_inputs = [decoder_state_input_h, decoder_state_input_c]\n",
    "decoder_lstm = model.layers[3]\n",
    "decoder_outputs, state_h_dec, state_c_dec = decoder_lstm(\n",
    "    decoder_inputs, initial_state=decoder_states_inputs\n",
    ")\n",
    "decoder_states = [state_h_dec, state_c_dec]\n",
    "decoder_dense = model.layers[4]\n",
    "decoder_outputs = decoder_dense(decoder_outputs)\n",
    "decoder_model = keras.Model(\n",
    "    [decoder_inputs] + decoder_states_inputs, [decoder_outputs] + decoder_states\n",
    ")"
   ]
  },
  {
   "cell_type": "code",
   "execution_count": 50,
   "metadata": {
    "executionInfo": {
     "elapsed": 4,
     "status": "ok",
     "timestamp": 1733838428708,
     "user": {
      "displayName": "Manoj Baniya",
      "userId": "01713573044371624098"
     },
     "user_tz": -345
    },
    "id": "VdQezFEl4sSc"
   },
   "outputs": [],
   "source": [
    "reverse_input_char_index = dict((i, char) for char, i in stoi_devanagari.items())\n",
    "reverse_target_char_index = dict((i, char) for char, i in stoi_roman.items())"
   ]
  },
  {
   "cell_type": "code",
   "execution_count": 51,
   "metadata": {
    "executionInfo": {
     "elapsed": 4,
     "status": "ok",
     "timestamp": 1733838428708,
     "user": {
      "displayName": "Manoj Baniya",
      "userId": "01713573044371624098"
     },
     "user_tz": -345
    },
    "id": "77BPp9FR4zyh"
   },
   "outputs": [],
   "source": [
    "\n",
    "def decode_sequence(input_seq):\n",
    "    # Encode the input as state vectors.\n",
    "    states_value = encoder_model.predict(input_seq, verbose=0)\n",
    "\n",
    "    # Generate empty target sequence of length 1.\n",
    "    target_seq = np.zeros((1, 1, num_decoder_tokens))\n",
    "    # Populate the first character of target sequence with the start character.\n",
    "    target_seq[0, 0, stoi_roman[\"<\"]] = 1.0\n",
    "\n",
    "    # Sampling loop for a batch of sequences\n",
    "    # (to simplify, here we assume a batch of size 1).\n",
    "    stop_condition = False\n",
    "    decoded_sentence = \"\"\n",
    "    while not stop_condition:\n",
    "        output_tokens, h, c = decoder_model.predict(\n",
    "            [target_seq] + states_value, verbose=0\n",
    "        )\n",
    "\n",
    "        # Sample a token\n",
    "        sampled_token_index = np.argmax(output_tokens[0, -1, :])\n",
    "        sampled_char = reverse_target_char_index[sampled_token_index]\n",
    "        # decoded_sentence += sampled_char\n",
    "\n",
    "        # Exit condition: either hit max length\n",
    "        # or find stop character.\n",
    "        if sampled_char == \">\" or len(decoded_sentence) > max_output_sequence_length:\n",
    "            stop_condition = True\n",
    "        else:\n",
    "          decoded_sentence += sampled_char\n",
    "\n",
    "        # Update the target sequence (of length 1).\n",
    "        target_seq = np.zeros((1, 1, num_decoder_tokens))\n",
    "        target_seq[0, 0, sampled_token_index] = 1.0\n",
    "\n",
    "        # Update states\n",
    "        states_value = [h, c]\n",
    "    return decoded_sentence"
   ]
  },
  {
   "cell_type": "code",
   "execution_count": 52,
   "metadata": {
    "colab": {
     "base_uri": "https://localhost:8080/"
    },
    "executionInfo": {
     "elapsed": 4761,
     "status": "ok",
     "timestamp": 1733838433465,
     "user": {
      "displayName": "Manoj Baniya",
      "userId": "01713573044371624098"
     },
     "user_tz": -345
    },
    "id": "0smkDCpC5K62",
    "outputId": "01b2af6f-0190-43c2-8161-428e8a0dbf1b"
   },
   "outputs": [
    {
     "name": "stdout",
     "output_type": "stream",
     "text": [
      "\n",
      "\n",
      "Input word: सोचेर\n",
      "Output word: sochera\n",
      "\n",
      "\n",
      "Input word: अन्ततिर\n",
      "Output word: antatira\n",
      "\n",
      "\n",
      "Input word: परिषदका\n",
      "Output word: parishadka\n",
      "\n",
      "\n",
      "Input word: सिलगड़ी\n",
      "Output word: silgadai\n",
      "\n",
      "\n",
      "Input word: रचनाको\n",
      "Output word: rachanako\n",
      "\n",
      "\n",
      "Input word: कुनामा\n",
      "Output word: kunama\n",
      "\n",
      "\n",
      "Input word: कथानकको\n",
      "Output word: kathankko\n",
      "\n",
      "\n",
      "Input word: लेखाइ\n",
      "Output word: lekhai\n",
      "\n",
      "\n",
      "Input word: शब्दमा\n",
      "Output word: shabdama\n",
      "\n",
      "\n",
      "Input word: दिदीलाई\n",
      "Output word: didilai\n"
     ]
    }
   ],
   "source": [
    "for seq_index in range(5,100,10):\n",
    "    input_seq = encoder_input_data[seq_index: seq_index + 1]\n",
    "    decoded_sentence = decode_sequence(input_seq)\n",
    "    print(\"\\n\")\n",
    "    print(f\"Input word: {input_texts[seq_index]}\")\n",
    "    print(f\"Output word: {decoded_sentence}\")"
   ]
  },
  {
   "cell_type": "code",
   "execution_count": 53,
   "metadata": {
    "colab": {
     "base_uri": "https://localhost:8080/"
    },
    "executionInfo": {
     "elapsed": 15,
     "status": "ok",
     "timestamp": 1733838433465,
     "user": {
      "displayName": "Manoj Baniya",
      "userId": "01713573044371624098"
     },
     "user_tz": -345
    },
    "id": "KtTivKoTERHr",
    "outputId": "55dfae61-f58f-49f0-e8bd-d92e54bf00c9"
   },
   "outputs": [
    {
     "data": {
      "text/plain": [
       "[41, 36, 61, 24]"
      ]
     },
     "execution_count": 53,
     "metadata": {},
     "output_type": "execute_result"
    }
   ],
   "source": [
    "devnagari_text = \"मनोज\"\n",
    "devanagari_text_token = [stoi_devanagari[x] for x in devnagari_text]\n",
    "\n",
    "devanagari_text_token"
   ]
  },
  {
   "cell_type": "code",
   "execution_count": 54,
   "metadata": {
    "executionInfo": {
     "elapsed": 13,
     "status": "ok",
     "timestamp": 1733838433465,
     "user": {
      "displayName": "Manoj Baniya",
      "userId": "01713573044371624098"
     },
     "user_tz": -345
    },
    "id": "J0QPhgPZEzXu"
   },
   "outputs": [],
   "source": [
    "def one_hot_encode_text(token: list):\n",
    "  input_data = np.zeros((max_input_sequence_length, num_encoder_tokens))\n",
    "  for i, t in enumerate(token):\n",
    "    input_data[i, t] = 1.0\n",
    "  input_data[i+1:, stoi_devanagari[pad_token]] = 1.0\n",
    "  return input_data"
   ]
  },
  {
   "cell_type": "code",
   "execution_count": 55,
   "metadata": {
    "colab": {
     "base_uri": "https://localhost:8080/"
    },
    "executionInfo": {
     "elapsed": 12,
     "status": "ok",
     "timestamp": 1733838433465,
     "user": {
      "displayName": "Manoj Baniya",
      "userId": "01713573044371624098"
     },
     "user_tz": -345
    },
    "id": "D7s0tmNFFuUk",
    "outputId": "a197563b-5e24-4375-b7a2-8bb927c5a1ea"
   },
   "outputs": [
    {
     "data": {
      "text/plain": [
       "(1, 19, 65)"
      ]
     },
     "execution_count": 55,
     "metadata": {},
     "output_type": "execute_result"
    }
   ],
   "source": [
    "input_encoded = one_hot_encode_text(devanagari_text_token).reshape(1, max_input_sequence_length, num_encoder_tokens)\n",
    "\n",
    "input_encoded.shape"
   ]
  },
  {
   "cell_type": "code",
   "execution_count": 56,
   "metadata": {
    "colab": {
     "base_uri": "https://localhost:8080/",
     "height": 35
    },
    "executionInfo": {
     "elapsed": 471,
     "status": "ok",
     "timestamp": 1733838433925,
     "user": {
      "displayName": "Manoj Baniya",
      "userId": "01713573044371624098"
     },
     "user_tz": -345
    },
    "id": "PTj6uZeMIEwq",
    "outputId": "85af2e63-f719-4959-815d-611e5200c85b"
   },
   "outputs": [
    {
     "data": {
      "application/vnd.google.colaboratory.intrinsic+json": {
       "type": "string"
      },
      "text/plain": [
       "'manoj'"
      ]
     },
     "execution_count": 56,
     "metadata": {},
     "output_type": "execute_result"
    }
   ],
   "source": [
    "decode_sequence(input_encoded)"
   ]
  },
  {
   "cell_type": "code",
   "execution_count": 57,
   "metadata": {
    "executionInfo": {
     "elapsed": 3,
     "status": "ok",
     "timestamp": 1733838433926,
     "user": {
      "displayName": "Manoj Baniya",
      "userId": "01713573044371624098"
     },
     "user_tz": -345
    },
    "id": "8LPlmVVyGBnR"
   },
   "outputs": [],
   "source": [
    "x = encoder_input_data[0]\n",
    "\n",
    "x = x.reshape(1, max_input_sequence_length, num_encoder_tokens)"
   ]
  },
  {
   "cell_type": "code",
   "execution_count": 58,
   "metadata": {
    "colab": {
     "base_uri": "https://localhost:8080/",
     "height": 35
    },
    "executionInfo": {
     "elapsed": 1334,
     "status": "ok",
     "timestamp": 1733838435257,
     "user": {
      "displayName": "Manoj Baniya",
      "userId": "01713573044371624098"
     },
     "user_tz": -345
    },
    "id": "30zaEo9NGoB8",
    "outputId": "4861297f-4932-4f6b-b12e-21257c81fb0b"
   },
   "outputs": [
    {
     "data": {
      "application/vnd.google.colaboratory.intrinsic+json": {
       "type": "string"
      },
      "text/plain": [
       "'muskuraundai'"
      ]
     },
     "execution_count": 58,
     "metadata": {},
     "output_type": "execute_result"
    }
   ],
   "source": [
    "decode_sequence(x)"
   ]
  },
  {
   "cell_type": "code",
   "execution_count": 59,
   "metadata": {
    "colab": {
     "base_uri": "https://localhost:8080/"
    },
    "executionInfo": {
     "elapsed": 790,
     "status": "ok",
     "timestamp": 1733838436046,
     "user": {
      "displayName": "Manoj Baniya",
      "userId": "01713573044371624098"
     },
     "user_tz": -345
    },
    "id": "3QkX04QbHXD9",
    "outputId": "a4fb700f-dd38-415b-f1a8-caa5f0ee6427"
   },
   "outputs": [
    {
     "name": "stdout",
     "output_type": "stream",
     "text": [
      "\n",
      "\n",
      "Input word: मुस्कुराउँदै\n",
      "Output word: muskuraundai\n"
     ]
    }
   ],
   "source": [
    "for seq_index in range(1):\n",
    "    input_seq = encoder_input_data[seq_index: seq_index + 1]\n",
    "    decoded_sentence = decode_sequence(input_seq)\n",
    "    print(\"\\n\")\n",
    "    print(f\"Input word: {input_texts[seq_index]}\")\n",
    "    print(f\"Output word: {decoded_sentence}\")"
   ]
  },
  {
   "cell_type": "code",
   "execution_count": 60,
   "metadata": {
    "colab": {
     "base_uri": "https://localhost:8080/"
    },
    "executionInfo": {
     "elapsed": 5,
     "status": "ok",
     "timestamp": 1733838436047,
     "user": {
      "displayName": "Manoj Baniya",
      "userId": "01713573044371624098"
     },
     "user_tz": -345
    },
    "id": "lKWJC_Y4HiV5",
    "outputId": "37168738-592f-4b68-911e-7ff66a4c7b5a"
   },
   "outputs": [
    {
     "data": {
      "text/plain": [
       "(1, 19, 65)"
      ]
     },
     "execution_count": 60,
     "metadata": {},
     "output_type": "execute_result"
    }
   ],
   "source": [
    "x = encoder_input_data[0:1]\n",
    "\n",
    "x.shape"
   ]
  },
  {
   "cell_type": "code",
   "execution_count": 61,
   "metadata": {
    "executionInfo": {
     "elapsed": 3,
     "status": "ok",
     "timestamp": 1733838436047,
     "user": {
      "displayName": "Manoj Baniya",
      "userId": "01713573044371624098"
     },
     "user_tz": -345
    },
    "id": "CLL3po2CIN-9"
   },
   "outputs": [],
   "source": [
    "def translate(text: str):\n",
    "  devanagari_text_token = [stoi_devanagari[x] for x in text]\n",
    "  input_encoded = one_hot_encode_text(devanagari_text_token).reshape(1, max_input_sequence_length, num_encoder_tokens)\n",
    "  return decode_sequence(input_encoded)\n",
    "  decoded = decode_sequence(x)\n",
    "  return decoded"
   ]
  },
  {
   "cell_type": "code",
   "execution_count": 62,
   "metadata": {
    "executionInfo": {
     "elapsed": 3,
     "status": "ok",
     "timestamp": 1733838436047,
     "user": {
      "displayName": "Manoj Baniya",
      "userId": "01713573044371624098"
     },
     "user_tz": -345
    },
    "id": "USeG-gPXIYXd"
   },
   "outputs": [],
   "source": [
    "texts = [\n",
    "    \"नेपाल\",\n",
    "    \"मेरो\",\n",
    "    \"सुन्दर\",\n",
    "    \"देश\",\n",
    "    \"खुशी\",\n",
    "    \"सगरमाथा\",\n",
    "    \"राम्रो\",\n",
    "    \"लामो\",\n",
    "    \"किताब\",\n",
    "    \"पुस्तक\",\n",
    "    \"खाना\"\n",
    "]"
   ]
  },
  {
   "cell_type": "code",
   "execution_count": 63,
   "metadata": {
    "colab": {
     "base_uri": "https://localhost:8080/"
    },
    "executionInfo": {
     "elapsed": 5691,
     "status": "ok",
     "timestamp": 1733838441735,
     "user": {
      "displayName": "Manoj Baniya",
      "userId": "01713573044371624098"
     },
     "user_tz": -345
    },
    "id": "x9gcR_kcJmXk",
    "outputId": "1b60be68-bb6d-4dca-fa06-f0cb196003bc"
   },
   "outputs": [
    {
     "name": "stdout",
     "output_type": "stream",
     "text": [
      "Devanagari: नेपाल \t Roman: nepal\n",
      "Devanagari: मेरो \t Roman: mero\n",
      "Devanagari: सुन्दर \t Roman: sunder\n",
      "Devanagari: देश \t Roman: desh\n",
      "Devanagari: खुशी \t Roman: khushi\n",
      "Devanagari: सगरमाथा \t Roman: sagarmatha\n",
      "Devanagari: राम्रो \t Roman: ramro\n",
      "Devanagari: लामो \t Roman: lamo\n",
      "Devanagari: किताब \t Roman: kitab\n",
      "Devanagari: पुस्तक \t Roman: pustak\n",
      "Devanagari: खाना \t Roman: khana\n"
     ]
    }
   ],
   "source": [
    "for text in texts:\n",
    "  print(f\"Devanagari: {text} \\t Roman: {translate(text)}\")"
   ]
  },
  {
   "cell_type": "markdown",
   "metadata": {
    "id": "6tK9bCBkp7Il"
   },
   "source": [
    "## Text inference"
   ]
  },
  {
   "cell_type": "code",
   "execution_count": 64,
   "metadata": {
    "colab": {
     "base_uri": "https://localhost:8080/"
    },
    "executionInfo": {
     "elapsed": 37936,
     "status": "ok",
     "timestamp": 1733838479669,
     "user": {
      "displayName": "Manoj Baniya",
      "userId": "01713573044371624098"
     },
     "user_tz": -345
    },
    "id": "MqCFNaGYqAwU",
    "outputId": "9a5b4dc0-10a7-4c7d-8829-44c81efaf7e8"
   },
   "outputs": [
    {
     "name": "stdout",
     "output_type": "stream",
     "text": [
      "Devanagari: सहकारी \t Roman: sahakari\n",
      "Devanagari: ठगी \t Roman: thagi\n",
      "Devanagari: संगठित \t Roman: sangathit\n",
      "Devanagari: अपराध \t Roman: aparadh\n",
      "Devanagari: र \t Roman: rupma\n",
      "Devanagari: सम्पत्ति \t Roman: sampatti\n",
      "Devanagari: शुद्धीकरणसम्बन्धी \t Roman: shuddhikaransambandhi\n",
      "Devanagari: कसूरमा \t Roman: kasurma\n",
      "Devanagari: अनुसन्धानका \t Roman: anusandhanka\n",
      "Devanagari: लागि \t Roman: lagi\n",
      "Devanagari: वीरगन्ज \t Roman: virganj\n",
      "Devanagari: ल्याइएका \t Roman: lyaieka\n",
      "Devanagari: राष्ट्रिय \t Roman: rashtriya\n",
      "Devanagari: स्वतन्त्र \t Roman: swatantra\n",
      "Devanagari: पार्टी \t Roman: parti\n",
      "Devanagari: रास्वपा \t Roman: raswapa\n",
      "Devanagari: का \t Roman: kat\n",
      "Devanagari: सभापति \t Roman: sabhapati\n",
      "Devanagari: रवि \t Roman: ravi\n",
      "Devanagari: लामिछानेसँग \t Roman: lamichhanesanga\n",
      "Devanagari: मंगलबार \t Roman: mangalbar\n",
      "Devanagari: पर्सा \t Roman: parsa\n",
      "Devanagari: सरकारी \t Roman: sarkari\n",
      "Devanagari: वकिलको \t Roman: wakilko\n",
      "Devanagari: कार्यालयमा \t Roman: karyalayama\n",
      "Devanagari: करिब \t Roman: karib\n",
      "Devanagari: घन्टा \t Roman: ghanta\n",
      "Devanagari: बयान \t Roman: bayan\n",
      "Devanagari: लिइएको \t Roman: liieko\n",
      "Devanagari: छ \t Roman: chha\n"
     ]
    }
   ],
   "source": [
    "text = \"सहकारी ठगी संगठित अपराध र सम्पत्ति शुद्धीकरणसम्बन्धी कसूरमा अनुसन्धानका लागि वीरगन्ज ल्याइएका राष्ट्रिय स्वतन्त्र पार्टी रास्वपा का सभापति रवि लामिछानेसँग मंगलबार पर्सा सरकारी वकिलको कार्यालयमा करिब  घन्टा बयान लिइएको छ\"\n",
    "\n",
    "translated = []\n",
    "\n",
    "for t in text.split():\n",
    "  print(f\"Devanagari: {t} \\t Roman: {translate(t)}\")\n",
    "  translated.append(translate(t))"
   ]
  },
  {
   "cell_type": "code",
   "execution_count": 65,
   "metadata": {
    "colab": {
     "base_uri": "https://localhost:8080/",
     "height": 53
    },
    "executionInfo": {
     "elapsed": 18,
     "status": "ok",
     "timestamp": 1733838479669,
     "user": {
      "displayName": "Manoj Baniya",
      "userId": "01713573044371624098"
     },
     "user_tz": -345
    },
    "id": "44sueoyHq7ok",
    "outputId": "7c94f630-39ed-4d68-e45c-0d947382f6a1"
   },
   "outputs": [
    {
     "data": {
      "application/vnd.google.colaboratory.intrinsic+json": {
       "type": "string"
      },
      "text/plain": [
       "'sahakari thagi sangathit aparadh rupma sampatti shuddhikaransambandhi kasurma anusandhanka lagi virganj lyaieka rashtriya swatantra parti raswapa kat sabhapati ravi lamichhanesanga mangalbar parsa sarkari wakilko karyalayama karib ghanta bayan liieko chha'"
      ]
     },
     "execution_count": 65,
     "metadata": {},
     "output_type": "execute_result"
    }
   ],
   "source": [
    "\" \".join(translated)"
   ]
  },
  {
   "cell_type": "code",
   "execution_count": 67,
   "metadata": {
    "colab": {
     "base_uri": "https://localhost:8080/"
    },
    "executionInfo": {
     "elapsed": 2,
     "status": "ok",
     "timestamp": 1733838504903,
     "user": {
      "displayName": "Manoj Baniya",
      "userId": "01713573044371624098"
     },
     "user_tz": -345
    },
    "id": "M_olZd60rv3f",
    "outputId": "365ef3c8-a58c-4ca0-b6b5-cad406473ee8"
   },
   "outputs": [
    {
     "name": "stdout",
     "output_type": "stream",
     "text": [
      " साउन  मा एकैदिन चार करोड  लाख  हजार रुपैयाँ सारिएको प्रतिवेदनमा उल्लेख छ  गोर्खा मिडियाका उपाध्यक्ष छविलाल जोशीको घरबाट बरामद भएको हार्ड डिस्कमा सानो पाइला सहकारीबाट पनि रकम सिधै गोर्खा मिडियामा सारिएको फेला परेको हो  प्रहरीका अनुसार सानो पाइला सहकारीका अध्यक्ष अनन्तबाबु राई सचिव देवेन्द्रबाबु राई कोषाध्यक्ष कुमार रम्तेल प्रबन्धक असरफ अली सिद्धिकी संरक्षक गीतेन्द्रबाबु जीबी राईलगायत  जना हालसम्म फरार छन्  सहकारीकी पूर्वउपाध्यक्ष नेहा पौडेल गत साउन  मा जिल्ला अदालत पर्साबाट न्यायीक परीक्षण हुँदा ठहरेबमोजिम हुने गरी हाललाई एक करोड  लाख धरौटीमा रिहा भइन्  यसैगरी सहकारीका कर्मचारी राधेचन्द्र यादव पनि  लाख रुपैयाँ धरौटीमा रिहा भएका छन् \n"
     ]
    }
   ],
   "source": [
    "import re\n",
    "\n",
    "# Nepali to English number mapping\n",
    "nepali_to_english_numbers = {\n",
    "    \"०\": \"0\",\n",
    "    \"१\": \"1\",\n",
    "    \"२\": \"2\",\n",
    "    \"३\": \"3\",\n",
    "    \"४\": \"4\",\n",
    "    \"५\": \"5\",\n",
    "    \"६\": \"6\",\n",
    "    \"७\": \"7\",\n",
    "    \"८\": \"8\",\n",
    "    \"९\": \"9\",\n",
    "    \"।\": \".\"\n",
    "}\n",
    "\n",
    "def clean_and_map_nepali_text(text):\n",
    "    \"\"\"\n",
    "    Cleans Nepali text by removing punctuation and mapping Nepali numbers to English.\n",
    "\n",
    "    Args:\n",
    "        text (str): Input Nepali text.\n",
    "\n",
    "    Returns:\n",
    "        str: Cleaned and processed text.\n",
    "    \"\"\"\n",
    "    # Define the characters to remove (punctuation and special symbols)\n",
    "    pattern = r\"[।,!?\\\"'।।‘’“”():;—-]|[०-९]|[0-9]|\\.\"\n",
    "\n",
    "    # Remove punctuation\n",
    "    cleaned_text = re.sub(pattern, \"\", text)\n",
    "\n",
    "    # Replace Nepali numbers with English numbers\n",
    "    for nep_num, eng_num in nepali_to_english_numbers.items():\n",
    "        cleaned_text = cleaned_text.replace(nep_num, eng_num)\n",
    "\n",
    "    return cleaned_text\n",
    "\n",
    "# Example usage\n",
    "nepali_text = \"०७८ साउन १९ मा एकैदिन चार करोड ९१ लाख ९४ हजार रुपैयाँ सारिएको प्रतिवेदनमा उल्लेख छ । गोर्खा मिडियाका उपाध्यक्ष छविलाल जोशीको घरबाट बरामद भएको हार्ड डिस्कमा सानो पाइला सहकारीबाट पनि रकम सिधै गोर्खा मिडियामा सारिएको फेला परेको हो । प्रहरीका अनुसार सानो पाइला सहकारीका अध्यक्ष अनन्तबाबु राई, सचिव देवेन्द्रबाबु राई, कोषाध्यक्ष कुमार रम्तेल, प्रबन्धक असरफ अली सिद्धिकी, संरक्षक गीतेन्द्रबाबु (जीबी) राईलगायत ११ जना हालसम्म फरार छन् । सहकारीकी पूर्वउपाध्यक्ष नेहा पौडेल गत साउन २१ मा जिल्ला अदालत पर्साबाट न्यायीक परीक्षण हुँदा ठहरेबमोजिम हुने गरी हाललाई एक करोड १० लाख धरौटीमा रिहा भइन् । यसैगरी सहकारीका कर्मचारी राधेचन्द्र यादव पनि ३५ लाख रुपैयाँ धरौटीमा रिहा भएका छन् ।\"\n",
    "cleaned_text = clean_and_map_nepali_text(nepali_text)\n",
    "print(cleaned_text)\n"
   ]
  },
  {
   "cell_type": "code",
   "execution_count": 68,
   "metadata": {
    "executionInfo": {
     "elapsed": 558,
     "status": "ok",
     "timestamp": 1733838508174,
     "user": {
      "displayName": "Manoj Baniya",
      "userId": "01713573044371624098"
     },
     "user_tz": -345
    },
    "id": "4ZXybQBYsr5Z"
   },
   "outputs": [],
   "source": [
    "def translate_text(text):\n",
    "  text = clean_and_map_nepali_text(text)\n",
    "  pattern = r\"[।,!?\\\"'।।‘’“”():;—-]|[०-९]|[0-9]|\\.\"\n",
    "\n",
    "  # Remove punctuation\n",
    "  cleaned_text = re.sub(pattern, \"\", text)\n",
    "  return \" \".join(translate(t) for t in cleaned_text.split())"
   ]
  },
  {
   "cell_type": "code",
   "execution_count": 69,
   "metadata": {
    "colab": {
     "base_uri": "https://localhost:8080/",
     "height": 87
    },
    "executionInfo": {
     "elapsed": 51401,
     "status": "ok",
     "timestamp": 1733838562288,
     "user": {
      "displayName": "Manoj Baniya",
      "userId": "01713573044371624098"
     },
     "user_tz": -345
    },
    "id": "O4MoUoebszDb",
    "outputId": "44b6530c-1f01-4bb7-f3ce-3183a6100c18"
   },
   "outputs": [
    {
     "data": {
      "application/vnd.google.colaboratory.intrinsic+json": {
       "type": "string"
      },
      "text/plain": [
       "'sauna mat ekaidin char karod lakh hazar rupaiyan sarieko pratiwedanma ullekh chha gorkha midiaka upadhyaksha chhawilal joshiko gharbata baramad bhaeko hard diskma sano paila sahakaribata pani rakam sidhai gorkha midiama sarieko fela pareko hoit praharika anusar sano paila sahakarika adhyaksha anantababu rai sachiva devendrababa rai koshadhyaksha kumar ramtel prabandhak assharf ally siddhiki sanrakshak gitendrababu jgb rilgayat jana halsamma farra chhan sahakariki purwaupadhyaksha neha paudel gatta sauna mat jilla adalat parsabata nayic parikshan hunda thaharebmojim hune gari hallai eke karod lakh dharautima riha bhin yasaigari sahakarika karmachari radhechandra yadav pani lakh rupaiyan dharautima riha bhaeka chhan'"
      ]
     },
     "execution_count": 69,
     "metadata": {},
     "output_type": "execute_result"
    }
   ],
   "source": [
    "translate_text(nepali_text)"
   ]
  }
 ],
 "metadata": {
  "accelerator": "GPU",
  "colab": {
   "gpuType": "T4",
   "provenance": []
  },
  "kernelspec": {
   "display_name": "Python 3",
   "name": "python3"
  },
  "language_info": {
   "name": "python"
  }
 },
 "nbformat": 4,
 "nbformat_minor": 0
}
