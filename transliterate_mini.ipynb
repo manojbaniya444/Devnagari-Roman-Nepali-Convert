{
 "cells": [
  {
   "cell_type": "code",
   "execution_count": 1,
   "metadata": {},
   "outputs": [],
   "source": [
    "import tensorflow as tf\n",
    "import numpy as np\n",
    "import matplotlib.pyplot as plt\n",
    "import pandas as pd"
   ]
  },
  {
   "cell_type": "code",
   "execution_count": 2,
   "metadata": {},
   "outputs": [],
   "source": [
    "data = pd.read_csv(\"./dataset/mini_10000.csv\")"
   ]
  },
  {
   "cell_type": "code",
   "execution_count": 3,
   "metadata": {},
   "outputs": [
    {
     "data": {
      "text/html": [
       "<div>\n",
       "<style scoped>\n",
       "    .dataframe tbody tr th:only-of-type {\n",
       "        vertical-align: middle;\n",
       "    }\n",
       "\n",
       "    .dataframe tbody tr th {\n",
       "        vertical-align: top;\n",
       "    }\n",
       "\n",
       "    .dataframe thead th {\n",
       "        text-align: right;\n",
       "    }\n",
       "</style>\n",
       "<table border=\"1\" class=\"dataframe\">\n",
       "  <thead>\n",
       "    <tr style=\"text-align: right;\">\n",
       "      <th></th>\n",
       "      <th>unique_identifier</th>\n",
       "      <th>native word</th>\n",
       "      <th>english word</th>\n",
       "    </tr>\n",
       "  </thead>\n",
       "  <tbody>\n",
       "    <tr>\n",
       "      <th>0</th>\n",
       "      <td>nep1</td>\n",
       "      <td>मुस्कुराउँदै</td>\n",
       "      <td>muskuraundai</td>\n",
       "    </tr>\n",
       "    <tr>\n",
       "      <th>1</th>\n",
       "      <td>nep2</td>\n",
       "      <td>मान्दछन्</td>\n",
       "      <td>mandachhan</td>\n",
       "    </tr>\n",
       "    <tr>\n",
       "      <th>2</th>\n",
       "      <td>nep3</td>\n",
       "      <td>भएझैं</td>\n",
       "      <td>bhaejhain</td>\n",
       "    </tr>\n",
       "    <tr>\n",
       "      <th>3</th>\n",
       "      <td>nep4</td>\n",
       "      <td>हराउँछ</td>\n",
       "      <td>haraaunchha</td>\n",
       "    </tr>\n",
       "    <tr>\n",
       "      <th>4</th>\n",
       "      <td>nep5</td>\n",
       "      <td>मुन्टो</td>\n",
       "      <td>munto</td>\n",
       "    </tr>\n",
       "  </tbody>\n",
       "</table>\n",
       "</div>"
      ],
      "text/plain": [
       "  unique_identifier   native word  english word\n",
       "0              nep1  मुस्कुराउँदै  muskuraundai\n",
       "1              nep2      मान्दछन्    mandachhan\n",
       "2              nep3         भएझैं     bhaejhain\n",
       "3              nep4        हराउँछ   haraaunchha\n",
       "4              nep5        मुन्टो         munto"
      ]
     },
     "execution_count": 3,
     "metadata": {},
     "output_type": "execute_result"
    }
   ],
   "source": [
    "data.head()"
   ]
  },
  {
   "cell_type": "code",
   "execution_count": 4,
   "metadata": {},
   "outputs": [
    {
     "data": {
      "text/html": [
       "<div>\n",
       "<style scoped>\n",
       "    .dataframe tbody tr th:only-of-type {\n",
       "        vertical-align: middle;\n",
       "    }\n",
       "\n",
       "    .dataframe tbody tr th {\n",
       "        vertical-align: top;\n",
       "    }\n",
       "\n",
       "    .dataframe thead th {\n",
       "        text-align: right;\n",
       "    }\n",
       "</style>\n",
       "<table border=\"1\" class=\"dataframe\">\n",
       "  <thead>\n",
       "    <tr style=\"text-align: right;\">\n",
       "      <th></th>\n",
       "      <th>unique_identifier</th>\n",
       "      <th>native word</th>\n",
       "      <th>english word</th>\n",
       "    </tr>\n",
       "  </thead>\n",
       "  <tbody>\n",
       "    <tr>\n",
       "      <th>9995</th>\n",
       "      <td>nep9996</td>\n",
       "      <td>सम्बोधनमाथि</td>\n",
       "      <td>sambodhanmathi</td>\n",
       "    </tr>\n",
       "    <tr>\n",
       "      <th>9996</th>\n",
       "      <td>nep9997</td>\n",
       "      <td>बिताएः</td>\n",
       "      <td>bitaeh</td>\n",
       "    </tr>\n",
       "    <tr>\n",
       "      <th>9997</th>\n",
       "      <td>nep9998</td>\n",
       "      <td>ब्राण्डनिष्ठाका</td>\n",
       "      <td>brandnishthaka</td>\n",
       "    </tr>\n",
       "    <tr>\n",
       "      <th>9998</th>\n",
       "      <td>nep9999</td>\n",
       "      <td>एन्ड्रोलोजीमा</td>\n",
       "      <td>andrologyma</td>\n",
       "    </tr>\n",
       "    <tr>\n",
       "      <th>9999</th>\n",
       "      <td>nep10000</td>\n",
       "      <td>छानबिनतर्फ</td>\n",
       "      <td>chhanbintarf</td>\n",
       "    </tr>\n",
       "  </tbody>\n",
       "</table>\n",
       "</div>"
      ],
      "text/plain": [
       "     unique_identifier      native word    english word\n",
       "9995           nep9996      सम्बोधनमाथि  sambodhanmathi\n",
       "9996           nep9997           बिताएः          bitaeh\n",
       "9997           nep9998  ब्राण्डनिष्ठाका  brandnishthaka\n",
       "9998           nep9999    एन्ड्रोलोजीमा     andrologyma\n",
       "9999          nep10000       छानबिनतर्फ    chhanbintarf"
      ]
     },
     "execution_count": 4,
     "metadata": {},
     "output_type": "execute_result"
    }
   ],
   "source": [
    "data.tail()"
   ]
  },
  {
   "cell_type": "code",
   "execution_count": 5,
   "metadata": {},
   "outputs": [],
   "source": [
    "data[\"english word\"] = data[\"english word\"].apply(lambda x: f\"<{x}>\")"
   ]
  },
  {
   "cell_type": "code",
   "execution_count": 6,
   "metadata": {},
   "outputs": [
    {
     "data": {
      "text/html": [
       "<div>\n",
       "<style scoped>\n",
       "    .dataframe tbody tr th:only-of-type {\n",
       "        vertical-align: middle;\n",
       "    }\n",
       "\n",
       "    .dataframe tbody tr th {\n",
       "        vertical-align: top;\n",
       "    }\n",
       "\n",
       "    .dataframe thead th {\n",
       "        text-align: right;\n",
       "    }\n",
       "</style>\n",
       "<table border=\"1\" class=\"dataframe\">\n",
       "  <thead>\n",
       "    <tr style=\"text-align: right;\">\n",
       "      <th></th>\n",
       "      <th>unique_identifier</th>\n",
       "      <th>native word</th>\n",
       "      <th>english word</th>\n",
       "    </tr>\n",
       "  </thead>\n",
       "  <tbody>\n",
       "    <tr>\n",
       "      <th>0</th>\n",
       "      <td>nep1</td>\n",
       "      <td>मुस्कुराउँदै</td>\n",
       "      <td>&lt;muskuraundai&gt;</td>\n",
       "    </tr>\n",
       "    <tr>\n",
       "      <th>1</th>\n",
       "      <td>nep2</td>\n",
       "      <td>मान्दछन्</td>\n",
       "      <td>&lt;mandachhan&gt;</td>\n",
       "    </tr>\n",
       "    <tr>\n",
       "      <th>2</th>\n",
       "      <td>nep3</td>\n",
       "      <td>भएझैं</td>\n",
       "      <td>&lt;bhaejhain&gt;</td>\n",
       "    </tr>\n",
       "    <tr>\n",
       "      <th>3</th>\n",
       "      <td>nep4</td>\n",
       "      <td>हराउँछ</td>\n",
       "      <td>&lt;haraaunchha&gt;</td>\n",
       "    </tr>\n",
       "    <tr>\n",
       "      <th>4</th>\n",
       "      <td>nep5</td>\n",
       "      <td>मुन्टो</td>\n",
       "      <td>&lt;munto&gt;</td>\n",
       "    </tr>\n",
       "  </tbody>\n",
       "</table>\n",
       "</div>"
      ],
      "text/plain": [
       "  unique_identifier   native word    english word\n",
       "0              nep1  मुस्कुराउँदै  <muskuraundai>\n",
       "1              nep2      मान्दछन्    <mandachhan>\n",
       "2              nep3         भएझैं     <bhaejhain>\n",
       "3              nep4        हराउँछ   <haraaunchha>\n",
       "4              nep5        मुन्टो         <munto>"
      ]
     },
     "execution_count": 6,
     "metadata": {},
     "output_type": "execute_result"
    }
   ],
   "source": [
    "data.head()"
   ]
  },
  {
   "cell_type": "code",
   "execution_count": 7,
   "metadata": {},
   "outputs": [],
   "source": [
    "devnagari_words = data[\"native word\"].values\n",
    "english_words = data[\"english word\"].values"
   ]
  },
  {
   "cell_type": "code",
   "execution_count": 8,
   "metadata": {},
   "outputs": [
    {
     "data": {
      "text/plain": [
       "array(['मुस्कुराउँदै', 'मान्दछन्', 'भएझैं', 'हराउँछ', 'मुन्टो', 'सोचेर',\n",
       "       'प्रवृत्तिलाई', 'भट्टाचार्यले', 'सर्दै', 'मूर्तिहरू'], dtype=object)"
      ]
     },
     "execution_count": 8,
     "metadata": {},
     "output_type": "execute_result"
    }
   ],
   "source": [
    "devnagari_words[:10]"
   ]
  },
  {
   "cell_type": "code",
   "execution_count": 9,
   "metadata": {},
   "outputs": [
    {
     "data": {
      "text/plain": [
       "array(['<muskuraundai>', '<mandachhan>', '<bhaejhain>', '<haraaunchha>',\n",
       "       '<munto>', '<sochera>', '<prawrittilai>', '<bhattacharyale>',\n",
       "       '<sardai>', '<murtiharu>'], dtype=object)"
      ]
     },
     "execution_count": 9,
     "metadata": {},
     "output_type": "execute_result"
    }
   ],
   "source": [
    "english_words[:10]"
   ]
  },
  {
   "cell_type": "code",
   "execution_count": 10,
   "metadata": {},
   "outputs": [],
   "source": [
    "devnagari_roman_words = np.concatenate([devnagari_words, english_words])"
   ]
  },
  {
   "cell_type": "code",
   "execution_count": 11,
   "metadata": {},
   "outputs": [
    {
     "data": {
      "text/plain": [
       "20000"
      ]
     },
     "execution_count": 11,
     "metadata": {},
     "output_type": "execute_result"
    }
   ],
   "source": [
    "len(devnagari_roman_words)"
   ]
  },
  {
   "cell_type": "code",
   "execution_count": 12,
   "metadata": {},
   "outputs": [
    {
     "data": {
      "text/plain": [
       "['म', 'ु', 'स', '्', 'क', 'ु', 'र', 'ा', 'उ', 'ँ', 'द', 'ै']"
      ]
     },
     "execution_count": 12,
     "metadata": {},
     "output_type": "execute_result"
    }
   ],
   "source": [
    "list(devnagari_words[0])"
   ]
  },
  {
   "cell_type": "code",
   "execution_count": 13,
   "metadata": {},
   "outputs": [
    {
     "data": {
      "text/plain": [
       "['<', 'm', 'u', 's', 'k', 'u', 'r', 'a', 'u', 'n', 'd', 'a', 'i', '>']"
      ]
     },
     "execution_count": 13,
     "metadata": {},
     "output_type": "execute_result"
    }
   ],
   "source": [
    "list(english_words[0])"
   ]
  },
  {
   "cell_type": "code",
   "execution_count": 14,
   "metadata": {},
   "outputs": [
    {
     "data": {
      "text/plain": [
       "{'ँ', 'उ', 'क', 'द', 'म', 'र', 'स', 'ा', 'ु', 'ै', '्'}"
      ]
     },
     "execution_count": 14,
     "metadata": {},
     "output_type": "execute_result"
    }
   ],
   "source": [
    "set(devnagari_words[0])"
   ]
  },
  {
   "cell_type": "code",
   "execution_count": 15,
   "metadata": {},
   "outputs": [],
   "source": [
    "devnagari_vocab = set()\n",
    "\n",
    "for word in devnagari_words:\n",
    "    devnagari_vocab.update(set(word))"
   ]
  },
  {
   "cell_type": "code",
   "execution_count": 16,
   "metadata": {},
   "outputs": [],
   "source": [
    "roman_nepali_vocab = set()\n",
    "\n",
    "for word in english_words:\n",
    "    roman_nepali_vocab.update(set(word))"
   ]
  },
  {
   "cell_type": "code",
   "execution_count": 17,
   "metadata": {},
   "outputs": [],
   "source": [
    "vocabulary = list(devnagari_vocab.union(roman_nepali_vocab))"
   ]
  },
  {
   "cell_type": "code",
   "execution_count": 18,
   "metadata": {},
   "outputs": [
    {
     "name": "stdout",
     "output_type": "stream",
     "text": [
      "Devnagari vocab size: 61\n",
      "Roman nepali vocab: 28\n",
      "All size: 89\n"
     ]
    }
   ],
   "source": [
    "print(f\"Devnagari vocab size: {len(devnagari_vocab)}\")\n",
    "print(f\"Roman nepali vocab: {len(roman_nepali_vocab)}\")\n",
    "print(f\"All size: {len(vocabulary)}\")"
   ]
  },
  {
   "cell_type": "code",
   "execution_count": 19,
   "metadata": {},
   "outputs": [],
   "source": [
    "from tensorflow.keras.preprocessing.text import Tokenizer"
   ]
  },
  {
   "cell_type": "code",
   "execution_count": 20,
   "metadata": {},
   "outputs": [],
   "source": [
    "tokenizer = Tokenizer(num_words=len(vocabulary), char_level=True, oov_token=\"<OOV>\")\n",
    "\n",
    "tokenizer.fit_on_texts(devnagari_roman_words)"
   ]
  },
  {
   "cell_type": "code",
   "execution_count": 21,
   "metadata": {},
   "outputs": [
    {
     "data": {
      "text/plain": [
       "(array(['मुस्कुराउँदै', 'मान्दछन्', 'भएझैं', 'हराउँछ', 'मुन्टो', 'सोचेर',\n",
       "        'प्रवृत्तिलाई', 'भट्टाचार्यले', 'सर्दै', 'मूर्तिहरू'], dtype=object),\n",
       " array(['<dhungeko>', '<bharatweshthit>', '<wired>', '<pariwarkoko>',\n",
       "        '<vidhiraj>', '<sambodhanmathi>', '<bitaeh>', '<brandnishthaka>',\n",
       "        '<andrologyma>', '<chhanbintarf>'], dtype=object))"
      ]
     },
     "execution_count": 21,
     "metadata": {},
     "output_type": "execute_result"
    }
   ],
   "source": [
    "devnagari_roman_words[:10], devnagari_roman_words[-10:]"
   ]
  },
  {
   "cell_type": "code",
   "execution_count": 22,
   "metadata": {},
   "outputs": [],
   "source": [
    "all_vocab = tokenizer.word_index"
   ]
  },
  {
   "cell_type": "code",
   "execution_count": 23,
   "metadata": {},
   "outputs": [],
   "source": [
    "vocab_size = tokenizer.num_words + 1 # for oov token"
   ]
  },
  {
   "cell_type": "code",
   "execution_count": 24,
   "metadata": {},
   "outputs": [
    {
     "name": "stdout",
     "output_type": "stream",
     "text": [
      "The size of vocab is: 90\n"
     ]
    }
   ],
   "source": [
    "print(f\"The size of vocab is: {vocab_size}\")"
   ]
  },
  {
   "cell_type": "code",
   "execution_count": 25,
   "metadata": {},
   "outputs": [
    {
     "data": {
      "text/plain": [
       "({'<OOV>': 1,\n",
       "  'a': 2,\n",
       "  '<': 3,\n",
       "  '>': 4,\n",
       "  'ा': 5,\n",
       "  'i': 6,\n",
       "  'h': 7,\n",
       "  '्': 8,\n",
       "  'n': 9,\n",
       "  'r': 10,\n",
       "  'र': 11,\n",
       "  'k': 12,\n",
       "  'e': 13,\n",
       "  'क': 14,\n",
       "  'न': 15,\n",
       "  't': 16,\n",
       "  's': 17,\n",
       "  'ि': 18,\n",
       "  'l': 19,\n",
       "  'ल': 20,\n",
       "  'u': 21,\n",
       "  'o': 22,\n",
       "  'े': 23,\n",
       "  'm': 24,\n",
       "  'म': 25,\n",
       "  'स': 26,\n",
       "  'ो': 27,\n",
       "  'd': 28,\n",
       "  'त': 29,\n",
       "  'b': 30,\n",
       "  'ु': 31,\n",
       "  'p': 32,\n",
       "  'य': 33,\n",
       "  'g': 34,\n",
       "  'प': 35,\n",
       "  'ी': 36,\n",
       "  'y': 37,\n",
       "  'ह': 38,\n",
       "  'c': 39,\n",
       "  'व': 40,\n",
       "  'द': 41,\n",
       "  'ब': 42,\n",
       "  'ग': 43,\n",
       "  'ट': 44,\n",
       "  'ज': 45,\n",
       "  'w': 46,\n",
       "  'j': 47,\n",
       "  'ड': 48,\n",
       "  'ू': 49,\n",
       "  'च': 50,\n",
       "  'भ': 51,\n",
       "  'श': 52,\n",
       "  'ँ': 53,\n",
       "  'ै': 54,\n",
       "  'ख': 55,\n",
       "  'थ': 56,\n",
       "  'छ': 57,\n",
       "  'उ': 58,\n",
       "  'अ': 59,\n",
       "  'ए': 60,\n",
       "  'ध': 61,\n",
       "  'इ': 62,\n",
       "  'ई': 63,\n",
       "  'ं': 64,\n",
       "  'फ': 65,\n",
       "  'f': 66,\n",
       "  'v': 67,\n",
       "  'ष': 68,\n",
       "  'ण': 69,\n",
       "  'आ': 70,\n",
       "  'ङ': 71,\n",
       "  'ौ': 72,\n",
       "  'ृ': 73,\n",
       "  'ठ': 74,\n",
       "  'घ': 75,\n",
       "  'z': 76,\n",
       "  'झ': 77,\n",
       "  'ओ': 78,\n",
       "  'ञ': 79,\n",
       "  'ढ': 80,\n",
       "  'q': 81,\n",
       "  'ः': 82,\n",
       "  '॰': 83,\n",
       "  'x': 84,\n",
       "  'औ': 85,\n",
       "  '़': 86,\n",
       "  'ऐ': 87,\n",
       "  'ऊ': 88,\n",
       "  'ऋ': 89,\n",
       "  'ॉ': 90},\n",
       " 90)"
      ]
     },
     "execution_count": 25,
     "metadata": {},
     "output_type": "execute_result"
    }
   ],
   "source": [
    "all_vocab, len(all_vocab)"
   ]
  },
  {
   "cell_type": "code",
   "execution_count": 26,
   "metadata": {},
   "outputs": [
    {
     "name": "stdout",
     "output_type": "stream",
     "text": [
      "Max sequence length for devnagari: 19\n",
      "Max sequence length for roman nepali: 25\n",
      "Max sequence length for both: 25\n"
     ]
    }
   ],
   "source": [
    "max_sequence_devnagari = max([len(word) for word in devnagari_words])\n",
    "\n",
    "max_sequence_roman_nepali = max([len(word) for word in english_words])\n",
    "\n",
    "max_sequence_length = max([len(word) for word in devnagari_roman_words])\n",
    "\n",
    "print(f\"Max sequence length for devnagari: {max_sequence_devnagari}\")\n",
    "print(f\"Max sequence length for roman nepali: {max_sequence_roman_nepali}\")\n",
    "print(f\"Max sequence length for both: {max_sequence_length}\")"
   ]
  },
  {
   "cell_type": "code",
   "execution_count": 27,
   "metadata": {},
   "outputs": [
    {
     "data": {
      "image/png": "[encoded data removed]",
      "text/plain": [
       "<Figure size 1500x500 with 3 Axes>"
      ]
     },
     "metadata": {},
     "output_type": "display_data"
    }
   ],
   "source": [
    "# Sequence lengths for Devnagari words\n",
    "sequence_lengths_devnagari = [len(word) for word in devnagari_words]\n",
    "\n",
    "# Sequence lengths for Roman Nepali words\n",
    "sequence_lengths_roman_nepali = [len(word) for word in english_words]\n",
    "\n",
    "sequence_lengths = [len(word) for word in devnagari_roman_words]\n",
    "\n",
    "# Plot for Devnagari words\n",
    "plt.figure(figsize=(15, 5))\n",
    "\n",
    "plt.subplot(1, 3, 1)\n",
    "plt.hist(sequence_lengths_devnagari, bins=range(1, max_sequence_devnagari + 2), edgecolor='black')\n",
    "plt.title('Devnagari Sequence Length Distribution')\n",
    "plt.xlabel('Sequence Length')\n",
    "plt.ylabel('Frequency')\n",
    "\n",
    "# Plot for Roman Nepali words\n",
    "plt.subplot(1, 3, 2)\n",
    "plt.hist(sequence_lengths_roman_nepali, bins=range(1, max_sequence_roman_nepali + 2), edgecolor='black')\n",
    "plt.title('Roman Nepali Sequence Length Distribution')\n",
    "plt.xlabel('Sequence Length')\n",
    "plt.ylabel('Frequency')\n",
    "\n",
    "# Plot for both combined\n",
    "plt.subplot(1, 3, 3)\n",
    "plt.hist(sequence_lengths, bins=range(1, max_sequence_length + 2), edgecolor='black')\n",
    "plt.title('Combined Sequence Length Distribution')\n",
    "plt.xlabel('Sequence Length')\n",
    "plt.ylabel('Frequency')\n",
    "\n",
    "plt.show()"
   ]
  },
  {
   "cell_type": "code",
   "execution_count": 28,
   "metadata": {},
   "outputs": [],
   "source": [
    "MAX_SEQUENCE_LENGTH = 20"
   ]
  },
  {
   "cell_type": "code",
   "execution_count": 29,
   "metadata": {},
   "outputs": [],
   "source": [
    "x_train = tokenizer.texts_to_sequences(devnagari_words)\n",
    "y_train = tokenizer.texts_to_sequences(english_words)"
   ]
  },
  {
   "cell_type": "code",
   "execution_count": 30,
   "metadata": {},
   "outputs": [
    {
     "name": "stdout",
     "output_type": "stream",
     "text": [
      "Devnagari: ग्रिल्स\n",
      "Devnagari sequence: [43, 8, 11, 18, 20, 8, 26]\n",
      "+++++++++++++++++++++++++++++++++++++++++++\n",
      "Roman Nepali: <grylls>\n",
      "Roman Sequence: [3, 34, 10, 37, 19, 19, 17, 4]\n",
      "\n",
      "===========================================\n",
      "\n",
      "Devnagari: पूर्वतर्फमात्रै\n",
      "Devnagari sequence: [35, 49, 11, 8, 40, 29, 11, 8, 65, 25, 5, 29, 8, 11, 54]\n",
      "+++++++++++++++++++++++++++++++++++++++++++\n",
      "Roman Nepali: <purwatarfamatrai>\n",
      "Roman Sequence: [3, 32, 21, 10, 46, 2, 16, 2, 10, 66, 2, 24, 2, 16, 10, 2, 6, 4]\n",
      "\n",
      "===========================================\n",
      "\n",
      "Devnagari: हाँस्ने\n",
      "Devnagari sequence: [38, 5, 53, 26, 8, 15, 23]\n",
      "+++++++++++++++++++++++++++++++++++++++++++\n",
      "Roman Nepali: <hansne>\n",
      "Roman Sequence: [3, 7, 2, 9, 17, 9, 13, 4]\n",
      "\n",
      "===========================================\n",
      "\n",
      "Devnagari: विभागबाट\n",
      "Devnagari sequence: [40, 18, 51, 5, 43, 42, 5, 44]\n",
      "+++++++++++++++++++++++++++++++++++++++++++\n",
      "Roman Nepali: <vibhagbata>\n",
      "Roman Sequence: [3, 67, 6, 30, 7, 2, 34, 30, 2, 16, 2, 4]\n",
      "\n",
      "===========================================\n",
      "\n",
      "Devnagari: देवरकोन्डा\n",
      "Devnagari sequence: [41, 23, 40, 11, 14, 27, 15, 8, 48, 5]\n",
      "+++++++++++++++++++++++++++++++++++++++++++\n",
      "Roman Nepali: <devarakonda>\n",
      "Roman Sequence: [3, 28, 13, 67, 2, 10, 2, 12, 22, 9, 28, 2, 4]\n",
      "\n",
      "===========================================\n",
      "\n",
      "Devnagari: प्रर्यावरणमा\n",
      "Devnagari sequence: [35, 8, 11, 11, 8, 33, 5, 40, 11, 69, 25, 5]\n",
      "+++++++++++++++++++++++++++++++++++++++++++\n",
      "Roman Nepali: <praryawaranma>\n",
      "Roman Sequence: [3, 32, 10, 2, 10, 37, 2, 46, 2, 10, 2, 9, 24, 2, 4]\n",
      "\n",
      "===========================================\n",
      "\n",
      "Devnagari: चियाबारीका\n",
      "Devnagari sequence: [50, 18, 33, 5, 42, 5, 11, 36, 14, 5]\n",
      "+++++++++++++++++++++++++++++++++++++++++++\n",
      "Roman Nepali: <chiyabarika>\n",
      "Roman Sequence: [3, 39, 7, 6, 37, 2, 30, 2, 10, 6, 12, 2, 4]\n",
      "\n",
      "===========================================\n",
      "\n",
      "Devnagari: गरिँदैछ\n",
      "Devnagari sequence: [43, 11, 18, 53, 41, 54, 57]\n",
      "+++++++++++++++++++++++++++++++++++++++++++\n",
      "Roman Nepali: <garindaichha>\n",
      "Roman Sequence: [3, 34, 2, 10, 6, 9, 28, 2, 6, 39, 7, 7, 2, 4]\n",
      "\n",
      "===========================================\n",
      "\n",
      "Devnagari: विशेषको\n",
      "Devnagari sequence: [40, 18, 52, 23, 68, 14, 27]\n",
      "+++++++++++++++++++++++++++++++++++++++++++\n",
      "Roman Nepali: <wisheshko>\n",
      "Roman Sequence: [3, 46, 6, 17, 7, 13, 17, 7, 12, 22, 4]\n",
      "\n",
      "===========================================\n",
      "\n",
      "Devnagari: बिज्लानी\n",
      "Devnagari sequence: [42, 18, 45, 8, 20, 5, 15, 36]\n",
      "+++++++++++++++++++++++++++++++++++++++++++\n",
      "Roman Nepali: <bijlani>\n",
      "Roman Sequence: [3, 30, 6, 47, 19, 2, 9, 6, 4]\n",
      "\n",
      "===========================================\n",
      "\n"
     ]
    }
   ],
   "source": [
    "random_nums = np.random.randint(0, len(devnagari_words), 10)\n",
    "\n",
    "for i in random_nums:\n",
    "    print(f\"Devnagari: {devnagari_words[i]}\")\n",
    "    print(f\"Devnagari sequence: {x_train[i]}\")\n",
    "    print(\"+++++++++++++++++++++++++++++++++++++++++++\")\n",
    "    print(f\"Roman Nepali: {english_words[i]}\")\n",
    "    print(f\"Roman Sequence: {y_train[i]}\\n\")\n",
    "    print(\"===========================================\\n\")"
   ]
  },
  {
   "cell_type": "code",
   "execution_count": 31,
   "metadata": {},
   "outputs": [],
   "source": [
    "import tensorflow as tf\n",
    "from keras.preprocessing.sequence import pad_sequences"
   ]
  },
  {
   "cell_type": "code",
   "execution_count": 32,
   "metadata": {},
   "outputs": [
    {
     "data": {
      "text/plain": [
       "[[3, 24, 21, 17, 12, 21, 10, 2, 21, 9, 28, 2, 6, 4],\n",
       " [3, 24, 2, 9, 28, 2, 39, 7, 7, 2, 9, 4],\n",
       " [3, 30, 7, 2, 13, 47, 7, 2, 6, 9, 4],\n",
       " [3, 7, 2, 10, 2, 2, 21, 9, 39, 7, 7, 2, 4],\n",
       " [3, 24, 21, 9, 16, 22, 4],\n",
       " [3, 17, 22, 39, 7, 13, 10, 2, 4],\n",
       " [3, 32, 10, 2, 46, 10, 6, 16, 16, 6, 19, 2, 6, 4],\n",
       " [3, 30, 7, 2, 16, 16, 2, 39, 7, 2, 10, 37, 2, 19, 13, 4],\n",
       " [3, 17, 2, 10, 28, 2, 6, 4],\n",
       " [3, 24, 21, 10, 16, 6, 7, 2, 10, 21, 4]]"
      ]
     },
     "execution_count": 32,
     "metadata": {},
     "output_type": "execute_result"
    }
   ],
   "source": [
    "y_train[:10]"
   ]
  },
  {
   "cell_type": "code",
   "execution_count": 33,
   "metadata": {},
   "outputs": [],
   "source": [
    "x_train = pad_sequences(x_train, maxlen=MAX_SEQUENCE_LENGTH, padding=\"pre\", truncating=\"post\")"
   ]
  },
  {
   "cell_type": "code",
   "execution_count": 34,
   "metadata": {},
   "outputs": [
    {
     "data": {
      "text/plain": [
       "array([[ 0,  0,  0,  0,  0,  0,  0,  0, 25, 31, 26,  8, 14, 31, 11,  5,\n",
       "        58, 53, 41, 54],\n",
       "       [ 0,  0,  0,  0,  0,  0,  0,  0,  0,  0,  0,  0, 25,  5, 15,  8,\n",
       "        41, 57, 15,  8],\n",
       "       [ 0,  0,  0,  0,  0,  0,  0,  0,  0,  0,  0,  0,  0,  0,  0, 51,\n",
       "        60, 77, 54, 64],\n",
       "       [ 0,  0,  0,  0,  0,  0,  0,  0,  0,  0,  0,  0,  0,  0, 38, 11,\n",
       "         5, 58, 53, 57],\n",
       "       [ 0,  0,  0,  0,  0,  0,  0,  0,  0,  0,  0,  0,  0,  0, 25, 31,\n",
       "        15,  8, 44, 27],\n",
       "       [ 0,  0,  0,  0,  0,  0,  0,  0,  0,  0,  0,  0,  0,  0,  0, 26,\n",
       "        27, 50, 23, 11],\n",
       "       [ 0,  0,  0,  0,  0,  0,  0,  0, 35,  8, 11, 40, 73, 29,  8, 29,\n",
       "        18, 20,  5, 63],\n",
       "       [ 0,  0,  0,  0,  0,  0,  0,  0, 51, 44,  8, 44,  5, 50,  5, 11,\n",
       "         8, 33, 20, 23],\n",
       "       [ 0,  0,  0,  0,  0,  0,  0,  0,  0,  0,  0,  0,  0,  0,  0, 26,\n",
       "        11,  8, 41, 54],\n",
       "       [ 0,  0,  0,  0,  0,  0,  0,  0,  0,  0,  0, 25, 49, 11,  8, 29,\n",
       "        18, 38, 11, 49]])"
      ]
     },
     "execution_count": 34,
     "metadata": {},
     "output_type": "execute_result"
    }
   ],
   "source": [
    "x_train[:10]"
   ]
  },
  {
   "cell_type": "code",
   "execution_count": 35,
   "metadata": {},
   "outputs": [
    {
     "data": {
      "text/plain": [
       "(array([ 0,  0,  0,  0,  0,  0,  0,  0, 25, 31, 26,  8, 14, 31, 11,  5, 58,\n",
       "        53, 41, 54]),\n",
       " ['म', 'ु', 'स', '्', 'क', 'ु', 'र', 'ा', 'उ', 'ँ', 'द', 'ै'])"
      ]
     },
     "execution_count": 35,
     "metadata": {},
     "output_type": "execute_result"
    }
   ],
   "source": [
    "x_train[0], list(devnagari_words[0])"
   ]
  },
  {
   "cell_type": "code",
   "execution_count": 36,
   "metadata": {},
   "outputs": [
    {
     "data": {
      "text/plain": [
       "(array([ 0,  0,  0,  0,  0,  0,  0,  0, 25, 31, 26,  8, 14, 31, 11,  5, 58,\n",
       "        53, 41, 54]),\n",
       " [3, 24, 21, 17, 12, 21, 10, 2, 21, 9, 28, 2, 6, 4],\n",
       " 'मुस्कुराउँदै',\n",
       " '<muskuraundai>')"
      ]
     },
     "execution_count": 36,
     "metadata": {},
     "output_type": "execute_result"
    }
   ],
   "source": [
    "x_train[0], y_train[0], devnagari_words[0], english_words[0]"
   ]
  },
  {
   "cell_type": "code",
   "execution_count": 37,
   "metadata": {},
   "outputs": [],
   "source": [
    "encoder_input_data = np.array(x_train)\n",
    "\n",
    "decoder_input_data = [seq[:-1] for seq in y_train] # remove last  from each.\n",
    "# the end token > is removed from the decoder input because the decoder input start with start token < and all other token except the last end token > where it start to predict the next token in the sequence.\n",
    "# the decoder target will be the same as decoder input but shifted by one time step which is also known as teacher forcing.\n",
    "\n",
    "decoder_output_data = [seq[1:] for seq in y_train] # remove first from each.\n",
    "# the decoder output is the target sequence shifted by one position to the left compared to the input so the model will learn to predict the next token."
   ]
  },
  {
   "cell_type": "code",
   "execution_count": 38,
   "metadata": {},
   "outputs": [],
   "source": [
    "decoder_input_data = pad_sequences(decoder_input_data, maxlen=MAX_SEQUENCE_LENGTH, padding=\"pre\", truncating=\"post\")\n",
    "decoder_output_data = pad_sequences(decoder_output_data, maxlen=MAX_SEQUENCE_LENGTH, padding=\"pre\", truncating=\"post\")"
   ]
  },
  {
   "cell_type": "code",
   "execution_count": 39,
   "metadata": {},
   "outputs": [
    {
     "name": "stdout",
     "output_type": "stream",
     "text": [
      "[ 0  0  0  0  0  0  0  0 25 31 26  8 14 31 11  5 58 53 41 54]\n",
      "[ 0  0  0  0  0  0  0  3 24 21 17 12 21 10  2 21  9 28  2  6]\n",
      "[ 0  0  0  0  0  0  0 24 21 17 12 21 10  2 21  9 28  2  6  4]\n"
     ]
    }
   ],
   "source": [
    "print(encoder_input_data[0]) # used to fed the encoder model to get the context for the decoder\n",
    "print(decoder_input_data[0]) # used to fed the decoder model to predict the next token in the sequence\n",
    "print(decoder_output_data[0]) # used as the output for decoder for each time step as teacher forcing"
   ]
  },
  {
   "cell_type": "code",
   "execution_count": 40,
   "metadata": {},
   "outputs": [],
   "source": [
    "word_index = tokenizer.word_index\n",
    "index_word = {index: word for word, index in word_index.items()}"
   ]
  },
  {
   "cell_type": "code",
   "execution_count": 41,
   "metadata": {},
   "outputs": [
    {
     "data": {
      "text/plain": [
       "{1: '<OOV>',\n",
       " 2: 'a',\n",
       " 3: '<',\n",
       " 4: '>',\n",
       " 5: 'ा',\n",
       " 6: 'i',\n",
       " 7: 'h',\n",
       " 8: '्',\n",
       " 9: 'n',\n",
       " 10: 'r',\n",
       " 11: 'र',\n",
       " 12: 'k',\n",
       " 13: 'e',\n",
       " 14: 'क',\n",
       " 15: 'न',\n",
       " 16: 't',\n",
       " 17: 's',\n",
       " 18: 'ि',\n",
       " 19: 'l',\n",
       " 20: 'ल',\n",
       " 21: 'u',\n",
       " 22: 'o',\n",
       " 23: 'े',\n",
       " 24: 'm',\n",
       " 25: 'म',\n",
       " 26: 'स',\n",
       " 27: 'ो',\n",
       " 28: 'd',\n",
       " 29: 'त',\n",
       " 30: 'b',\n",
       " 31: 'ु',\n",
       " 32: 'p',\n",
       " 33: 'य',\n",
       " 34: 'g',\n",
       " 35: 'प',\n",
       " 36: 'ी',\n",
       " 37: 'y',\n",
       " 38: 'ह',\n",
       " 39: 'c',\n",
       " 40: 'व',\n",
       " 41: 'द',\n",
       " 42: 'ब',\n",
       " 43: 'ग',\n",
       " 44: 'ट',\n",
       " 45: 'ज',\n",
       " 46: 'w',\n",
       " 47: 'j',\n",
       " 48: 'ड',\n",
       " 49: 'ू',\n",
       " 50: 'च',\n",
       " 51: 'भ',\n",
       " 52: 'श',\n",
       " 53: 'ँ',\n",
       " 54: 'ै',\n",
       " 55: 'ख',\n",
       " 56: 'थ',\n",
       " 57: 'छ',\n",
       " 58: 'उ',\n",
       " 59: 'अ',\n",
       " 60: 'ए',\n",
       " 61: 'ध',\n",
       " 62: 'इ',\n",
       " 63: 'ई',\n",
       " 64: 'ं',\n",
       " 65: 'फ',\n",
       " 66: 'f',\n",
       " 67: 'v',\n",
       " 68: 'ष',\n",
       " 69: 'ण',\n",
       " 70: 'आ',\n",
       " 71: 'ङ',\n",
       " 72: 'ौ',\n",
       " 73: 'ृ',\n",
       " 74: 'ठ',\n",
       " 75: 'घ',\n",
       " 76: 'z',\n",
       " 77: 'झ',\n",
       " 78: 'ओ',\n",
       " 79: 'ञ',\n",
       " 80: 'ढ',\n",
       " 81: 'q',\n",
       " 82: 'ः',\n",
       " 83: '॰',\n",
       " 84: 'x',\n",
       " 85: 'औ',\n",
       " 86: '़',\n",
       " 87: 'ऐ',\n",
       " 88: 'ऊ',\n",
       " 89: 'ऋ',\n",
       " 90: 'ॉ'}"
      ]
     },
     "execution_count": 41,
     "metadata": {},
     "output_type": "execute_result"
    }
   ],
   "source": [
    "index_word"
   ]
  },
  {
   "cell_type": "code",
   "execution_count": 42,
   "metadata": {},
   "outputs": [
    {
     "data": {
      "text/plain": [
       "{'<OOV>': 1,\n",
       " 'a': 2,\n",
       " '<': 3,\n",
       " '>': 4,\n",
       " 'ा': 5,\n",
       " 'i': 6,\n",
       " 'h': 7,\n",
       " '्': 8,\n",
       " 'n': 9,\n",
       " 'r': 10,\n",
       " 'र': 11,\n",
       " 'k': 12,\n",
       " 'e': 13,\n",
       " 'क': 14,\n",
       " 'न': 15,\n",
       " 't': 16,\n",
       " 's': 17,\n",
       " 'ि': 18,\n",
       " 'l': 19,\n",
       " 'ल': 20,\n",
       " 'u': 21,\n",
       " 'o': 22,\n",
       " 'े': 23,\n",
       " 'm': 24,\n",
       " 'म': 25,\n",
       " 'स': 26,\n",
       " 'ो': 27,\n",
       " 'd': 28,\n",
       " 'त': 29,\n",
       " 'b': 30,\n",
       " 'ु': 31,\n",
       " 'p': 32,\n",
       " 'य': 33,\n",
       " 'g': 34,\n",
       " 'प': 35,\n",
       " 'ी': 36,\n",
       " 'y': 37,\n",
       " 'ह': 38,\n",
       " 'c': 39,\n",
       " 'व': 40,\n",
       " 'द': 41,\n",
       " 'ब': 42,\n",
       " 'ग': 43,\n",
       " 'ट': 44,\n",
       " 'ज': 45,\n",
       " 'w': 46,\n",
       " 'j': 47,\n",
       " 'ड': 48,\n",
       " 'ू': 49,\n",
       " 'च': 50,\n",
       " 'भ': 51,\n",
       " 'श': 52,\n",
       " 'ँ': 53,\n",
       " 'ै': 54,\n",
       " 'ख': 55,\n",
       " 'थ': 56,\n",
       " 'छ': 57,\n",
       " 'उ': 58,\n",
       " 'अ': 59,\n",
       " 'ए': 60,\n",
       " 'ध': 61,\n",
       " 'इ': 62,\n",
       " 'ई': 63,\n",
       " 'ं': 64,\n",
       " 'फ': 65,\n",
       " 'f': 66,\n",
       " 'v': 67,\n",
       " 'ष': 68,\n",
       " 'ण': 69,\n",
       " 'आ': 70,\n",
       " 'ङ': 71,\n",
       " 'ौ': 72,\n",
       " 'ृ': 73,\n",
       " 'ठ': 74,\n",
       " 'घ': 75,\n",
       " 'z': 76,\n",
       " 'झ': 77,\n",
       " 'ओ': 78,\n",
       " 'ञ': 79,\n",
       " 'ढ': 80,\n",
       " 'q': 81,\n",
       " 'ः': 82,\n",
       " '॰': 83,\n",
       " 'x': 84,\n",
       " 'औ': 85,\n",
       " '़': 86,\n",
       " 'ऐ': 87,\n",
       " 'ऊ': 88,\n",
       " 'ऋ': 89,\n",
       " 'ॉ': 90}"
      ]
     },
     "execution_count": 42,
     "metadata": {},
     "output_type": "execute_result"
    }
   ],
   "source": [
    "word_index"
   ]
  },
  {
   "cell_type": "code",
   "execution_count": 43,
   "metadata": {},
   "outputs": [
    {
     "data": {
      "text/plain": [
       "array([ 0,  0,  0,  0,  0,  0,  0,  3, 24, 21, 17, 12, 21, 10,  2, 21,  9,\n",
       "       28,  2,  6])"
      ]
     },
     "execution_count": 43,
     "metadata": {},
     "output_type": "execute_result"
    }
   ],
   "source": [
    "decoder_input_data[0]"
   ]
  },
  {
   "cell_type": "code",
   "execution_count": 44,
   "metadata": {},
   "outputs": [
    {
     "name": "stdout",
     "output_type": "stream",
     "text": [
      "Input: <PAD> Output: <PAD>\n",
      "Input: <PAD> Output: <PAD>\n",
      "Input: <PAD> Output: <PAD>\n",
      "Input: <PAD> Output: <PAD>\n",
      "Input: <PAD> Output: <PAD>\n",
      "Input: <PAD> Output: <PAD>\n",
      "Input: <PAD> Output: <PAD>\n",
      "Input: < Output: m\n",
      "Input: m Output: u\n",
      "Input: u Output: s\n",
      "Input: s Output: k\n",
      "Input: k Output: u\n",
      "Input: u Output: r\n",
      "Input: r Output: a\n",
      "Input: a Output: u\n",
      "Input: u Output: n\n",
      "Input: n Output: d\n",
      "Input: d Output: a\n",
      "Input: a Output: i\n",
      "Input: i Output: >\n"
     ]
    }
   ],
   "source": [
    "for i, j in zip(decoder_input_data[0].tolist(), decoder_output_data[0].tolist()):\n",
    "        if i == 0:\n",
    "            print(f\"Input: <PAD> Output: <PAD>\")\n",
    "        else:\n",
    "            print(f\"Input: {index_word[i]} Output: {index_word[j]}\")"
   ]
  },
  {
   "cell_type": "code",
   "execution_count": 45,
   "metadata": {},
   "outputs": [],
   "source": [
    "# encoder_input_data.shape, decoder_input_data.shape, decoder_output_data.shape"
   ]
  },
  {
   "cell_type": "code",
   "execution_count": 46,
   "metadata": {},
   "outputs": [],
   "source": [
    "from tensorflow.keras.layers import Embedding, LSTM, Dense\n",
    "from tensorflow.keras.layers import Input\n",
    "from tensorflow.keras.models import Model"
   ]
  },
  {
   "cell_type": "code",
   "execution_count": 47,
   "metadata": {},
   "outputs": [],
   "source": [
    "EMBEDDING_DIMENSION = 128\n",
    "LATENT_DIMENSION = 256\n",
    "\n",
    "encoder_inputs = Input(shape=(MAX_SEQUENCE_LENGTH, ))\n",
    "\n",
    "encoder_embedding = Embedding(\n",
    "    input_dim=vocab_size,\n",
    "    output_dim=EMBEDDING_DIMENSION,\n",
    ")(encoder_inputs)\n",
    "\n",
    "encoder_lstm, hidden_state, cell_state = LSTM(LATENT_DIMENSION, return_state=True)(encoder_embedding)\n",
    "\n",
    "encoder_states = [hidden_state, cell_state]"
   ]
  },
  {
   "cell_type": "code",
   "execution_count": 48,
   "metadata": {},
   "outputs": [],
   "source": [
    "decoder_inputs = Input(shape=(MAX_SEQUENCE_LENGTH, ))\n",
    "\n",
    "decoder_embedding = Embedding(\n",
    "    input_dim=vocab_size,\n",
    "    output_dim=EMBEDDING_DIMENSION,\n",
    ")(decoder_inputs)\n",
    "\n",
    "decoder_lstm = LSTM(LATENT_DIMENSION, return_state=True, return_sequences=True)\n",
    "\n",
    "decoder_outputs, _, _ = decoder_lstm(decoder_embedding, initial_state=encoder_states)\n",
    "\n",
    "decoder_dense = Dense(vocab_size, activation=\"softmax\")\n",
    "\n",
    "decoder_outputs = decoder_dense(decoder_outputs)"
   ]
  },
  {
   "cell_type": "code",
   "execution_count": 49,
   "metadata": {},
   "outputs": [],
   "source": [
    "model = Model([encoder_inputs, decoder_inputs], decoder_outputs)"
   ]
  },
  {
   "cell_type": "code",
   "execution_count": 50,
   "metadata": {},
   "outputs": [
    {
     "data": {
      "text/html": [
       "<pre style=\"white-space:pre;overflow-x:auto;line-height:normal;font-family:Menlo,'DejaVu Sans Mono',consolas,'Courier New',monospace\"><span style=\"font-weight: bold\">Model: \"functional_1\"</span>\n",
       "</pre>\n"
      ],
      "text/plain": [
       "\u001b[1mModel: \"functional_1\"\u001b[0m\n"
      ]
     },
     "metadata": {},
     "output_type": "display_data"
    },
    {
     "data": {
      "text/html": [
       "<pre style=\"white-space:pre;overflow-x:auto;line-height:normal;font-family:Menlo,'DejaVu Sans Mono',consolas,'Courier New',monospace\">┏━━━━━━━━━━━━━━━━━━━━━┳━━━━━━━━━━━━━━━━━━━┳━━━━━━━━━━━━┳━━━━━━━━━━━━━━━━━━━┓\n",
       "┃<span style=\"font-weight: bold\"> Layer (type)        </span>┃<span style=\"font-weight: bold\"> Output Shape      </span>┃<span style=\"font-weight: bold\">    Param # </span>┃<span style=\"font-weight: bold\"> Connected to      </span>┃\n",
       "┡━━━━━━━━━━━━━━━━━━━━━╇━━━━━━━━━━━━━━━━━━━╇━━━━━━━━━━━━╇━━━━━━━━━━━━━━━━━━━┩\n",
       "│ input_layer         │ (<span style=\"color: #00d7ff; text-decoration-color: #00d7ff\">None</span>, <span style=\"color: #00af00; text-decoration-color: #00af00\">20</span>)        │          <span style=\"color: #00af00; text-decoration-color: #00af00\">0</span> │ -                 │\n",
       "│ (<span style=\"color: #0087ff; text-decoration-color: #0087ff\">InputLayer</span>)        │                   │            │                   │\n",
       "├─────────────────────┼───────────────────┼────────────┼───────────────────┤\n",
       "│ input_layer_1       │ (<span style=\"color: #00d7ff; text-decoration-color: #00d7ff\">None</span>, <span style=\"color: #00af00; text-decoration-color: #00af00\">20</span>)        │          <span style=\"color: #00af00; text-decoration-color: #00af00\">0</span> │ -                 │\n",
       "│ (<span style=\"color: #0087ff; text-decoration-color: #0087ff\">InputLayer</span>)        │                   │            │                   │\n",
       "├─────────────────────┼───────────────────┼────────────┼───────────────────┤\n",
       "│ embedding           │ (<span style=\"color: #00d7ff; text-decoration-color: #00d7ff\">None</span>, <span style=\"color: #00af00; text-decoration-color: #00af00\">20</span>, <span style=\"color: #00af00; text-decoration-color: #00af00\">128</span>)   │     <span style=\"color: #00af00; text-decoration-color: #00af00\">11,520</span> │ input_layer[<span style=\"color: #00af00; text-decoration-color: #00af00\">0</span>][<span style=\"color: #00af00; text-decoration-color: #00af00\">0</span>] │\n",
       "│ (<span style=\"color: #0087ff; text-decoration-color: #0087ff\">Embedding</span>)         │                   │            │                   │\n",
       "├─────────────────────┼───────────────────┼────────────┼───────────────────┤\n",
       "│ embedding_1         │ (<span style=\"color: #00d7ff; text-decoration-color: #00d7ff\">None</span>, <span style=\"color: #00af00; text-decoration-color: #00af00\">20</span>, <span style=\"color: #00af00; text-decoration-color: #00af00\">128</span>)   │     <span style=\"color: #00af00; text-decoration-color: #00af00\">11,520</span> │ input_layer_1[<span style=\"color: #00af00; text-decoration-color: #00af00\">0</span>]… │\n",
       "│ (<span style=\"color: #0087ff; text-decoration-color: #0087ff\">Embedding</span>)         │                   │            │                   │\n",
       "├─────────────────────┼───────────────────┼────────────┼───────────────────┤\n",
       "│ lstm (<span style=\"color: #0087ff; text-decoration-color: #0087ff\">LSTM</span>)         │ [(<span style=\"color: #00d7ff; text-decoration-color: #00d7ff\">None</span>, <span style=\"color: #00af00; text-decoration-color: #00af00\">256</span>),     │    <span style=\"color: #00af00; text-decoration-color: #00af00\">394,240</span> │ embedding[<span style=\"color: #00af00; text-decoration-color: #00af00\">0</span>][<span style=\"color: #00af00; text-decoration-color: #00af00\">0</span>]   │\n",
       "│                     │ (<span style=\"color: #00d7ff; text-decoration-color: #00d7ff\">None</span>, <span style=\"color: #00af00; text-decoration-color: #00af00\">256</span>),      │            │                   │\n",
       "│                     │ (<span style=\"color: #00d7ff; text-decoration-color: #00d7ff\">None</span>, <span style=\"color: #00af00; text-decoration-color: #00af00\">256</span>)]      │            │                   │\n",
       "├─────────────────────┼───────────────────┼────────────┼───────────────────┤\n",
       "│ lstm_1 (<span style=\"color: #0087ff; text-decoration-color: #0087ff\">LSTM</span>)       │ [(<span style=\"color: #00d7ff; text-decoration-color: #00d7ff\">None</span>, <span style=\"color: #00af00; text-decoration-color: #00af00\">20</span>, <span style=\"color: #00af00; text-decoration-color: #00af00\">256</span>), │    <span style=\"color: #00af00; text-decoration-color: #00af00\">394,240</span> │ embedding_1[<span style=\"color: #00af00; text-decoration-color: #00af00\">0</span>][<span style=\"color: #00af00; text-decoration-color: #00af00\">0</span>… │\n",
       "│                     │ (<span style=\"color: #00d7ff; text-decoration-color: #00d7ff\">None</span>, <span style=\"color: #00af00; text-decoration-color: #00af00\">256</span>),      │            │ lstm[<span style=\"color: #00af00; text-decoration-color: #00af00\">0</span>][<span style=\"color: #00af00; text-decoration-color: #00af00\">1</span>],       │\n",
       "│                     │ (<span style=\"color: #00d7ff; text-decoration-color: #00d7ff\">None</span>, <span style=\"color: #00af00; text-decoration-color: #00af00\">256</span>)]      │            │ lstm[<span style=\"color: #00af00; text-decoration-color: #00af00\">0</span>][<span style=\"color: #00af00; text-decoration-color: #00af00\">2</span>]        │\n",
       "├─────────────────────┼───────────────────┼────────────┼───────────────────┤\n",
       "│ dense (<span style=\"color: #0087ff; text-decoration-color: #0087ff\">Dense</span>)       │ (<span style=\"color: #00d7ff; text-decoration-color: #00d7ff\">None</span>, <span style=\"color: #00af00; text-decoration-color: #00af00\">20</span>, <span style=\"color: #00af00; text-decoration-color: #00af00\">90</span>)    │     <span style=\"color: #00af00; text-decoration-color: #00af00\">23,130</span> │ lstm_1[<span style=\"color: #00af00; text-decoration-color: #00af00\">0</span>][<span style=\"color: #00af00; text-decoration-color: #00af00\">0</span>]      │\n",
       "└─────────────────────┴───────────────────┴────────────┴───────────────────┘\n",
       "</pre>\n"
      ],
      "text/plain": [
       "┏━━━━━━━━━━━━━━━━━━━━━┳━━━━━━━━━━━━━━━━━━━┳━━━━━━━━━━━━┳━━━━━━━━━━━━━━━━━━━┓\n",
       "┃\u001b[1m \u001b[0m\u001b[1mLayer (type)       \u001b[0m\u001b[1m \u001b[0m┃\u001b[1m \u001b[0m\u001b[1mOutput Shape     \u001b[0m\u001b[1m \u001b[0m┃\u001b[1m \u001b[0m\u001b[1m   Param #\u001b[0m\u001b[1m \u001b[0m┃\u001b[1m \u001b[0m\u001b[1mConnected to     \u001b[0m\u001b[1m \u001b[0m┃\n",
       "┡━━━━━━━━━━━━━━━━━━━━━╇━━━━━━━━━━━━━━━━━━━╇━━━━━━━━━━━━╇━━━━━━━━━━━━━━━━━━━┩\n",
       "│ input_layer         │ (\u001b[38;5;45mNone\u001b[0m, \u001b[38;5;34m20\u001b[0m)        │          \u001b[38;5;34m0\u001b[0m │ -                 │\n",
       "│ (\u001b[38;5;33mInputLayer\u001b[0m)        │                   │            │                   │\n",
       "├─────────────────────┼───────────────────┼────────────┼───────────────────┤\n",
       "│ input_layer_1       │ (\u001b[38;5;45mNone\u001b[0m, \u001b[38;5;34m20\u001b[0m)        │          \u001b[38;5;34m0\u001b[0m │ -                 │\n",
       "│ (\u001b[38;5;33mInputLayer\u001b[0m)        │                   │            │                   │\n",
       "├─────────────────────┼───────────────────┼────────────┼───────────────────┤\n",
       "│ embedding           │ (\u001b[38;5;45mNone\u001b[0m, \u001b[38;5;34m20\u001b[0m, \u001b[38;5;34m128\u001b[0m)   │     \u001b[38;5;34m11,520\u001b[0m │ input_layer[\u001b[38;5;34m0\u001b[0m][\u001b[38;5;34m0\u001b[0m] │\n",
       "│ (\u001b[38;5;33mEmbedding\u001b[0m)         │                   │            │                   │\n",
       "├─────────────────────┼───────────────────┼────────────┼───────────────────┤\n",
       "│ embedding_1         │ (\u001b[38;5;45mNone\u001b[0m, \u001b[38;5;34m20\u001b[0m, \u001b[38;5;34m128\u001b[0m)   │     \u001b[38;5;34m11,520\u001b[0m │ input_layer_1[\u001b[38;5;34m0\u001b[0m]… │\n",
       "│ (\u001b[38;5;33mEmbedding\u001b[0m)         │                   │            │                   │\n",
       "├─────────────────────┼───────────────────┼────────────┼───────────────────┤\n",
       "│ lstm (\u001b[38;5;33mLSTM\u001b[0m)         │ [(\u001b[38;5;45mNone\u001b[0m, \u001b[38;5;34m256\u001b[0m),     │    \u001b[38;5;34m394,240\u001b[0m │ embedding[\u001b[38;5;34m0\u001b[0m][\u001b[38;5;34m0\u001b[0m]   │\n",
       "│                     │ (\u001b[38;5;45mNone\u001b[0m, \u001b[38;5;34m256\u001b[0m),      │            │                   │\n",
       "│                     │ (\u001b[38;5;45mNone\u001b[0m, \u001b[38;5;34m256\u001b[0m)]      │            │                   │\n",
       "├─────────────────────┼───────────────────┼────────────┼───────────────────┤\n",
       "│ lstm_1 (\u001b[38;5;33mLSTM\u001b[0m)       │ [(\u001b[38;5;45mNone\u001b[0m, \u001b[38;5;34m20\u001b[0m, \u001b[38;5;34m256\u001b[0m), │    \u001b[38;5;34m394,240\u001b[0m │ embedding_1[\u001b[38;5;34m0\u001b[0m][\u001b[38;5;34m0\u001b[0m… │\n",
       "│                     │ (\u001b[38;5;45mNone\u001b[0m, \u001b[38;5;34m256\u001b[0m),      │            │ lstm[\u001b[38;5;34m0\u001b[0m][\u001b[38;5;34m1\u001b[0m],       │\n",
       "│                     │ (\u001b[38;5;45mNone\u001b[0m, \u001b[38;5;34m256\u001b[0m)]      │            │ lstm[\u001b[38;5;34m0\u001b[0m][\u001b[38;5;34m2\u001b[0m]        │\n",
       "├─────────────────────┼───────────────────┼────────────┼───────────────────┤\n",
       "│ dense (\u001b[38;5;33mDense\u001b[0m)       │ (\u001b[38;5;45mNone\u001b[0m, \u001b[38;5;34m20\u001b[0m, \u001b[38;5;34m90\u001b[0m)    │     \u001b[38;5;34m23,130\u001b[0m │ lstm_1[\u001b[38;5;34m0\u001b[0m][\u001b[38;5;34m0\u001b[0m]      │\n",
       "└─────────────────────┴───────────────────┴────────────┴───────────────────┘\n"
      ]
     },
     "metadata": {},
     "output_type": "display_data"
    },
    {
     "data": {
      "text/html": [
       "<pre style=\"white-space:pre;overflow-x:auto;line-height:normal;font-family:Menlo,'DejaVu Sans Mono',consolas,'Courier New',monospace\"><span style=\"font-weight: bold\"> Total params: </span><span style=\"color: #00af00; text-decoration-color: #00af00\">834,650</span> (3.18 MB)\n",
       "</pre>\n"
      ],
      "text/plain": [
       "\u001b[1m Total params: \u001b[0m\u001b[38;5;34m834,650\u001b[0m (3.18 MB)\n"
      ]
     },
     "metadata": {},
     "output_type": "display_data"
    },
    {
     "data": {
      "text/html": [
       "<pre style=\"white-space:pre;overflow-x:auto;line-height:normal;font-family:Menlo,'DejaVu Sans Mono',consolas,'Courier New',monospace\"><span style=\"font-weight: bold\"> Trainable params: </span><span style=\"color: #00af00; text-decoration-color: #00af00\">834,650</span> (3.18 MB)\n",
       "</pre>\n"
      ],
      "text/plain": [
       "\u001b[1m Trainable params: \u001b[0m\u001b[38;5;34m834,650\u001b[0m (3.18 MB)\n"
      ]
     },
     "metadata": {},
     "output_type": "display_data"
    },
    {
     "data": {
      "text/html": [
       "<pre style=\"white-space:pre;overflow-x:auto;line-height:normal;font-family:Menlo,'DejaVu Sans Mono',consolas,'Courier New',monospace\"><span style=\"font-weight: bold\"> Non-trainable params: </span><span style=\"color: #00af00; text-decoration-color: #00af00\">0</span> (0.00 B)\n",
       "</pre>\n"
      ],
      "text/plain": [
       "\u001b[1m Non-trainable params: \u001b[0m\u001b[38;5;34m0\u001b[0m (0.00 B)\n"
      ]
     },
     "metadata": {},
     "output_type": "display_data"
    }
   ],
   "source": [
    "model.summary()"
   ]
  },
  {
   "cell_type": "code",
   "execution_count": 51,
   "metadata": {},
   "outputs": [],
   "source": [
    "model.compile(\n",
    "    optimizer=tf.keras.optimizers.RMSprop(),\n",
    "    loss=tf.keras.losses.SparseCategoricalCrossentropy(),\n",
    "    metrics=[\"accuracy\"]\n",
    ")"
   ]
  },
  {
   "cell_type": "code",
   "execution_count": 52,
   "metadata": {},
   "outputs": [
    {
     "data": {
      "text/plain": [
       "[(None, 20), (None, 20)]"
      ]
     },
     "execution_count": 52,
     "metadata": {},
     "output_type": "execute_result"
    }
   ],
   "source": [
    "model.input_shape"
   ]
  },
  {
   "cell_type": "code",
   "execution_count": 53,
   "metadata": {},
   "outputs": [
    {
     "name": "stdout",
     "output_type": "stream",
     "text": [
      "Epoch 1/100\n",
      "\u001b[1m313/313\u001b[0m \u001b[32m━━━━━━━━━━━━━━━━━━━━\u001b[0m\u001b[37m\u001b[0m \u001b[1m13s\u001b[0m 33ms/step - accuracy: 0.5983 - loss: 1.5957\n",
      "Epoch 2/100\n",
      "\u001b[1m313/313\u001b[0m \u001b[32m━━━━━━━━━━━━━━━━━━━━\u001b[0m\u001b[37m\u001b[0m \u001b[1m12s\u001b[0m 39ms/step - accuracy: 0.6689 - loss: 1.1307\n",
      "Epoch 3/100\n",
      "\u001b[1m313/313\u001b[0m \u001b[32m━━━━━━━━━━━━━━━━━━━━\u001b[0m\u001b[37m\u001b[0m \u001b[1m17s\u001b[0m 53ms/step - accuracy: 0.6796 - loss: 1.0745\n",
      "Epoch 4/100\n",
      "\u001b[1m313/313\u001b[0m \u001b[32m━━━━━━━━━━━━━━━━━━━━\u001b[0m\u001b[37m\u001b[0m \u001b[1m15s\u001b[0m 47ms/step - accuracy: 0.6877 - loss: 1.0415\n",
      "Epoch 5/100\n",
      "\u001b[1m313/313\u001b[0m \u001b[32m━━━━━━━━━━━━━━━━━━━━\u001b[0m\u001b[37m\u001b[0m \u001b[1m15s\u001b[0m 48ms/step - accuracy: 0.6947 - loss: 1.0144\n",
      "Epoch 6/100\n",
      "\u001b[1m313/313\u001b[0m \u001b[32m━━━━━━━━━━━━━━━━━━━━\u001b[0m\u001b[37m\u001b[0m \u001b[1m14s\u001b[0m 45ms/step - accuracy: 0.7002 - loss: 0.9941\n",
      "Epoch 7/100\n",
      "\u001b[1m313/313\u001b[0m \u001b[32m━━━━━━━━━━━━━━━━━━━━\u001b[0m\u001b[37m\u001b[0m \u001b[1m15s\u001b[0m 47ms/step - accuracy: 0.7058 - loss: 0.9761\n",
      "Epoch 8/100\n",
      "\u001b[1m313/313\u001b[0m \u001b[32m━━━━━━━━━━━━━━━━━━━━\u001b[0m\u001b[37m\u001b[0m \u001b[1m15s\u001b[0m 47ms/step - accuracy: 0.7075 - loss: 0.9662\n",
      "Epoch 9/100\n",
      "\u001b[1m313/313\u001b[0m \u001b[32m━━━━━━━━━━━━━━━━━━━━\u001b[0m\u001b[37m\u001b[0m \u001b[1m14s\u001b[0m 46ms/step - accuracy: 0.7105 - loss: 0.9535\n",
      "Epoch 10/100\n",
      "\u001b[1m313/313\u001b[0m \u001b[32m━━━━━━━━━━━━━━━━━━━━\u001b[0m\u001b[37m\u001b[0m \u001b[1m15s\u001b[0m 48ms/step - accuracy: 0.7130 - loss: 0.9432\n",
      "Epoch 11/100\n",
      "\u001b[1m313/313\u001b[0m \u001b[32m━━━━━━━━━━━━━━━━━━━━\u001b[0m\u001b[37m\u001b[0m \u001b[1m15s\u001b[0m 47ms/step - accuracy: 0.7141 - loss: 0.9344\n",
      "Epoch 12/100\n",
      "\u001b[1m313/313\u001b[0m \u001b[32m━━━━━━━━━━━━━━━━━━━━\u001b[0m\u001b[37m\u001b[0m \u001b[1m14s\u001b[0m 46ms/step - accuracy: 0.7158 - loss: 0.9302\n",
      "Epoch 13/100\n",
      "\u001b[1m313/313\u001b[0m \u001b[32m━━━━━━━━━━━━━━━━━━━━\u001b[0m\u001b[37m\u001b[0m \u001b[1m14s\u001b[0m 44ms/step - accuracy: 0.7181 - loss: 0.9184\n",
      "Epoch 14/100\n",
      "\u001b[1m313/313\u001b[0m \u001b[32m━━━━━━━━━━━━━━━━━━━━\u001b[0m\u001b[37m\u001b[0m \u001b[1m13s\u001b[0m 42ms/step - accuracy: 0.7213 - loss: 0.9118\n",
      "Epoch 15/100\n",
      "\u001b[1m313/313\u001b[0m \u001b[32m━━━━━━━━━━━━━━━━━━━━\u001b[0m\u001b[37m\u001b[0m \u001b[1m15s\u001b[0m 47ms/step - accuracy: 0.7231 - loss: 0.9038\n",
      "Epoch 16/100\n",
      "\u001b[1m313/313\u001b[0m \u001b[32m━━━━━━━━━━━━━━━━━━━━\u001b[0m\u001b[37m\u001b[0m \u001b[1m15s\u001b[0m 49ms/step - accuracy: 0.7268 - loss: 0.8909\n",
      "Epoch 17/100\n",
      "\u001b[1m313/313\u001b[0m \u001b[32m━━━━━━━━━━━━━━━━━━━━\u001b[0m\u001b[37m\u001b[0m \u001b[1m16s\u001b[0m 50ms/step - accuracy: 0.7269 - loss: 0.8872\n",
      "Epoch 18/100\n",
      "\u001b[1m313/313\u001b[0m \u001b[32m━━━━━━━━━━━━━━━━━━━━\u001b[0m\u001b[37m\u001b[0m \u001b[1m15s\u001b[0m 49ms/step - accuracy: 0.7287 - loss: 0.8805\n",
      "Epoch 19/100\n",
      "\u001b[1m313/313\u001b[0m \u001b[32m━━━━━━━━━━━━━━━━━━━━\u001b[0m\u001b[37m\u001b[0m \u001b[1m15s\u001b[0m 48ms/step - accuracy: 0.7300 - loss: 0.8749\n",
      "Epoch 20/100\n",
      "\u001b[1m313/313\u001b[0m \u001b[32m━━━━━━━━━━━━━━━━━━━━\u001b[0m\u001b[37m\u001b[0m \u001b[1m16s\u001b[0m 50ms/step - accuracy: 0.7331 - loss: 0.8641\n",
      "Epoch 21/100\n",
      "\u001b[1m313/313\u001b[0m \u001b[32m━━━━━━━━━━━━━━━━━━━━\u001b[0m\u001b[37m\u001b[0m \u001b[1m16s\u001b[0m 51ms/step - accuracy: 0.7362 - loss: 0.8538\n",
      "Epoch 22/100\n",
      "\u001b[1m313/313\u001b[0m \u001b[32m━━━━━━━━━━━━━━━━━━━━\u001b[0m\u001b[37m\u001b[0m \u001b[1m15s\u001b[0m 47ms/step - accuracy: 0.7372 - loss: 0.8500\n",
      "Epoch 23/100\n",
      "\u001b[1m313/313\u001b[0m \u001b[32m━━━━━━━━━━━━━━━━━━━━\u001b[0m\u001b[37m\u001b[0m \u001b[1m15s\u001b[0m 47ms/step - accuracy: 0.7412 - loss: 0.8393\n",
      "Epoch 24/100\n",
      "\u001b[1m313/313\u001b[0m \u001b[32m━━━━━━━━━━━━━━━━━━━━\u001b[0m\u001b[37m\u001b[0m \u001b[1m16s\u001b[0m 50ms/step - accuracy: 0.7435 - loss: 0.8324\n",
      "Epoch 25/100\n",
      "\u001b[1m313/313\u001b[0m \u001b[32m━━━━━━━━━━━━━━━━━━━━\u001b[0m\u001b[37m\u001b[0m \u001b[1m14s\u001b[0m 43ms/step - accuracy: 0.7475 - loss: 0.8204\n",
      "Epoch 26/100\n",
      "\u001b[1m313/313\u001b[0m \u001b[32m━━━━━━━━━━━━━━━━━━━━\u001b[0m\u001b[37m\u001b[0m \u001b[1m13s\u001b[0m 43ms/step - accuracy: 0.7474 - loss: 0.8181\n",
      "Epoch 27/100\n",
      "\u001b[1m313/313\u001b[0m \u001b[32m━━━━━━━━━━━━━━━━━━━━\u001b[0m\u001b[37m\u001b[0m \u001b[1m13s\u001b[0m 41ms/step - accuracy: 0.7485 - loss: 0.8137\n",
      "Epoch 28/100\n",
      "\u001b[1m313/313\u001b[0m \u001b[32m━━━━━━━━━━━━━━━━━━━━\u001b[0m\u001b[37m\u001b[0m \u001b[1m12s\u001b[0m 39ms/step - accuracy: 0.7522 - loss: 0.8016\n",
      "Epoch 29/100\n",
      "\u001b[1m313/313\u001b[0m \u001b[32m━━━━━━━━━━━━━━━━━━━━\u001b[0m\u001b[37m\u001b[0m \u001b[1m13s\u001b[0m 40ms/step - accuracy: 0.7535 - loss: 0.7977\n",
      "Epoch 30/100\n",
      "\u001b[1m313/313\u001b[0m \u001b[32m━━━━━━━━━━━━━━━━━━━━\u001b[0m\u001b[37m\u001b[0m \u001b[1m12s\u001b[0m 39ms/step - accuracy: 0.7564 - loss: 0.7888\n",
      "Epoch 31/100\n",
      "\u001b[1m313/313\u001b[0m \u001b[32m━━━━━━━━━━━━━━━━━━━━\u001b[0m\u001b[37m\u001b[0m \u001b[1m12s\u001b[0m 39ms/step - accuracy: 0.7601 - loss: 0.7775\n",
      "Epoch 32/100\n",
      "\u001b[1m313/313\u001b[0m \u001b[32m━━━━━━━━━━━━━━━━━━━━\u001b[0m\u001b[37m\u001b[0m \u001b[1m12s\u001b[0m 39ms/step - accuracy: 0.7613 - loss: 0.7709\n",
      "Epoch 33/100\n",
      "\u001b[1m313/313\u001b[0m \u001b[32m━━━━━━━━━━━━━━━━━━━━\u001b[0m\u001b[37m\u001b[0m \u001b[1m12s\u001b[0m 39ms/step - accuracy: 0.7640 - loss: 0.7630\n",
      "Epoch 34/100\n",
      "\u001b[1m313/313\u001b[0m \u001b[32m━━━━━━━━━━━━━━━━━━━━\u001b[0m\u001b[37m\u001b[0m \u001b[1m12s\u001b[0m 40ms/step - accuracy: 0.7660 - loss: 0.7574\n",
      "Epoch 35/100\n",
      "\u001b[1m313/313\u001b[0m \u001b[32m━━━━━━━━━━━━━━━━━━━━\u001b[0m\u001b[37m\u001b[0m \u001b[1m12s\u001b[0m 39ms/step - accuracy: 0.7687 - loss: 0.7500\n",
      "Epoch 36/100\n",
      "\u001b[1m313/313\u001b[0m \u001b[32m━━━━━━━━━━━━━━━━━━━━\u001b[0m\u001b[37m\u001b[0m \u001b[1m13s\u001b[0m 40ms/step - accuracy: 0.7734 - loss: 0.7356\n",
      "Epoch 37/100\n",
      "\u001b[1m313/313\u001b[0m \u001b[32m━━━━━━━━━━━━━━━━━━━━\u001b[0m\u001b[37m\u001b[0m \u001b[1m12s\u001b[0m 39ms/step - accuracy: 0.7741 - loss: 0.7291\n",
      "Epoch 38/100\n",
      "\u001b[1m313/313\u001b[0m \u001b[32m━━━━━━━━━━━━━━━━━━━━\u001b[0m\u001b[37m\u001b[0m \u001b[1m12s\u001b[0m 39ms/step - accuracy: 0.7756 - loss: 0.7241\n",
      "Epoch 39/100\n",
      "\u001b[1m313/313\u001b[0m \u001b[32m━━━━━━━━━━━━━━━━━━━━\u001b[0m\u001b[37m\u001b[0m \u001b[1m13s\u001b[0m 40ms/step - accuracy: 0.7788 - loss: 0.7149\n",
      "Epoch 40/100\n",
      "\u001b[1m313/313\u001b[0m \u001b[32m━━━━━━━━━━━━━━━━━━━━\u001b[0m\u001b[37m\u001b[0m \u001b[1m12s\u001b[0m 40ms/step - accuracy: 0.7826 - loss: 0.7038\n",
      "Epoch 41/100\n",
      "\u001b[1m313/313\u001b[0m \u001b[32m━━━━━━━━━━━━━━━━━━━━\u001b[0m\u001b[37m\u001b[0m \u001b[1m12s\u001b[0m 39ms/step - accuracy: 0.7844 - loss: 0.6967\n",
      "Epoch 42/100\n",
      "\u001b[1m313/313\u001b[0m \u001b[32m━━━━━━━━━━━━━━━━━━━━\u001b[0m\u001b[37m\u001b[0m \u001b[1m12s\u001b[0m 40ms/step - accuracy: 0.7870 - loss: 0.6886\n",
      "Epoch 43/100\n",
      "\u001b[1m313/313\u001b[0m \u001b[32m━━━━━━━━━━━━━━━━━━━━\u001b[0m\u001b[37m\u001b[0m \u001b[1m12s\u001b[0m 40ms/step - accuracy: 0.7884 - loss: 0.6807\n",
      "Epoch 44/100\n",
      "\u001b[1m313/313\u001b[0m \u001b[32m━━━━━━━━━━━━━━━━━━━━\u001b[0m\u001b[37m\u001b[0m \u001b[1m13s\u001b[0m 40ms/step - accuracy: 0.7919 - loss: 0.6732\n",
      "Epoch 45/100\n",
      "\u001b[1m313/313\u001b[0m \u001b[32m━━━━━━━━━━━━━━━━━━━━\u001b[0m\u001b[37m\u001b[0m \u001b[1m13s\u001b[0m 40ms/step - accuracy: 0.7955 - loss: 0.6658\n",
      "Epoch 46/100\n",
      "\u001b[1m313/313\u001b[0m \u001b[32m━━━━━━━━━━━━━━━━━━━━\u001b[0m\u001b[37m\u001b[0m \u001b[1m13s\u001b[0m 41ms/step - accuracy: 0.7983 - loss: 0.6567\n",
      "Epoch 47/100\n",
      "\u001b[1m313/313\u001b[0m \u001b[32m━━━━━━━━━━━━━━━━━━━━\u001b[0m\u001b[37m\u001b[0m \u001b[1m13s\u001b[0m 40ms/step - accuracy: 0.8001 - loss: 0.6493\n",
      "Epoch 48/100\n",
      "\u001b[1m313/313\u001b[0m \u001b[32m━━━━━━━━━━━━━━━━━━━━\u001b[0m\u001b[37m\u001b[0m \u001b[1m13s\u001b[0m 40ms/step - accuracy: 0.8027 - loss: 0.6413\n",
      "Epoch 49/100\n",
      "\u001b[1m313/313\u001b[0m \u001b[32m━━━━━━━━━━━━━━━━━━━━\u001b[0m\u001b[37m\u001b[0m \u001b[1m12s\u001b[0m 40ms/step - accuracy: 0.8051 - loss: 0.6348\n",
      "Epoch 50/100\n",
      "\u001b[1m313/313\u001b[0m \u001b[32m━━━━━━━━━━━━━━━━━━━━\u001b[0m\u001b[37m\u001b[0m \u001b[1m12s\u001b[0m 39ms/step - accuracy: 0.8074 - loss: 0.6256\n",
      "Epoch 51/100\n",
      "\u001b[1m313/313\u001b[0m \u001b[32m━━━━━━━━━━━━━━━━━━━━\u001b[0m\u001b[37m\u001b[0m \u001b[1m13s\u001b[0m 40ms/step - accuracy: 0.8097 - loss: 0.6203\n",
      "Epoch 52/100\n",
      "\u001b[1m313/313\u001b[0m \u001b[32m━━━━━━━━━━━━━━━━━━━━\u001b[0m\u001b[37m\u001b[0m \u001b[1m12s\u001b[0m 39ms/step - accuracy: 0.8123 - loss: 0.6122\n",
      "Epoch 53/100\n",
      "\u001b[1m313/313\u001b[0m \u001b[32m━━━━━━━━━━━━━━━━━━━━\u001b[0m\u001b[37m\u001b[0m \u001b[1m13s\u001b[0m 41ms/step - accuracy: 0.8146 - loss: 0.6059\n",
      "Epoch 54/100\n",
      "\u001b[1m313/313\u001b[0m \u001b[32m━━━━━━━━━━━━━━━━━━━━\u001b[0m\u001b[37m\u001b[0m \u001b[1m13s\u001b[0m 41ms/step - accuracy: 0.8173 - loss: 0.5986\n",
      "Epoch 55/100\n",
      "\u001b[1m313/313\u001b[0m \u001b[32m━━━━━━━━━━━━━━━━━━━━\u001b[0m\u001b[37m\u001b[0m \u001b[1m13s\u001b[0m 40ms/step - accuracy: 0.8204 - loss: 0.5852\n",
      "Epoch 56/100\n",
      "\u001b[1m313/313\u001b[0m \u001b[32m━━━━━━━━━━━━━━━━━━━━\u001b[0m\u001b[37m\u001b[0m \u001b[1m13s\u001b[0m 40ms/step - accuracy: 0.8210 - loss: 0.5838\n",
      "Epoch 57/100\n",
      "\u001b[1m313/313\u001b[0m \u001b[32m━━━━━━━━━━━━━━━━━━━━\u001b[0m\u001b[37m\u001b[0m \u001b[1m12s\u001b[0m 40ms/step - accuracy: 0.8233 - loss: 0.5765\n",
      "Epoch 58/100\n",
      "\u001b[1m313/313\u001b[0m \u001b[32m━━━━━━━━━━━━━━━━━━━━\u001b[0m\u001b[37m\u001b[0m \u001b[1m13s\u001b[0m 40ms/step - accuracy: 0.8254 - loss: 0.5723\n",
      "Epoch 59/100\n",
      "\u001b[1m313/313\u001b[0m \u001b[32m━━━━━━━━━━━━━━━━━━━━\u001b[0m\u001b[37m\u001b[0m \u001b[1m12s\u001b[0m 40ms/step - accuracy: 0.8280 - loss: 0.5632\n",
      "Epoch 60/100\n",
      "\u001b[1m313/313\u001b[0m \u001b[32m━━━━━━━━━━━━━━━━━━━━\u001b[0m\u001b[37m\u001b[0m \u001b[1m13s\u001b[0m 40ms/step - accuracy: 0.8287 - loss: 0.5593\n",
      "Epoch 61/100\n",
      "\u001b[1m313/313\u001b[0m \u001b[32m━━━━━━━━━━━━━━━━━━━━\u001b[0m\u001b[37m\u001b[0m \u001b[1m13s\u001b[0m 41ms/step - accuracy: 0.8304 - loss: 0.5532\n",
      "Epoch 62/100\n",
      "\u001b[1m313/313\u001b[0m \u001b[32m━━━━━━━━━━━━━━━━━━━━\u001b[0m\u001b[37m\u001b[0m \u001b[1m13s\u001b[0m 41ms/step - accuracy: 0.8322 - loss: 0.5484\n",
      "Epoch 63/100\n",
      "\u001b[1m313/313\u001b[0m \u001b[32m━━━━━━━━━━━━━━━━━━━━\u001b[0m\u001b[37m\u001b[0m \u001b[1m13s\u001b[0m 40ms/step - accuracy: 0.8345 - loss: 0.5433\n",
      "Epoch 64/100\n",
      "\u001b[1m313/313\u001b[0m \u001b[32m━━━━━━━━━━━━━━━━━━━━\u001b[0m\u001b[37m\u001b[0m \u001b[1m12s\u001b[0m 40ms/step - accuracy: 0.8350 - loss: 0.5396\n",
      "Epoch 65/100\n",
      "\u001b[1m313/313\u001b[0m \u001b[32m━━━━━━━━━━━━━━━━━━━━\u001b[0m\u001b[37m\u001b[0m \u001b[1m13s\u001b[0m 40ms/step - accuracy: 0.8363 - loss: 0.5320\n",
      "Epoch 66/100\n",
      "\u001b[1m313/313\u001b[0m \u001b[32m━━━━━━━━━━━━━━━━━━━━\u001b[0m\u001b[37m\u001b[0m \u001b[1m12s\u001b[0m 40ms/step - accuracy: 0.8386 - loss: 0.5274\n",
      "Epoch 67/100\n",
      "\u001b[1m313/313\u001b[0m \u001b[32m━━━━━━━━━━━━━━━━━━━━\u001b[0m\u001b[37m\u001b[0m \u001b[1m13s\u001b[0m 40ms/step - accuracy: 0.8388 - loss: 0.5250\n",
      "Epoch 68/100\n",
      "\u001b[1m313/313\u001b[0m \u001b[32m━━━━━━━━━━━━━━━━━━━━\u001b[0m\u001b[37m\u001b[0m \u001b[1m13s\u001b[0m 40ms/step - accuracy: 0.8401 - loss: 0.5197\n",
      "Epoch 69/100\n",
      "\u001b[1m313/313\u001b[0m \u001b[32m━━━━━━━━━━━━━━━━━━━━\u001b[0m\u001b[37m\u001b[0m \u001b[1m12s\u001b[0m 40ms/step - accuracy: 0.8426 - loss: 0.5152\n",
      "Epoch 70/100\n",
      "\u001b[1m313/313\u001b[0m \u001b[32m━━━━━━━━━━━━━━━━━━━━\u001b[0m\u001b[37m\u001b[0m \u001b[1m13s\u001b[0m 40ms/step - accuracy: 0.8426 - loss: 0.5101\n",
      "Epoch 71/100\n",
      "\u001b[1m313/313\u001b[0m \u001b[32m━━━━━━━━━━━━━━━━━━━━\u001b[0m\u001b[37m\u001b[0m \u001b[1m12s\u001b[0m 40ms/step - accuracy: 0.8430 - loss: 0.5080\n",
      "Epoch 72/100\n",
      "\u001b[1m313/313\u001b[0m \u001b[32m━━━━━━━━━━━━━━━━━━━━\u001b[0m\u001b[37m\u001b[0m \u001b[1m13s\u001b[0m 41ms/step - accuracy: 0.8461 - loss: 0.5021\n",
      "Epoch 73/100\n",
      "\u001b[1m313/313\u001b[0m \u001b[32m━━━━━━━━━━━━━━━━━━━━\u001b[0m\u001b[37m\u001b[0m \u001b[1m13s\u001b[0m 40ms/step - accuracy: 0.8465 - loss: 0.5005\n",
      "Epoch 74/100\n",
      "\u001b[1m313/313\u001b[0m \u001b[32m━━━━━━━━━━━━━━━━━━━━\u001b[0m\u001b[37m\u001b[0m \u001b[1m12s\u001b[0m 40ms/step - accuracy: 0.8487 - loss: 0.4961\n",
      "Epoch 75/100\n",
      "\u001b[1m313/313\u001b[0m \u001b[32m━━━━━━━━━━━━━━━━━━━━\u001b[0m\u001b[37m\u001b[0m \u001b[1m13s\u001b[0m 40ms/step - accuracy: 0.8485 - loss: 0.4915\n",
      "Epoch 76/100\n",
      "\u001b[1m313/313\u001b[0m \u001b[32m━━━━━━━━━━━━━━━━━━━━\u001b[0m\u001b[37m\u001b[0m \u001b[1m12s\u001b[0m 40ms/step - accuracy: 0.8492 - loss: 0.4894\n",
      "Epoch 77/100\n",
      "\u001b[1m313/313\u001b[0m \u001b[32m━━━━━━━━━━━━━━━━━━━━\u001b[0m\u001b[37m\u001b[0m \u001b[1m13s\u001b[0m 40ms/step - accuracy: 0.8492 - loss: 0.4857\n",
      "Epoch 78/100\n",
      "\u001b[1m313/313\u001b[0m \u001b[32m━━━━━━━━━━━━━━━━━━━━\u001b[0m\u001b[37m\u001b[0m \u001b[1m12s\u001b[0m 40ms/step - accuracy: 0.8515 - loss: 0.4832\n",
      "Epoch 79/100\n",
      "\u001b[1m313/313\u001b[0m \u001b[32m━━━━━━━━━━━━━━━━━━━━\u001b[0m\u001b[37m\u001b[0m \u001b[1m13s\u001b[0m 40ms/step - accuracy: 0.8519 - loss: 0.4799\n",
      "Epoch 80/100\n",
      "\u001b[1m313/313\u001b[0m \u001b[32m━━━━━━━━━━━━━━━━━━━━\u001b[0m\u001b[37m\u001b[0m \u001b[1m12s\u001b[0m 40ms/step - accuracy: 0.8519 - loss: 0.4791\n",
      "Epoch 81/100\n",
      "\u001b[1m313/313\u001b[0m \u001b[32m━━━━━━━━━━━━━━━━━━━━\u001b[0m\u001b[37m\u001b[0m \u001b[1m12s\u001b[0m 40ms/step - accuracy: 0.8528 - loss: 0.4752\n",
      "Epoch 82/100\n",
      "\u001b[1m313/313\u001b[0m \u001b[32m━━━━━━━━━━━━━━━━━━━━\u001b[0m\u001b[37m\u001b[0m \u001b[1m13s\u001b[0m 40ms/step - accuracy: 0.8537 - loss: 0.4736\n",
      "Epoch 83/100\n",
      "\u001b[1m313/313\u001b[0m \u001b[32m━━━━━━━━━━━━━━━━━━━━\u001b[0m\u001b[37m\u001b[0m \u001b[1m13s\u001b[0m 43ms/step - accuracy: 0.8547 - loss: 0.4702\n",
      "Epoch 84/100\n",
      "\u001b[1m313/313\u001b[0m \u001b[32m━━━━━━━━━━━━━━━━━━━━\u001b[0m\u001b[37m\u001b[0m \u001b[1m13s\u001b[0m 40ms/step - accuracy: 0.8555 - loss: 0.4675\n",
      "Epoch 85/100\n",
      "\u001b[1m313/313\u001b[0m \u001b[32m━━━━━━━━━━━━━━━━━━━━\u001b[0m\u001b[37m\u001b[0m \u001b[1m12s\u001b[0m 40ms/step - accuracy: 0.8562 - loss: 0.4645\n",
      "Epoch 86/100\n",
      "\u001b[1m313/313\u001b[0m \u001b[32m━━━━━━━━━━━━━━━━━━━━\u001b[0m\u001b[37m\u001b[0m \u001b[1m13s\u001b[0m 40ms/step - accuracy: 0.8557 - loss: 0.4616\n",
      "Epoch 87/100\n",
      "\u001b[1m313/313\u001b[0m \u001b[32m━━━━━━━━━━━━━━━━━━━━\u001b[0m\u001b[37m\u001b[0m \u001b[1m13s\u001b[0m 41ms/step - accuracy: 0.8563 - loss: 0.4600\n",
      "Epoch 88/100\n",
      "\u001b[1m313/313\u001b[0m \u001b[32m━━━━━━━━━━━━━━━━━━━━\u001b[0m\u001b[37m\u001b[0m \u001b[1m12s\u001b[0m 40ms/step - accuracy: 0.8574 - loss: 0.4567\n",
      "Epoch 89/100\n",
      "\u001b[1m313/313\u001b[0m \u001b[32m━━━━━━━━━━━━━━━━━━━━\u001b[0m\u001b[37m\u001b[0m \u001b[1m12s\u001b[0m 40ms/step - accuracy: 0.8586 - loss: 0.4559\n",
      "Epoch 90/100\n",
      "\u001b[1m313/313\u001b[0m \u001b[32m━━━━━━━━━━━━━━━━━━━━\u001b[0m\u001b[37m\u001b[0m \u001b[1m12s\u001b[0m 40ms/step - accuracy: 0.8583 - loss: 0.4539\n",
      "Epoch 91/100\n",
      "\u001b[1m313/313\u001b[0m \u001b[32m━━━━━━━━━━━━━━━━━━━━\u001b[0m\u001b[37m\u001b[0m \u001b[1m13s\u001b[0m 40ms/step - accuracy: 0.8583 - loss: 0.4528\n",
      "Epoch 92/100\n",
      "\u001b[1m313/313\u001b[0m \u001b[32m━━━━━━━━━━━━━━━━━━━━\u001b[0m\u001b[37m\u001b[0m \u001b[1m13s\u001b[0m 40ms/step - accuracy: 0.8583 - loss: 0.4515\n",
      "Epoch 93/100\n",
      "\u001b[1m313/313\u001b[0m \u001b[32m━━━━━━━━━━━━━━━━━━━━\u001b[0m\u001b[37m\u001b[0m \u001b[1m13s\u001b[0m 41ms/step - accuracy: 0.8589 - loss: 0.4490\n",
      "Epoch 94/100\n",
      "\u001b[1m313/313\u001b[0m \u001b[32m━━━━━━━━━━━━━━━━━━━━\u001b[0m\u001b[37m\u001b[0m \u001b[1m13s\u001b[0m 40ms/step - accuracy: 0.8595 - loss: 0.4451\n",
      "Epoch 95/100\n",
      "\u001b[1m313/313\u001b[0m \u001b[32m━━━━━━━━━━━━━━━━━━━━\u001b[0m\u001b[37m\u001b[0m \u001b[1m13s\u001b[0m 40ms/step - accuracy: 0.8590 - loss: 0.4462\n",
      "Epoch 96/100\n",
      "\u001b[1m313/313\u001b[0m \u001b[32m━━━━━━━━━━━━━━━━━━━━\u001b[0m\u001b[37m\u001b[0m \u001b[1m13s\u001b[0m 40ms/step - accuracy: 0.8607 - loss: 0.4421\n",
      "Epoch 97/100\n",
      "\u001b[1m313/313\u001b[0m \u001b[32m━━━━━━━━━━━━━━━━━━━━\u001b[0m\u001b[37m\u001b[0m \u001b[1m13s\u001b[0m 40ms/step - accuracy: 0.8601 - loss: 0.4419\n",
      "Epoch 98/100\n",
      "\u001b[1m313/313\u001b[0m \u001b[32m━━━━━━━━━━━━━━━━━━━━\u001b[0m\u001b[37m\u001b[0m \u001b[1m12s\u001b[0m 40ms/step - accuracy: 0.8604 - loss: 0.4404\n",
      "Epoch 99/100\n",
      "\u001b[1m313/313\u001b[0m \u001b[32m━━━━━━━━━━━━━━━━━━━━\u001b[0m\u001b[37m\u001b[0m \u001b[1m13s\u001b[0m 40ms/step - accuracy: 0.8608 - loss: 0.4399\n",
      "Epoch 100/100\n",
      "\u001b[1m313/313\u001b[0m \u001b[32m━━━━━━━━━━━━━━━━━━━━\u001b[0m\u001b[37m\u001b[0m \u001b[1m12s\u001b[0m 40ms/step - accuracy: 0.8615 - loss: 0.4376\n"
     ]
    }
   ],
   "source": [
    "model_history = model.fit(\n",
    "    x=[encoder_input_data, decoder_input_data],\n",
    "    y=decoder_output_data,\n",
    "    batch_size=32,\n",
    "    epochs=100,\n",
    "    verbose=1\n",
    ")"
   ]
  },
  {
   "cell_type": "code",
   "execution_count": 54,
   "metadata": {},
   "outputs": [
    {
     "data": {
      "text/plain": [
       "Text(0.5, 0, 'Epochs')"
      ]
     },
     "execution_count": 54,
     "metadata": {},
     "output_type": "execute_result"
    },
    {
     "data": {
      "image/png": "[encoded data removed]",
      "text/plain": [
       "<Figure size 640x480 with 1 Axes>"
      ]
     },
     "metadata": {},
     "output_type": "display_data"
    }
   ],
   "source": [
    "plt.plot(model_history.history[\"loss\"], label=\"Training Loss\")\n",
    "plt.xlabel(\"Epochs\")"
   ]
  },
  {
   "cell_type": "code",
   "execution_count": 55,
   "metadata": {},
   "outputs": [
    {
     "data": {
      "text/plain": [
       "Text(0.5, 0, 'Epochs')"
      ]
     },
     "execution_count": 55,
     "metadata": {},
     "output_type": "execute_result"
    },
    {
     "data": {
      "image/png": "[encoded data removed]",
      "text/plain": [
       "<Figure size 640x480 with 1 Axes>"
      ]
     },
     "metadata": {},
     "output_type": "display_data"
    }
   ],
   "source": [
    "plt.plot(model_history.history[\"accuracy\"], label=\"Training accuracy\")\n",
    "plt.ylabel(\"Accuracy\")\n",
    "plt.xlabel(\"Epochs\")"
   ]
  },
  {
   "cell_type": "code",
   "execution_count": 56,
   "metadata": {},
   "outputs": [
    {
     "data": {
      "text/plain": [
       "['म', 'ा', 'न', '्', 'द', 'छ', 'न', '्']"
      ]
     },
     "execution_count": 56,
     "metadata": {},
     "output_type": "execute_result"
    }
   ],
   "source": [
    "text = \"मान्दछन्\"\n",
    "text = list(text)\n",
    "text"
   ]
  },
  {
   "cell_type": "code",
   "execution_count": 57,
   "metadata": {},
   "outputs": [
    {
     "data": {
      "text/plain": [
       "[[25, 5, 15, 8, 41, 57, 15, 8]]"
      ]
     },
     "execution_count": 57,
     "metadata": {},
     "output_type": "execute_result"
    }
   ],
   "source": [
    "text_sequence = tokenizer.texts_to_sequences([text])\n",
    "text_sequence"
   ]
  },
  {
   "cell_type": "code",
   "execution_count": 58,
   "metadata": {},
   "outputs": [
    {
     "data": {
      "text/plain": [
       "array([[ 0,  0,  0,  0,  0,  0,  0,  0,  0,  0,  0,  0, 25,  5, 15,  8,\n",
       "        41, 57, 15,  8]])"
      ]
     },
     "execution_count": 58,
     "metadata": {},
     "output_type": "execute_result"
    }
   ],
   "source": [
    "padded_sequences = pad_sequences(text_sequence, maxlen=MAX_SEQUENCE_LENGTH, padding=\"pre\")\n",
    "padded_sequences"
   ]
  },
  {
   "cell_type": "code",
   "execution_count": 59,
   "metadata": {},
   "outputs": [],
   "source": [
    "start_token = word_index[\"<\"]\n",
    "end_token = word_index[\">\"]"
   ]
  },
  {
   "cell_type": "code",
   "execution_count": 60,
   "metadata": {},
   "outputs": [
    {
     "data": {
      "text/plain": [
       "(1, 20)"
      ]
     },
     "execution_count": 60,
     "metadata": {},
     "output_type": "execute_result"
    }
   ],
   "source": [
    "decoder_input_sequence = np.zeros((1, MAX_SEQUENCE_LENGTH))\n",
    "decoder_input_sequence.shape"
   ]
  },
  {
   "cell_type": "code",
   "execution_count": 61,
   "metadata": {},
   "outputs": [
    {
     "data": {
      "text/plain": [
       "array([[3., 0., 0., 0., 0., 0., 0., 0., 0., 0., 0., 0., 0., 0., 0., 0.,\n",
       "        0., 0., 0., 0.]])"
      ]
     },
     "execution_count": 61,
     "metadata": {},
     "output_type": "execute_result"
    }
   ],
   "source": [
    "decoder_input_sequence[0, 0] = start_token\n",
    "decoder_input_sequence # just the start token"
   ]
  },
  {
   "cell_type": "code",
   "execution_count": 62,
   "metadata": {},
   "outputs": [
    {
     "name": "stdout",
     "output_type": "stream",
     "text": [
      "\u001b[1m1/1\u001b[0m \u001b[32m━━━━━━━━━━━━━━━━━━━━\u001b[0m\u001b[37m\u001b[0m \u001b[1m0s\u001b[0m 300ms/step\n",
      "\u001b[1m1/1\u001b[0m \u001b[32m━━━━━━━━━━━━━━━━━━━━\u001b[0m\u001b[37m\u001b[0m \u001b[1m0s\u001b[0m 23ms/step\n",
      "\u001b[1m1/1\u001b[0m \u001b[32m━━━━━━━━━━━━━━━━━━━━\u001b[0m\u001b[37m\u001b[0m \u001b[1m0s\u001b[0m 23ms/step\n",
      "\u001b[1m1/1\u001b[0m \u001b[32m━━━━━━━━━━━━━━━━━━━━\u001b[0m\u001b[37m\u001b[0m \u001b[1m0s\u001b[0m 21ms/step\n",
      "\u001b[1m1/1\u001b[0m \u001b[32m━━━━━━━━━━━━━━━━━━━━\u001b[0m\u001b[37m\u001b[0m \u001b[1m0s\u001b[0m 23ms/step\n",
      "\u001b[1m1/1\u001b[0m \u001b[32m━━━━━━━━━━━━━━━━━━━━\u001b[0m\u001b[37m\u001b[0m \u001b[1m0s\u001b[0m 21ms/step\n",
      "\u001b[1m1/1\u001b[0m \u001b[32m━━━━━━━━━━━━━━━━━━━━\u001b[0m\u001b[37m\u001b[0m \u001b[1m0s\u001b[0m 23ms/step\n",
      "\u001b[1m1/1\u001b[0m \u001b[32m━━━━━━━━━━━━━━━━━━━━\u001b[0m\u001b[37m\u001b[0m \u001b[1m0s\u001b[0m 21ms/step\n",
      "\u001b[1m1/1\u001b[0m \u001b[32m━━━━━━━━━━━━━━━━━━━━\u001b[0m\u001b[37m\u001b[0m \u001b[1m0s\u001b[0m 20ms/step\n",
      "\u001b[1m1/1\u001b[0m \u001b[32m━━━━━━━━━━━━━━━━━━━━\u001b[0m\u001b[37m\u001b[0m \u001b[1m0s\u001b[0m 22ms/step\n",
      "\u001b[1m1/1\u001b[0m \u001b[32m━━━━━━━━━━━━━━━━━━━━\u001b[0m\u001b[37m\u001b[0m \u001b[1m0s\u001b[0m 21ms/step\n",
      "\u001b[1m1/1\u001b[0m \u001b[32m━━━━━━━━━━━━━━━━━━━━\u001b[0m\u001b[37m\u001b[0m \u001b[1m0s\u001b[0m 20ms/step\n",
      "\u001b[1m1/1\u001b[0m \u001b[32m━━━━━━━━━━━━━━━━━━━━\u001b[0m\u001b[37m\u001b[0m \u001b[1m0s\u001b[0m 21ms/step\n",
      "\u001b[1m1/1\u001b[0m \u001b[32m━━━━━━━━━━━━━━━━━━━━\u001b[0m\u001b[37m\u001b[0m \u001b[1m0s\u001b[0m 20ms/step\n",
      "\u001b[1m1/1\u001b[0m \u001b[32m━━━━━━━━━━━━━━━━━━━━\u001b[0m\u001b[37m\u001b[0m \u001b[1m0s\u001b[0m 21ms/step\n",
      "\u001b[1m1/1\u001b[0m \u001b[32m━━━━━━━━━━━━━━━━━━━━\u001b[0m\u001b[37m\u001b[0m \u001b[1m0s\u001b[0m 22ms/step\n",
      "\u001b[1m1/1\u001b[0m \u001b[32m━━━━━━━━━━━━━━━━━━━━\u001b[0m\u001b[37m\u001b[0m \u001b[1m0s\u001b[0m 21ms/step\n",
      "\u001b[1m1/1\u001b[0m \u001b[32m━━━━━━━━━━━━━━━━━━━━\u001b[0m\u001b[37m\u001b[0m \u001b[1m0s\u001b[0m 21ms/step\n",
      "\u001b[1m1/1\u001b[0m \u001b[32m━━━━━━━━━━━━━━━━━━━━\u001b[0m\u001b[37m\u001b[0m \u001b[1m0s\u001b[0m 20ms/step\n"
     ]
    },
    {
     "data": {
      "text/plain": [
       "'pradhanbhantrisangk'"
      ]
     },
     "execution_count": 62,
     "metadata": {},
     "output_type": "execute_result"
    }
   ],
   "source": [
    "transliterated_text = []\n",
    "for i in range(MAX_SEQUENCE_LENGTH - 1):\n",
    "    predicted_sequence_logits = model.predict([padded_sequences, decoder_input_sequence])\n",
    "    predicted_label = np.argmax(predicted_sequence_logits[0, i, :])\n",
    "    \n",
    "    if predicted_label == end_token:\n",
    "        break\n",
    "    transliterated_text.append(index_word[predicted_label])\n",
    "        \n",
    "    decoder_input_sequence[0, i + 1] = predicted_label\n",
    "\n",
    "\"\".join(transliterated_text)"
   ]
  },
  {
   "cell_type": "code",
   "execution_count": 63,
   "metadata": {},
   "outputs": [],
   "source": [
    "def transliterate_text_from_devanagari_to_roman(text, model):\n",
    "    text = list(text)\n",
    "    text_sequence = tokenizer.texts_to_sequences([text])\n",
    "    padded_sequences = pad_sequences(text_sequence, maxlen=MAX_SEQUENCE_LENGTH, padding=\"pre\")\n",
    "    \n",
    "    start_token = word_index[\"<\"]\n",
    "    end_token = word_index[\">\"]\n",
    "    \n",
    "    decoder_input_sequence = np.zeros((1, MAX_SEQUENCE_LENGTH))\n",
    "    decoder_input_sequence[0, 0] = start_token\n",
    "    \n",
    "    transliterated_text = []\n",
    "    for i in range(MAX_SEQUENCE_LENGTH - 1):\n",
    "        predicted_sequence_logits = model.predict([padded_sequences, decoder_input_sequence])\n",
    "        predicted_label = np.argmax(predicted_sequence_logits[0, i, :])\n",
    "\n",
    "        if predicted_label == end_token:\n",
    "            break\n",
    "        transliterated_text.append(index_word[predicted_label])\n",
    "\n",
    "        decoder_input_sequence[0, i + 1] = predicted_label\n",
    "\n",
    "    return \"\".join(transliterated_text)"
   ]
  },
  {
   "cell_type": "code",
   "execution_count": 64,
   "metadata": {},
   "outputs": [
    {
     "name": "stdout",
     "output_type": "stream",
     "text": [
      "\u001b[1m1/1\u001b[0m \u001b[32m━━━━━━━━━━━━━━━━━━━━\u001b[0m\u001b[37m\u001b[0m \u001b[1m0s\u001b[0m 21ms/step\n",
      "\u001b[1m1/1\u001b[0m \u001b[32m━━━━━━━━━━━━━━━━━━━━\u001b[0m\u001b[37m\u001b[0m \u001b[1m0s\u001b[0m 20ms/step\n",
      "\u001b[1m1/1\u001b[0m \u001b[32m━━━━━━━━━━━━━━━━━━━━\u001b[0m\u001b[37m\u001b[0m \u001b[1m0s\u001b[0m 21ms/step\n",
      "\u001b[1m1/1\u001b[0m \u001b[32m━━━━━━━━━━━━━━━━━━━━\u001b[0m\u001b[37m\u001b[0m \u001b[1m0s\u001b[0m 22ms/step\n",
      "\u001b[1m1/1\u001b[0m \u001b[32m━━━━━━━━━━━━━━━━━━━━\u001b[0m\u001b[37m\u001b[0m \u001b[1m0s\u001b[0m 20ms/step\n",
      "\u001b[1m1/1\u001b[0m \u001b[32m━━━━━━━━━━━━━━━━━━━━\u001b[0m\u001b[37m\u001b[0m \u001b[1m0s\u001b[0m 23ms/step\n",
      "\u001b[1m1/1\u001b[0m \u001b[32m━━━━━━━━━━━━━━━━━━━━\u001b[0m\u001b[37m\u001b[0m \u001b[1m0s\u001b[0m 20ms/step\n",
      "\u001b[1m1/1\u001b[0m \u001b[32m━━━━━━━━━━━━━━━━━━━━\u001b[0m\u001b[37m\u001b[0m \u001b[1m0s\u001b[0m 20ms/step\n",
      "\u001b[1m1/1\u001b[0m \u001b[32m━━━━━━━━━━━━━━━━━━━━\u001b[0m\u001b[37m\u001b[0m \u001b[1m0s\u001b[0m 20ms/step\n",
      "\u001b[1m1/1\u001b[0m \u001b[32m━━━━━━━━━━━━━━━━━━━━\u001b[0m\u001b[37m\u001b[0m \u001b[1m0s\u001b[0m 20ms/step\n",
      "\u001b[1m1/1\u001b[0m \u001b[32m━━━━━━━━━━━━━━━━━━━━\u001b[0m\u001b[37m\u001b[0m \u001b[1m0s\u001b[0m 19ms/step\n",
      "\u001b[1m1/1\u001b[0m \u001b[32m━━━━━━━━━━━━━━━━━━━━\u001b[0m\u001b[37m\u001b[0m \u001b[1m0s\u001b[0m 22ms/step\n",
      "\u001b[1m1/1\u001b[0m \u001b[32m━━━━━━━━━━━━━━━━━━━━\u001b[0m\u001b[37m\u001b[0m \u001b[1m0s\u001b[0m 20ms/step\n",
      "\u001b[1m1/1\u001b[0m \u001b[32m━━━━━━━━━━━━━━━━━━━━\u001b[0m\u001b[37m\u001b[0m \u001b[1m0s\u001b[0m 19ms/step\n",
      "\u001b[1m1/1\u001b[0m \u001b[32m━━━━━━━━━━━━━━━━━━━━\u001b[0m\u001b[37m\u001b[0m \u001b[1m0s\u001b[0m 20ms/step\n",
      "\u001b[1m1/1\u001b[0m \u001b[32m━━━━━━━━━━━━━━━━━━━━\u001b[0m\u001b[37m\u001b[0m \u001b[1m0s\u001b[0m 20ms/step\n",
      "\u001b[1m1/1\u001b[0m \u001b[32m━━━━━━━━━━━━━━━━━━━━\u001b[0m\u001b[37m\u001b[0m \u001b[1m0s\u001b[0m 21ms/step\n",
      "\u001b[1m1/1\u001b[0m \u001b[32m━━━━━━━━━━━━━━━━━━━━\u001b[0m\u001b[37m\u001b[0m \u001b[1m0s\u001b[0m 21ms/step\n",
      "\u001b[1m1/1\u001b[0m \u001b[32m━━━━━━━━━━━━━━━━━━━━\u001b[0m\u001b[37m\u001b[0m \u001b[1m0s\u001b[0m 19ms/step\n"
     ]
    },
    {
     "data": {
      "text/plain": [
       "'pradhanbhantrisangk'"
      ]
     },
     "execution_count": 64,
     "metadata": {},
     "output_type": "execute_result"
    }
   ],
   "source": [
    "transliterate_text_from_devanagari_to_roman(\"न्\", model)"
   ]
  }
 ],
 "metadata": {
  "kernelspec": {
   "display_name": "Python 3",
   "language": "python",
   "name": "python3"
  },
  "language_info": {
   "codemirror_mode": {
    "name": "ipython",
    "version": 3
   },
   "file_extension": ".py",
   "mimetype": "text/x-python",
   "name": "python",
   "nbconvert_exporter": "python",
   "pygments_lexer": "ipython3",
   "version": "3.12.1"
  }
 },
 "nbformat": 4,
 "nbformat_minor": 2
}
